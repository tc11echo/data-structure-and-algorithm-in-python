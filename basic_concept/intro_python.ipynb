{
  "cells": [
    {
      "cell_type": "markdown",
      "metadata": {
        "id": "view-in-github",
        "colab_type": "text"
      },
      "source": [
        "<a href=\"https://colab.research.google.com/github/tc11echo/data-structure-and-algorithm-in-python/blob/main/basic_concept/intro_python.ipynb\" target=\"_parent\"><img src=\"https://colab.research.google.com/assets/colab-badge.svg\" alt=\"Open In Colab\"/></a>"
      ]
    },
    {
      "cell_type": "markdown",
      "metadata": {
        "id": "Yv8GOKevAgPQ"
      },
      "source": [
        "# Introduction to Python\n",
        "Python is a high-level, dynamically typed multiparadigm programming language. \n",
        "\n",
        "Python code is often said to be almost like pseudocode, since it allows you to express very powerful ideas in very few lines of code while being very readable."
      ]
    },
    {
      "cell_type": "code",
      "execution_count": 50,
      "metadata": {
        "colab": {
          "base_uri": "https://localhost:8080/"
        },
        "id": "DUKmN85bAgPV",
        "outputId": "64fedc04-a949-4e32-c91c-d5e256b2f0a6"
      },
      "outputs": [
        {
          "output_type": "stream",
          "name": "stdout",
          "text": [
            "hello world!\n",
            "hello world!\n"
          ]
        }
      ],
      "source": [
        "# output\n",
        "# In C++, we distinguish a character and a string by single quotes and double quotes, respectively. However, in Python, there is no such a distinction, that is, characters are treated as string, and you can use single quotes or double quotes for strings.\n",
        "print(\"hello world!\") # double quotes\n",
        "print(\"hello world!\") # single quotes. Same as double quotes"
      ]
    },
    {
      "cell_type": "code",
      "execution_count": 51,
      "metadata": {
        "id": "Sa1wHX7zAgPi",
        "outputId": "0326eced-499d-4f7e-8993-d0991bd364ab",
        "colab": {
          "base_uri": "https://localhost:8080/"
        }
      },
      "outputs": [
        {
          "output_type": "stream",
          "name": "stdout",
          "text": [
            "enter a string: 111111111111111\n",
            "Your input string is: 111111111111111\n"
          ]
        }
      ],
      "source": [
        "# input\n",
        "x=input(\"enter a string: \") # x will be of str type, even if the user gives an integer\n",
        "print(\"Your input string is: \"+x)"
      ]
    },
    {
      "cell_type": "markdown",
      "source": [
        "# [Basic Data Type / Data Structure and Operator](../data_structure/python_built_in_data_structure_and_operator.ipynb)\n",
        "* Refer to python_built_in_data_structure_and_operator.ipynb"
      ],
      "metadata": {
        "id": "xWvtOqvv8OeV"
      }
    },
    {
      "cell_type": "code",
      "source": [
        "# assignment operator vs deep copy\n",
        "t1=[1,2,3]  # t1 points to the list [1,2,3]\n",
        "t2=t1    # t2 also points to the same list [1,2,3]. So, now, both t1 and t2 point to the same list [1,2,3]\n",
        "t2[0]=-1   # this will also affect t1, since both t1 and t2 point to the same [1,2,3]\n",
        "print(t1, t2)\n",
        "\n",
        "# to check whether two variables point to the same object, we can check their id\n",
        "print(id(t1))\n",
        "print(id(t2))\n",
        "print()\n",
        "\n",
        "\n",
        "t1=[1,2,3]\n",
        "t2=t1.copy() # t2 points to a different [1,2,3] than the one t1 points to\n",
        "t2[0]=-1   # this will NOT affect t1, since both t1 and t2 point to the same [1,2,3]\n",
        "print(t1, t2)\n",
        "print(id(t1))\n",
        "print(id(t2))"
      ],
      "metadata": {
        "id": "sZ-Q9mzR5h40",
        "outputId": "8a221707-ccbf-467a-e3da-9f25dd80001c",
        "colab": {
          "base_uri": "https://localhost:8080/"
        }
      },
      "execution_count": 52,
      "outputs": [
        {
          "output_type": "stream",
          "name": "stdout",
          "text": [
            "[-1, 2, 3] [-1, 2, 3]\n",
            "139956584717200\n",
            "139956584717200\n",
            "\n",
            "[1, 2, 3] [-1, 2, 3]\n",
            "139956584730368\n",
            "139956584778240\n"
          ]
        }
      ]
    },
    {
      "cell_type": "markdown",
      "source": [
        "# Flow Control"
      ],
      "metadata": {
        "id": "35QRhQZdMiwD"
      }
    },
    {
      "cell_type": "code",
      "execution_count": 53,
      "metadata": {
        "id": "u3RA3cfmAgPh",
        "outputId": "c3a4a798-175c-480c-ebf2-51c6652a6338",
        "colab": {
          "base_uri": "https://localhost:8080/"
        }
      },
      "outputs": [
        {
          "output_type": "stream",
          "name": "stdout",
          "text": [
            "b larger than a\n"
          ]
        }
      ],
      "source": [
        "# if statement syntax\n",
        "\"\"\"\n",
        "if expression_1:\n",
        "  statement_1\n",
        "elif expression_2:\n",
        "  statement_2\n",
        "else expression_3:\n",
        "  statement_3\n",
        "\"\"\"\n",
        "\n",
        "a,b=1,2\n",
        "if b>a: \n",
        "  print(\"b larger than a\")\n",
        "elif a>b:  # do not write \"else if\" ! \n",
        "  print(\"a larger than b\")\n",
        "else:\n",
        "  print(\"a=b\")"
      ]
    },
    {
      "cell_type": "code",
      "execution_count": 54,
      "metadata": {
        "id": "wVMZZ3ENAgPh",
        "outputId": "e577ad15-61df-4e2a-eaa7-1ea0aa6358ba",
        "colab": {
          "base_uri": "https://localhost:8080/"
        }
      },
      "outputs": [
        {
          "output_type": "stream",
          "name": "stdout",
          "text": [
            "b larger than a\n"
          ]
        }
      ],
      "source": [
        "# if the body of a condition contains one line only, we can put this line right after the colon, like so:\n",
        "\"\"\"\n",
        "if expression_1: statement_1\n",
        "elif expression_2: statement_2\n",
        "else expression_3: statement_3\n",
        "\"\"\"\n",
        "\n",
        "a,b=1,2\n",
        "if b>a: print(\"b larger than a\")\n",
        "elif a>b: print(\"a larger than b\")\n",
        "else: print(\"a=b\")"
      ]
    },
    {
      "cell_type": "code",
      "execution_count": 55,
      "metadata": {
        "id": "gWga0GWmAgPh",
        "outputId": "c1d92823-ff88-49d0-ae31-11bc16dac4a6",
        "colab": {
          "base_uri": "https://localhost:8080/"
        }
      },
      "outputs": [
        {
          "output_type": "stream",
          "name": "stdout",
          "text": [
            "b larger than a\n",
            "b larger than a\n"
          ]
        }
      ],
      "source": [
        "# short-hand `if-else`. This is like the ternary operator in C++, but the syntax is different\n",
        "\"\"\"\n",
        "statement_1 if expression_1 else statement_2 if expression_2 else statement_3\n",
        "\"\"\"\n",
        "\n",
        "print(\"b larger than a\") if b>a else print(\"b NOT larger than a\")\n",
        "\n",
        "# unlike the ternary operator in C++, in python we can have have multiple else cases:\n",
        "print(\"b larger than a\") if b>a else print(\"a larger than b\") if a >b else print(\"a=b\")"
      ]
    },
    {
      "cell_type": "code",
      "execution_count": 56,
      "metadata": {
        "id": "K37oMwokAgPf",
        "outputId": "eba9e1e0-81cf-44ed-cc11-1b02f9fe640f",
        "colab": {
          "base_uri": "https://localhost:8080/"
        }
      },
      "outputs": [
        {
          "output_type": "stream",
          "name": "stdout",
          "text": [
            "cat\n",
            "dog\n",
            "monkey\n"
          ]
        }
      ],
      "source": [
        "# for loop\n",
        "\"\"\"\n",
        "for iteration_variable in list:\n",
        "  statement_1\n",
        "\"\"\"\n",
        "\n",
        "# You can loop over the elements of a list like this:\n",
        "animals=[\"cat\", \"dog\", \"monkey\"]\n",
        "for animal in animals: # the colon \":\" at the end is necessary\n",
        "  print(animal) # Python does not use curly braces to indicate the body of a loop. Instead, it uses indentation. Here, we use a tab for indentation, but you can use a space or several spaces instead---as long as there are is indentation that will do. But the most common choice is a tab"
      ]
    },
    {
      "cell_type": "code",
      "execution_count": 57,
      "metadata": {
        "id": "06zJIlsQAgPf",
        "outputId": "a951ce30-a5fb-4eee-f71d-3a68aae60856",
        "colab": {
          "base_uri": "https://localhost:8080/"
        }
      },
      "outputs": [
        {
          "output_type": "stream",
          "name": "stdout",
          "text": [
            "1 \t2 \t3 \t4 \t5 \t6 \t7 \t8 \t9 \t\n",
            "2 \t4 \t6 \t8 \t10 \t12 \t14 \t16 \t18 \t\n",
            "3 \t6 \t9 \t12 \t15 \t18 \t21 \t24 \t27 \t\n",
            "4 \t8 \t12 \t16 \t20 \t24 \t28 \t32 \t36 \t\n",
            "5 \t10 \t15 \t20 \t25 \t30 \t35 \t40 \t45 \t\n",
            "6 \t12 \t18 \t24 \t30 \t36 \t42 \t48 \t54 \t\n",
            "7 \t14 \t21 \t28 \t35 \t42 \t49 \t56 \t63 \t\n",
            "8 \t16 \t24 \t32 \t40 \t48 \t56 \t64 \t72 \t\n",
            "9 \t18 \t27 \t36 \t45 \t54 \t63 \t72 \t81 \t\n"
          ]
        }
      ],
      "source": [
        "# nested for loops\n",
        "# like other languages, we can also define nested for loops\n",
        "# EX: print a multiplication table\n",
        "\n",
        "for i in range(1,10):\n",
        "  for j in range(1,10):\n",
        "    print(i*j,\"\\t\", end=\"\")\n",
        "  print()\n",
        "\n",
        "# 1  2  3  4  5  6  7  8  9  \n",
        "# 2  4  6  8  10  12  14  16  18  \n",
        "# 3  6  9  12  15  18  21  24  27  \n",
        "# 4  8  12  16  20  24  28  32  36  \n",
        "# 5  10  15  20  25  30  35  40  45  \n",
        "# 6  12  18  24  30  36  42  48  54  \n",
        "# 7  14  21  28  35  42  49  56  63  \n",
        "# 8  16  24  32  40  48  56  64  72  \n",
        "# 9  18  27  36  45  54  63  72  81  "
      ]
    },
    {
      "cell_type": "code",
      "execution_count": 58,
      "metadata": {
        "id": "603DdfYhAgPg",
        "outputId": "720046bb-e3af-4f41-8918-aad30736293d",
        "colab": {
          "base_uri": "https://localhost:8080/"
        }
      },
      "outputs": [
        {
          "output_type": "stream",
          "name": "stdout",
          "text": [
            "5\n",
            "4\n",
            "3\n",
            "2\n",
            "1\n"
          ]
        }
      ],
      "source": [
        "# while loop\n",
        "\"\"\"\n",
        "while expression_1:\n",
        "  statement_1\n",
        "\"\"\"\n",
        "\n",
        "# the following while loop print the digits of a numbers in reverse\n",
        "n=12345\n",
        "while n>0:\n",
        "  print(n%10) # get the last digit\n",
        "  n//=10 # remove the last digit"
      ]
    },
    {
      "cell_type": "markdown",
      "source": [
        "# Function"
      ],
      "metadata": {
        "id": "lHMKQnxuMari"
      }
    },
    {
      "cell_type": "code",
      "execution_count": 59,
      "metadata": {
        "id": "Q5tFmz4LAgPj",
        "outputId": "42f1e385-aa9b-4c98-9374-db5195a6707a",
        "colab": {
          "base_uri": "https://localhost:8080/"
        }
      },
      "outputs": [
        {
          "output_type": "stream",
          "name": "stdout",
          "text": [
            "negative\n",
            "zero\n",
            "positive\n",
            "4\n"
          ]
        }
      ],
      "source": [
        "# function in python\n",
        "\"\"\"\n",
        "def function_name_0(parameter_1, parameter_2:data_type, parameter_3=default_value):\n",
        "  statement_0\n",
        "  return expression_0\n",
        "\n",
        "function_name_1(argument_1,parameter_2)\n",
        "\n",
        "\n",
        "def function_name_1(parameter_1):\n",
        "  statement_1\n",
        "  return expression_1\n",
        "\n",
        "\n",
        "def function_name_2(parameter_2:data_type):\n",
        "  statement_2\n",
        "  return expression_2\n",
        "\n",
        "\n",
        "def function_name_3(parameter_3=default_value):\n",
        "  statement_3\n",
        "  return expression_3\n",
        "\n",
        "def function_to_be_implement():  # in python, the function body must not be empty. To get around this, use \"pass\" keyword\n",
        "  pass               # without this, there will be error\n",
        "\"\"\"\n",
        "\n",
        "# python functions are defined using the def keyword\n",
        "def func(x):\n",
        "  if x>0:\n",
        "    return \"positive\"\n",
        "  elif x<0:\n",
        "    return \"negative\"\n",
        "  else:\n",
        "    return \"zero\"\n",
        "\n",
        "for x in [-1, 0, 1]:\n",
        "  print(func(x))\n",
        "\n",
        "\n",
        "# \":\" in \"<variable>:<data type>\" limited the parameter data type\"\n",
        "def func(x:int):\n",
        "  print(x)\n",
        "\n",
        "func(4)"
      ]
    },
    {
      "cell_type": "code",
      "execution_count": 60,
      "metadata": {
        "id": "bbz_nuiTAgPk",
        "outputId": "8f42f38f-3b02-4767-aa01-487a038013ea",
        "colab": {
          "base_uri": "https://localhost:8080/"
        }
      },
      "outputs": [
        {
          "output_type": "stream",
          "name": "stdout",
          "text": [
            "(100, 1000)\n"
          ]
        }
      ],
      "source": [
        "# if a function needs to returns several values, we can allow it to return a tuple instead:\n",
        "def square_cube(x):\n",
        "  return x**2, x**3 # return a tuple of two numbers\n",
        "  # return (x**2, x**3) # we can also add a pair of parentheses, but it\"s optional\n",
        "\n",
        "print(square_cube(10)) # print a tuple, since the function returns a tuple"
      ]
    },
    {
      "cell_type": "code",
      "execution_count": 61,
      "metadata": {
        "id": "n8yk9i5SAgPk",
        "outputId": "6fbb2a4e-78ef-465b-f376-39c6f28a62f8",
        "colab": {
          "base_uri": "https://localhost:8080/"
        }
      },
      "outputs": [
        {
          "output_type": "stream",
          "name": "stdout",
          "text": [
            "Hello, Alice\n",
            "HELLO, BOB!\n"
          ]
        }
      ],
      "source": [
        "# default parameters\n",
        "# We will often define functions to take optional arguments, like so:\n",
        "def hello(name, loud=False): # the parameter loud defaults to False. That is, if the user doesn\"t provide this parameter, then the value will be False\n",
        "  if loud: # if loud is True\n",
        "    print(f\"HELLO, {name.upper()}!\") # upper() method changes all lower-case letters to upper-case\n",
        "  else: # if loud is False\n",
        "    print(f\"Hello, {name}\")\n",
        "\n",
        "hello(\"Alice\") # Prints \"Hello, Alice\"\n",
        "hello(\"Bob\", loud=True)  # Prints \"HELLO, BOB!\""
      ]
    },
    {
      "cell_type": "code",
      "source": [
        "\"\"\"\n",
        "def function_name(*infinite_parameter):   # all arguments will cobine into a tuple and store in infinite_parameter\n",
        "  statement\n",
        "  return expression\n",
        "\n",
        "function_name_1(argument_1,argument_2,argument_3)\n",
        "\"\"\"\n",
        "\n",
        "def func(*ns):\n",
        "  print(ns)\n",
        "func(3,4)\n",
        "\n",
        "def avg(*ns):\n",
        "  sum=0\n",
        "  for x in ns:\n",
        "    sum+=x\n",
        "    print(sum/len(ns))  \n",
        "avg(3,4)\n",
        "#avg(3,4,10,55)"
      ],
      "metadata": {
        "colab": {
          "base_uri": "https://localhost:8080/"
        },
        "id": "I93r1gOvl5hy",
        "outputId": "959c5570-768a-4983-8356-18e25ba2ec6e"
      },
      "execution_count": 62,
      "outputs": [
        {
          "output_type": "stream",
          "name": "stdout",
          "text": [
            "(3, 4)\n",
            "1.5\n",
            "3.5\n"
          ]
        }
      ]
    },
    {
      "cell_type": "markdown",
      "source": [
        "# Recursion"
      ],
      "metadata": {
        "id": "TjooeIRma9SJ"
      }
    },
    {
      "cell_type": "code",
      "source": [
        "# recursion\n",
        "# n!=1*2 * .... * n\n",
        "\n",
        "def factorial (x:int, level:int):\n",
        "  if x == 1:\n",
        "    print(\"  \" * level+\" base case x=\"+str(x))\n",
        "    return 1 # base case\n",
        "  else:\n",
        "    print(\"  \" * level+\" at level :\"+str(level)+\" x=\"+str(x))\n",
        "    f=factorial(x-1, level+1)\n",
        "    print(\"  \" * level+\" at level :\"+str(level)+\" f=\"+str(f))\n",
        "    r=x * f\n",
        "    print(\"  \" * level+\" at level : \"+str(level)+\" before return :\"+str(r))\n",
        "    return r # iteration\n",
        "\n",
        "r=factorial(5, 0)\n",
        "print(f\"what is r: {r}\")"
      ],
      "metadata": {
        "id": "sy_ak08vJb8P",
        "outputId": "e34d97dd-13a3-438e-8fca-0f2ff1ffed26",
        "colab": {
          "base_uri": "https://localhost:8080/"
        }
      },
      "execution_count": 63,
      "outputs": [
        {
          "output_type": "stream",
          "name": "stdout",
          "text": [
            " at level :0 x=5\n",
            "   at level :1 x=4\n",
            "     at level :2 x=3\n",
            "       at level :3 x=2\n",
            "         base case x=1\n",
            "       at level :3 f=1\n",
            "       at level : 3 before return :2\n",
            "     at level :2 f=2\n",
            "     at level : 2 before return :6\n",
            "   at level :1 f=6\n",
            "   at level : 1 before return :24\n",
            " at level :0 f=24\n",
            " at level : 0 before return :120\n",
            "what is r: 120\n"
          ]
        }
      ]
    },
    {
      "cell_type": "markdown",
      "source": [
        "# Lambda function\n",
        "* anonymous function (i.e. no function name)\n",
        "* one expression\n",
        "* automatically return result no need keyword `return`"
      ],
      "metadata": {
        "id": "HvswRxYLXWz6"
      }
    },
    {
      "cell_type": "code",
      "source": [
        "# lambda function\n",
        "\"\"\"\n",
        "function_name=lambda parameter_1, parameter_2: expression\n",
        "\n",
        "(lambda parameter_1, parameter_2: expression)(argument_1, argument_2)\n",
        "\"\"\"\n",
        "\n",
        "f=lambda x:x+1\n",
        "print(f(1))\n",
        "print(f(2))"
      ],
      "metadata": {
        "id": "EC5PbxjqXfmt",
        "outputId": "f4c7e938-db5f-40f3-cf61-fec5c6bcaac3",
        "colab": {
          "base_uri": "https://localhost:8080/"
        }
      },
      "execution_count": 64,
      "outputs": [
        {
          "output_type": "stream",
          "name": "stdout",
          "text": [
            "2\n",
            "3\n"
          ]
        }
      ]
    },
    {
      "cell_type": "code",
      "source": [
        "\"\"\"\n",
        "# map() applies the function to all the elements of the sequence seq. It returns a new list with the elements changed by func\n",
        "map(func, seq)\n",
        "\"\"\"\n",
        "\n",
        "def cal_fahrenheit(T):\n",
        "  return ((float(9)/5)*T+32)\n",
        "def cal_celsius(T):\n",
        "  return (float(5)/9)*(T-32)\n",
        "\n",
        "original_list=[36.5,38.5,37.5,36,38,35]\n",
        "fahrenheit_obj=map(cal_fahrenheit, original_list) #return object\n",
        "celsius_obj=map(cal_celsius, fahrenheit_obj) #object mapped twice will become empty\n",
        "\n",
        "print(original_list)\n",
        "\n",
        "print(fahrenheit_obj)\n",
        "print(list(fahrenheit_obj))\n",
        "\n",
        "print(celsius_obj)\n",
        "print(list(celsius_obj))"
      ],
      "metadata": {
        "id": "FYKwwgAo1tB0",
        "outputId": "4eaade9e-68cc-43d1-b78c-f3962fb98e2b",
        "colab": {
          "base_uri": "https://localhost:8080/"
        }
      },
      "execution_count": 65,
      "outputs": [
        {
          "output_type": "stream",
          "name": "stdout",
          "text": [
            "[36.5, 38.5, 37.5, 36, 38, 35]\n",
            "<map object at 0x7f4a2e8aa250>\n",
            "[97.7, 101.3, 99.5, 96.8, 100.4, 95.0]\n",
            "<map object at 0x7f4a2e8aa1d0>\n",
            "[]\n"
          ]
        }
      ]
    },
    {
      "cell_type": "code",
      "source": [
        "original_list = [39.2, 36.5, 37.3, 37.8]\n",
        "\n",
        "fahrenheit_obj = map((lambda x: (float(9)/5)*x+32), original_list)\n",
        "\n",
        "print(original_list)\n",
        "print(list(fahrenheit_obj))"
      ],
      "metadata": {
        "id": "MC_gAcCa1zxn",
        "outputId": "c987b3c7-e51d-4c60-da46-7ba924007ecc",
        "colab": {
          "base_uri": "https://localhost:8080/"
        }
      },
      "execution_count": 66,
      "outputs": [
        {
          "output_type": "stream",
          "name": "stdout",
          "text": [
            "[39.2, 36.5, 37.3, 37.8]\n",
            "[102.56, 97.7, 99.14, 100.03999999999999]\n"
          ]
        }
      ]
    },
    {
      "cell_type": "code",
      "execution_count": 67,
      "metadata": {
        "id": "uqSjssoIAgPk",
        "outputId": "be9bad2a-fe68-4de0-e2ea-12854f700ea4",
        "colab": {
          "base_uri": "https://localhost:8080/"
        }
      },
      "outputs": [
        {
          "output_type": "stream",
          "name": "stdout",
          "text": [
            "15\n",
            "5\n",
            "1\n"
          ]
        }
      ],
      "source": [
        "# aggregate functions: sum, max, and min\n",
        "# in fact, we\"ll learn more powerful aggregate functions when we talk about Numpy, a data science package in python. So, we\"ll just briefly talk about sum, max and min that are python\"s built-in.\n",
        "\n",
        "t=[1,2,3,4,5]\n",
        "print(sum(t)) # 15. sum takes an iterable as input. So, do not give several numbers as input! We need to put these numbers in a list!\n",
        "# print(sum(1,2,3)) # error! We need to put the numbers in a list. Here, we are giving three inputs, rather than a single input of list type!\n",
        "print(max(t)) # 5\n",
        "print(min(t)) # 1"
      ]
    },
    {
      "cell_type": "markdown",
      "metadata": {
        "id": "hu2DT4OyAgPl"
      },
      "source": [
        "# OOP in python\n",
        "unlike C++, python doesn\"t have access specifier (i.e., no `private`, `public` keywords), but u can follow the naming rule below to have better identification:\n",
        "* vari --> public\n",
        "* _vari --> protected\n",
        "* __vari --> private\n",
        "* func --> public\n",
        "* _func --> private\n",
        "* \\_\\_func__ --> only can be use, never create\n"
      ]
    },
    {
      "cell_type": "code",
      "execution_count": 68,
      "metadata": {
        "id": "YwPq5YivAgPl",
        "outputId": "95aa39e3-6cb2-4c9b-db42-131ba87f5223",
        "colab": {
          "base_uri": "https://localhost:8080/"
        }
      },
      "outputs": [
        {
          "output_type": "stream",
          "name": "stdout",
          "text": [
            "100\n",
            "bob is 4 years old\n",
            "bob eats meat\n"
          ]
        }
      ],
      "source": [
        "\"\"\"\n",
        "class class_name:\n",
        "  new_const=100\n",
        "  def __init__(self, parameter_1):\n",
        "    self.instance_variable=parameter_1\n",
        "\n",
        "  # instance method\n",
        "  def instance_method_name(self):\n",
        "    statment_1\n",
        "\"\"\"\n",
        "\n",
        "class Dog:\n",
        "  new_const=100\n",
        "  def __init__(self, name, age):\n",
        "    # name and age are instance attributes\n",
        "    self.name=name\n",
        "    self.age=age\n",
        "\n",
        "  # instance method\n",
        "  def description(self):\n",
        "    return f\"{self.name} is {self.age} years old\"\n",
        "\n",
        "  # instance method\n",
        "  def eat(self, food):\n",
        "    return f\"{self.name} eats {food}\"\n",
        "\n",
        "d1=Dog(\"bob\", 4) \n",
        "print(d1.new_const)\n",
        "print(d1.description())\n",
        "print(d1.eat(\"meat\"))"
      ]
    },
    {
      "cell_type": "code",
      "source": [
        "# operator overloading\n",
        "class Student:\n",
        "  def __init__(self, name, age, mark):\n",
        "    self.name=name\n",
        "    self.age=age\n",
        "    self.dsa_score=mark\n",
        "\n",
        "  def __eq__(self, other): #==\n",
        "    print(f\"Inside __eq__: {other}\")\n",
        "    if isinstance(other, Student):\n",
        "      return self.dsa_score == other.dsa_score\n",
        "    raise Exception(f\"{type(other)} not match !\")\n",
        "\n",
        "  def __lt__(self, other): #<\n",
        "    if isinstance(other, Student):\n",
        "      print(\"this is same instance .... \")\n",
        "      return self.dsa_score<other.dsa_score\n",
        "    raise Exception(f\"{type(other)} not match !\")\n",
        "\n",
        "  def __le__(self, other): #<=\n",
        "    return self.dsa_score <= other.dsa_score\n",
        "\n",
        "  def __gt__(self, other): #>\n",
        "    pass\n",
        "\n",
        "  def __ge__(self, other): #>=\n",
        "    pass\n",
        "\n",
        "  def __ne__(self, other): #!=\n",
        "    pass\n",
        "    \n",
        "s1=Student(\"Francis\", 20, 40)\n",
        "s2=Student(\"Sylvia\", 30, 50)\n",
        "print(f\"s1==s2 ?: {s1 == s2}\")"
      ],
      "metadata": {
        "id": "uBWuBtepJUZ_",
        "outputId": "380f1193-4a93-4222-87ad-e40c7a179223",
        "colab": {
          "base_uri": "https://localhost:8080/"
        }
      },
      "execution_count": 69,
      "outputs": [
        {
          "output_type": "stream",
          "name": "stdout",
          "text": [
            "Inside __eq__: <__main__.Student object at 0x7f4a2e8b3050>\n",
            "s1==s2 ?: False\n"
          ]
        }
      ]
    },
    {
      "cell_type": "code",
      "source": [
        "# some question on extracting data in Python\n",
        "class A:\n",
        "  def __init__(self, d, n):\n",
        "    self.next=n\n",
        "    self.data=d\n",
        "\n",
        "B=[]\n",
        "B.append(A(\"Hello\", A(\"Francis\", None)))\n",
        "B.append(A(\"Loewe\", None))\n",
        "\n",
        "print(f\"what is B[0]: {B[0]}\")\n",
        "print(f\"What is type of B[0]: {type(B[0])}\")\n",
        "print(f\"read 0th data of list B: {B[0].data}\")\n",
        "print(f\"read next data at 0th data of list B: {B[0].next.data}\")\n",
        "print(f\"read B[1]: {B[1]} type is: {type(B[1])}\")\n",
        "print(f\"read another data: {B[1].data}\")"
      ],
      "metadata": {
        "id": "cTMITFj4laIv",
        "colab": {
          "base_uri": "https://localhost:8080/"
        },
        "outputId": "382f1a32-71ac-431a-cca3-37cd2d8a3ca4"
      },
      "execution_count": 70,
      "outputs": [
        {
          "output_type": "stream",
          "name": "stdout",
          "text": [
            "what is B[0]: <__main__.A object at 0x7f4a2e88a0d0>\n",
            "What is type of B[0]: <class '__main__.A'>\n",
            "read 0th data of list B: Hello\n",
            "read next data at 0th data of list B: Francis\n",
            "read B[1]: <__main__.A object at 0x7f4a2e88a6d0> type is: <class '__main__.A'>\n",
            "read another data: Loewe\n"
          ]
        }
      ]
    },
    {
      "cell_type": "markdown",
      "source": [
        "# Import Module"
      ],
      "metadata": {
        "id": "1d8SV1ld_reO"
      }
    },
    {
      "cell_type": "code",
      "source": [
        "# random module\n",
        "import random\n",
        "# random choice\n",
        "data=random.choice([1,5,6,10,20])\n",
        "print(data)\n",
        "data=random.sample([1,5,6,10,20],3)\n",
        "print(data)\n",
        "# random swap(洗牌)\n",
        "data=[10,20,30,40]\n",
        "random.shuffle(data)\n",
        "print(data)\n",
        "\n",
        "# random number\n",
        "data=random.random() # random number between 0-1 \n",
        "print(data)\n",
        "data=random.uniform(30,60) # random number between 30-60\n",
        "print(data)\n",
        "\n",
        "# random number with stdev\n",
        "data=random.normalvariate(100,10)\n",
        "# mean=100，stdev=10 得到資料大多數在90-100間\n",
        "print(data)\n",
        "\n",
        "#statistics module \n",
        "import statistics as stat\n",
        "data=stat.mean([1,3,5,7])#mean\n",
        "print(data)\n",
        "data=stat.median([1,30,5,7,9])#median\n",
        "print(data)\n",
        "data=stat.stdev([1,30,5,7,9])#stdev\n",
        "print(data)"
      ],
      "metadata": {
        "colab": {
          "base_uri": "https://localhost:8080/"
        },
        "id": "N5pGc4mTm0JQ",
        "outputId": "8bffb353-4b4e-49f1-ec41-8713f62075b8"
      },
      "execution_count": 71,
      "outputs": [
        {
          "output_type": "stream",
          "name": "stdout",
          "text": [
            "5\n",
            "[6, 5, 1]\n",
            "[20, 30, 40, 10]\n",
            "0.5450000112741137\n",
            "53.394813832766445\n",
            "77.74116580705443\n",
            "4\n",
            "7\n",
            "11.349008767288888\n"
          ]
        }
      ]
    },
    {
      "cell_type": "markdown",
      "source": [
        "# File IO\n",
        "* r -read mode\n",
        "* w -write mode\n",
        "    * will cover old stuff\n",
        "    * open a new file if not exist\n",
        "* r+ read & write mode\n",
        "* a -append mode\n",
        "    * wouldn't cover old stuff\n",
        "\n",
        "### Path\n",
        "* Absolute path\n",
        "* Relative path\n",
        "\n",
        "### Path under different OS\n",
        "* URL: use `/`\n",
        "* Mac/Linux: `/folder/sample.txt`\n",
        "* Windows: `D:\\folder\\sample.txt`\n",
        "* Back to parent folder`../folder/sample.txt`"
      ],
      "metadata": {
        "id": "4statdZpU2bE"
      }
    },
    {
      "cell_type": "code",
      "source": [
        "# just for jupyter notebook that store in github. if store in local, it can be direct access\n",
        "\n",
        "# Clone the entire repo.\n",
        "\"\"\"\n",
        "!git clone -l -s git://github.com/jakevdp/PythonDataScienceHandbook.git cloned-repo\n",
        "%cd cloned-repo\n",
        "!ls\n",
        "\"\"\"\n",
        "\n",
        "# Fetch a single <1MB file using the raw GitHub URL.\n",
        "!curl --remote-name -H 'Accept: application/vnd.github.v3.raw' --location https://raw.githubusercontent.com/tc11echo/data-structure-and-algorithm-in-python/main/basic_concept/sample1.txt\n",
        "!curl --remote-name -H 'Accept: application/vnd.github.v3.raw' --location https://raw.githubusercontent.com/tc11echo/data-structure-and-algorithm-in-python/main/basic_concept/sample2.json"
      ],
      "metadata": {
        "id": "RFfThIPkafX5",
        "outputId": "b4748512-119d-42e1-db71-bace03540da1",
        "colab": {
          "base_uri": "https://localhost:8080/"
        }
      },
      "execution_count": 72,
      "outputs": [
        {
          "output_type": "stream",
          "name": "stdout",
          "text": [
            "  % Total    % Received % Xferd  Average Speed   Time    Time     Time  Current\n",
            "                                 Dload  Upload   Total   Spent    Left  Speed\n",
            "100    12  100    12    0     0    125      0 --:--:-- --:--:-- --:--:--   125\n",
            "  % Total    % Received % Xferd  Average Speed   Time    Time     Time  Current\n",
            "                                 Dload  Upload   Total   Spent    Left  Speed\n",
            "100    37  100    37    0     0   1027      0 --:--:-- --:--:-- --:--:--  1027\n"
          ]
        }
      ]
    },
    {
      "cell_type": "code",
      "source": [
        "# read (better way, automatically close file)\n",
        "with open(r\"sample1.txt\", \"r\") as fp:\n",
        "  for line in fp:\n",
        "    print(line, end=\"\")\n",
        "\n",
        "# read\n",
        "\"\"\"\n",
        "fp=open(r\"sample1.txt\")\n",
        "print(fp.read())\n",
        "fp.close()\n",
        "\"\"\"\n",
        "\n",
        "# write\n",
        "\"\"\"\n",
        "with open(r\"sample1.txt\", mode=\"w\", encoding=\"utf-8\") as fp:\n",
        "  fp.write(\"Line1\\n\")\n",
        "  fp.write(\"Line2\\n\")\n",
        "\"\"\""
      ],
      "metadata": {
        "id": "oOpM0vaEVdog",
        "outputId": "fb82b687-255d-4cc8-a5d9-208cdf741f0c",
        "colab": {
          "base_uri": "https://localhost:8080/",
          "height": 52
        }
      },
      "execution_count": 73,
      "outputs": [
        {
          "output_type": "stream",
          "name": "stdout",
          "text": [
            "Hello\n",
            "World"
          ]
        },
        {
          "output_type": "execute_result",
          "data": {
            "text/plain": [
              "'\\nwith open(r\"sample1.txt\", mode=\"w\", encoding=\"utf-8\") as fp:\\n  fp.write(\"Line1\\n\")\\n  fp.write(\"Line2\\n\")\\n'"
            ],
            "application/vnd.google.colaboratory.intrinsic+json": {
              "type": "string"
            }
          },
          "metadata": {},
          "execution_count": 73
        }
      ]
    },
    {
      "cell_type": "code",
      "source": [
        "import json\n",
        "\n",
        "# json read\n",
        "with open(r\"sample2.json\", mode=\"r\") as fp:\n",
        "  data=json.load(fp)\n",
        "print(\"Name: \"+data[\"name\"])\n",
        "print(\"Version: \"+data[\"version\"])\n",
        "\n",
        "# json write\n",
        "\"\"\"\n",
        "data[\"name\"]=\"New name\"\n",
        "with open(\"sample2.json\", mode=\"w\") as fp:\n",
        "  json.dump(data, fp)\n",
        "\"\"\""
      ],
      "metadata": {
        "id": "bBIjOnTZV0JC",
        "outputId": "ecb19de3-6ceb-4bd3-db61-0f5a2fc0b498",
        "colab": {
          "base_uri": "https://localhost:8080/",
          "height": 70
        }
      },
      "execution_count": 74,
      "outputs": [
        {
          "output_type": "stream",
          "name": "stdout",
          "text": [
            "Name: Name\n",
            "Version: 1.2.30\n"
          ]
        },
        {
          "output_type": "execute_result",
          "data": {
            "text/plain": [
              "'\\ndata[\"name\"]=\"New name\"\\nwith open(\"sample2.json\", mode=\"w\") as fp:\\n  json.dump(data, fp)\\n'"
            ],
            "application/vnd.google.colaboratory.intrinsic+json": {
              "type": "string"
            }
          },
          "metadata": {},
          "execution_count": 74
        }
      ]
    },
    {
      "cell_type": "markdown",
      "source": [
        "# Error Handling"
      ],
      "metadata": {
        "id": "fakFygJY2_qH"
      }
    },
    {
      "cell_type": "code",
      "source": [
        "\"\"\"\n",
        "try:\n",
        "  statment_1\n",
        "except exception_name:\n",
        "  statment_2\n",
        "\"\"\"\n",
        "\n",
        "try:\n",
        "  print(3/0)\n",
        "except NameError:\n",
        "  print (\"Name Error Detected\")\n",
        "except KeyError:\n",
        "  print (\"Key Error Detected\")\n",
        "except ValueError:\n",
        "  print(\"Value Error Detected\")\n",
        "except IndexError:\n",
        "  print(\"Index Error Detected\")\n",
        "except ZeroDivisionError:\n",
        "  print(\"Zero Division Error Detected\")\n",
        "except AttributeError:\n",
        "  print(\"object has no attribute\")\n",
        "except TypeError:\n",
        "  print(\"object does not support item assignment\")\n",
        "except Exception:\n",
        "  print(\"Other Error\")"
      ],
      "metadata": {
        "colab": {
          "base_uri": "https://localhost:8080/"
        },
        "id": "9qpaW-8D2__T",
        "outputId": "06ce0833-d820-44fd-a4cf-5d3828a6402f"
      },
      "execution_count": 75,
      "outputs": [
        {
          "output_type": "stream",
          "name": "stdout",
          "text": [
            "Zero Division Error Detected\n"
          ]
        }
      ]
    }
  ],
  "metadata": {
    "interpreter": {
      "hash": "b3ba2566441a7c06988d0923437866b63cedc61552a5af99d1f4fb67d367b25f"
    },
    "kernelspec": {
      "display_name": "Python 3.8.5 64-bit ('base': conda)",
      "name": "python3"
    },
    "language_info": {
      "codemirror_mode": {
        "name": "ipython",
        "version": 3
      },
      "file_extension": ".py",
      "mimetype": "text/x-python",
      "name": "python",
      "nbconvert_exporter": "python",
      "pygments_lexer": "ipython3",
      "version": "3.9.7"
    },
    "orig_nbformat": 4,
    "colab": {
      "name": "intro_python.ipynb",
      "provenance": [],
      "collapsed_sections": [],
      "include_colab_link": true
    }
  },
  "nbformat": 4,
  "nbformat_minor": 0
}