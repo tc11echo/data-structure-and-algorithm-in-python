{
  "cells": [
    {
      "cell_type": "markdown",
      "metadata": {
        "id": "view-in-github",
        "colab_type": "text"
      },
      "source": [
        "<a href=\"https://colab.research.google.com/github/tc11echo/data-structure-and-algorithm-in-python/blob/main/basic_concept/intro_python.ipynb\" target=\"_parent\"><img src=\"https://colab.research.google.com/assets/colab-badge.svg\" alt=\"Open In Colab\"/></a>"
      ]
    },
    {
      "cell_type": "markdown",
      "metadata": {
        "id": "Yv8GOKevAgPQ"
      },
      "source": [
        "# Introduction to Python\n",
        "Python is a high-level, dynamically typed multiparadigm programming language. \n",
        "\n",
        "Python code is often said to be almost like pseudocode, since it allows you to express very powerful ideas in very few lines of code while being very readable."
      ]
    },
    {
      "cell_type": "code",
      "execution_count": 34,
      "metadata": {
        "colab": {
          "base_uri": "https://localhost:8080/"
        },
        "id": "DUKmN85bAgPV",
        "outputId": "196278f8-6c12-4744-b48d-75dfa9d18bb9"
      },
      "outputs": [
        {
          "output_type": "stream",
          "name": "stdout",
          "text": [
            "hello world!\n",
            "hello world!\n"
          ]
        }
      ],
      "source": [
        "# output\n",
        "# In C++, we distinguish a character and a string by single quotes and double quotes, respectively. However, in Python, there is no such a distinction, that is, characters are treated as string, and you can use single quotes or double quotes for strings.\n",
        "print(\"hello world!\") # double quotes\n",
        "print(\"hello world!\") # single quotes. Same as double quotes"
      ]
    },
    {
      "cell_type": "code",
      "execution_count": 35,
      "metadata": {
        "colab": {
          "base_uri": "https://localhost:8080/"
        },
        "id": "Sa1wHX7zAgPi",
        "outputId": "d608e939-9900-41e5-a161-cd174c4d9678"
      },
      "outputs": [
        {
          "output_type": "stream",
          "name": "stdout",
          "text": [
            "enter a string: 111111111111111111\n",
            "Your input string is: 111111111111111111\n"
          ]
        }
      ],
      "source": [
        "# input\n",
        "x=input(\"enter a string: \") # x will be of str type, even if the user gives an integer\n",
        "print(\"Your input string is: \"+x)"
      ]
    },
    {
      "cell_type": "markdown",
      "metadata": {
        "id": "xWvtOqvv8OeV"
      },
      "source": [
        "# [Basic Data Type / Data Structure and Operator](../data_structure/python_built_in_data_structure_and_operator.ipynb)\n",
        "* Refer to python_built_in_data_structure_and_operator.ipynb"
      ]
    },
    {
      "cell_type": "code",
      "execution_count": 36,
      "metadata": {
        "colab": {
          "base_uri": "https://localhost:8080/"
        },
        "id": "sZ-Q9mzR5h40",
        "outputId": "fd9018d5-7de5-4cd4-ef0b-2c433624cc53"
      },
      "outputs": [
        {
          "output_type": "stream",
          "name": "stdout",
          "text": [
            "[-1, 2, 3] [-1, 2, 3]\n",
            "140040330377088\n",
            "140040330377088\n",
            "\n",
            "[1, 2, 3] [-1, 2, 3]\n",
            "140040391454224\n",
            "140040329980736\n"
          ]
        }
      ],
      "source": [
        "# assignment operator vs deep copy\n",
        "t1=[1,2,3]  # t1 points to the list [1,2,3]\n",
        "t2=t1    # t2 also points to the same list [1,2,3]. So, now, both t1 and t2 point to the same list [1,2,3]\n",
        "t2[0]=-1   # this will also affect t1, since both t1 and t2 point to the same [1,2,3]\n",
        "print(t1, t2)\n",
        "\n",
        "# to check whether two variables point to the same object, we can check their id\n",
        "print(id(t1))\n",
        "print(id(t2))\n",
        "print()\n",
        "\n",
        "\n",
        "t1=[1,2,3]\n",
        "t2=t1.copy() # t2 points to a different [1,2,3] than the one t1 points to\n",
        "t2[0]=-1   # this will NOT affect t1, since both t1 and t2 point to the same [1,2,3]\n",
        "print(t1, t2)\n",
        "print(id(t1))\n",
        "print(id(t2))"
      ]
    },
    {
      "cell_type": "markdown",
      "metadata": {
        "id": "35QRhQZdMiwD"
      },
      "source": [
        "# Flow Control"
      ]
    },
    {
      "cell_type": "code",
      "execution_count": 37,
      "metadata": {
        "colab": {
          "base_uri": "https://localhost:8080/"
        },
        "id": "u3RA3cfmAgPh",
        "outputId": "d13c170e-c0fb-42a8-e9c8-6c34849c4b39"
      },
      "outputs": [
        {
          "output_type": "stream",
          "name": "stdout",
          "text": [
            "b larger than a\n"
          ]
        }
      ],
      "source": [
        "# if statement syntax\n",
        "\"\"\"\n",
        "if expression:\n",
        "  statement\n",
        "elif expression:\n",
        "  statement\n",
        "else expression:\n",
        "  statement\n",
        "\"\"\"\n",
        "\n",
        "a,b=1,2\n",
        "if b>a: \n",
        "  print(\"b larger than a\")\n",
        "elif a>b:  # do not write \"else if\" ! \n",
        "  print(\"a larger than b\")\n",
        "else:\n",
        "  print(\"a=b\")"
      ]
    },
    {
      "cell_type": "code",
      "execution_count": 38,
      "metadata": {
        "colab": {
          "base_uri": "https://localhost:8080/"
        },
        "id": "wVMZZ3ENAgPh",
        "outputId": "212aa13c-adfd-4a76-c32a-24dd3d250e00"
      },
      "outputs": [
        {
          "output_type": "stream",
          "name": "stdout",
          "text": [
            "b larger than a\n"
          ]
        }
      ],
      "source": [
        "# if the body of a condition contains one line only, we can put this line right after the colon, like so:\n",
        "\"\"\"\n",
        "if expression: statement\n",
        "elif expression: statement\n",
        "else expression: statement\n",
        "\"\"\"\n",
        "\n",
        "a,b=1,2\n",
        "if b>a: print(\"b larger than a\")\n",
        "elif a>b: print(\"a larger than b\")\n",
        "else: print(\"a=b\")"
      ]
    },
    {
      "cell_type": "code",
      "execution_count": 39,
      "metadata": {
        "colab": {
          "base_uri": "https://localhost:8080/"
        },
        "id": "gWga0GWmAgPh",
        "outputId": "b461a91d-ecd3-4c3e-9b14-8f6e589bbf58"
      },
      "outputs": [
        {
          "output_type": "stream",
          "name": "stdout",
          "text": [
            "b larger than a\n",
            "b larger than a\n"
          ]
        }
      ],
      "source": [
        "# short-hand `if-else`. This is like the ternary operator in C++, but the syntax is different\n",
        "\"\"\"\n",
        "statement_1 if expression_1 else statement_2 if expression_2 else statement_3\n",
        "\"\"\"\n",
        "\n",
        "print(\"b larger than a\") if b>a else print(\"b NOT larger than a\")\n",
        "\n",
        "# unlike the ternary operator in C++, in python we can have have multiple else cases:\n",
        "print(\"b larger than a\") if b>a else print(\"a larger than b\") if a >b else print(\"a=b\")"
      ]
    },
    {
      "cell_type": "code",
      "execution_count": 40,
      "metadata": {
        "colab": {
          "base_uri": "https://localhost:8080/"
        },
        "id": "K37oMwokAgPf",
        "outputId": "c170cc99-ca99-46a1-8f16-3c4097a9d23a"
      },
      "outputs": [
        {
          "output_type": "stream",
          "name": "stdout",
          "text": [
            "cat\n",
            "dog\n",
            "monkey\n"
          ]
        }
      ],
      "source": [
        "# for loop\n",
        "\"\"\"\n",
        "for iteration_variable in iterable_data_type:\n",
        "  statement\n",
        "\"\"\"\n",
        "\n",
        "# You can loop over the elements of a list like this:\n",
        "animals=[\"cat\", \"dog\", \"monkey\"]\n",
        "for animal in animals: # the colon \":\" at the end is necessary\n",
        "  print(animal) # Python does not use curly braces to indicate the body of a loop. Instead, it uses indentation. Here, we use a tab for indentation, but you can use a space or several spaces instead---as long as there are is indentation that will do. But the most common choice is a tab"
      ]
    },
    {
      "cell_type": "code",
      "execution_count": 41,
      "metadata": {
        "colab": {
          "base_uri": "https://localhost:8080/"
        },
        "id": "06zJIlsQAgPf",
        "outputId": "295f2245-402a-4d87-8de5-92e0b6828f38"
      },
      "outputs": [
        {
          "output_type": "stream",
          "name": "stdout",
          "text": [
            "1 \t2 \t3 \t4 \t5 \t6 \t7 \t8 \t9 \t\n",
            "2 \t4 \t6 \t8 \t10 \t12 \t14 \t16 \t18 \t\n",
            "3 \t6 \t9 \t12 \t15 \t18 \t21 \t24 \t27 \t\n",
            "4 \t8 \t12 \t16 \t20 \t24 \t28 \t32 \t36 \t\n",
            "5 \t10 \t15 \t20 \t25 \t30 \t35 \t40 \t45 \t\n",
            "6 \t12 \t18 \t24 \t30 \t36 \t42 \t48 \t54 \t\n",
            "7 \t14 \t21 \t28 \t35 \t42 \t49 \t56 \t63 \t\n",
            "8 \t16 \t24 \t32 \t40 \t48 \t56 \t64 \t72 \t\n",
            "9 \t18 \t27 \t36 \t45 \t54 \t63 \t72 \t81 \t\n"
          ]
        }
      ],
      "source": [
        "# nested for loops\n",
        "# like other languages, we can also define nested for loops\n",
        "# EX: print a multiplication table\n",
        "\n",
        "for i in range(1,10):\n",
        "  for j in range(1,10):\n",
        "    print(i*j,\"\\t\", end=\"\")\n",
        "  print()\n",
        "\n",
        "# 1  2  3  4  5  6  7  8  9  \n",
        "# 2  4  6  8  10  12  14  16  18  \n",
        "# 3  6  9  12  15  18  21  24  27  \n",
        "# 4  8  12  16  20  24  28  32  36  \n",
        "# 5  10  15  20  25  30  35  40  45  \n",
        "# 6  12  18  24  30  36  42  48  54  \n",
        "# 7  14  21  28  35  42  49  56  63  \n",
        "# 8  16  24  32  40  48  56  64  72  \n",
        "# 9  18  27  36  45  54  63  72  81  "
      ]
    },
    {
      "cell_type": "code",
      "execution_count": 42,
      "metadata": {
        "colab": {
          "base_uri": "https://localhost:8080/"
        },
        "id": "603DdfYhAgPg",
        "outputId": "2f110f53-c2f8-4dc6-952f-d919740dff71"
      },
      "outputs": [
        {
          "output_type": "stream",
          "name": "stdout",
          "text": [
            "5\n",
            "4\n",
            "3\n",
            "2\n",
            "1\n"
          ]
        }
      ],
      "source": [
        "# while loop\n",
        "\"\"\"\n",
        "while expression:\n",
        "  statement\n",
        "\"\"\"\n",
        "\n",
        "# the following while loop print the digits of a numbers in reverse\n",
        "n=12345\n",
        "while n>0:\n",
        "  print(n%10) # get the last digit\n",
        "  n//=10 # remove the last digit"
      ]
    },
    {
      "cell_type": "markdown",
      "metadata": {
        "id": "lHMKQnxuMari"
      },
      "source": [
        "# Function"
      ]
    },
    {
      "cell_type": "code",
      "execution_count": 43,
      "metadata": {
        "colab": {
          "base_uri": "https://localhost:8080/"
        },
        "id": "Q5tFmz4LAgPj",
        "outputId": "7cf45499-1abc-4b04-abfc-bdd51468b11e"
      },
      "outputs": [
        {
          "output_type": "stream",
          "name": "stdout",
          "text": [
            "negative\n",
            "zero\n",
            "positive\n",
            "4\n"
          ]
        }
      ],
      "source": [
        "# function in python\n",
        "\"\"\"\n",
        "def func0(parameter_1, parameter_2:data_type, parameter_3=default_value):\n",
        "  statement\n",
        "  return expression\n",
        "\n",
        "func0(argument_1,parameter_2)\n",
        "\n",
        "\n",
        "def func1(parameter):\n",
        "  statement\n",
        "  return expression\n",
        "\n",
        "\n",
        "def func2(parameter:data_type):\n",
        "  statement\n",
        "  return expression\n",
        "\n",
        "\n",
        "def func3(parameter=default_value):\n",
        "  statement\n",
        "  return expression\n",
        "\n",
        "def func_to_be_implement():  # in python, the function body must not be empty. To get around this, use \"pass\" keyword\n",
        "  pass\n",
        "\"\"\"\n",
        "\n",
        "# python functions are defined using the def keyword\n",
        "def func(x):\n",
        "  if x>0:\n",
        "    return \"positive\"\n",
        "  elif x<0:\n",
        "    return \"negative\"\n",
        "  else:\n",
        "    return \"zero\"\n",
        "\n",
        "for x in [-1, 0, 1]:\n",
        "  print(func(x))\n",
        "\n",
        "\n",
        "# \":\" in \"<variable>:<data type>\" limited the parameter data type\"\n",
        "def func(x:int):\n",
        "  print(x)\n",
        "\n",
        "func(4)"
      ]
    },
    {
      "cell_type": "code",
      "execution_count": 44,
      "metadata": {
        "colab": {
          "base_uri": "https://localhost:8080/"
        },
        "id": "bbz_nuiTAgPk",
        "outputId": "d9a5ebb7-b1c8-4a59-bafe-8932ee044760"
      },
      "outputs": [
        {
          "output_type": "stream",
          "name": "stdout",
          "text": [
            "(100, 1000)\n"
          ]
        }
      ],
      "source": [
        "# if a function needs to returns several values, we can allow it to return a tuple instead:\n",
        "def square_cube(x):\n",
        "  return x**2, x**3 # return a tuple of two numbers\n",
        "  # return (x**2, x**3) # we can also add a pair of parentheses, but it\"s optional\n",
        "\n",
        "print(square_cube(10)) # print a tuple, since the function returns a tuple"
      ]
    },
    {
      "cell_type": "code",
      "execution_count": 45,
      "metadata": {
        "colab": {
          "base_uri": "https://localhost:8080/"
        },
        "id": "n8yk9i5SAgPk",
        "outputId": "b1823ece-5a88-4a08-e8a5-e2e40e6f0b70"
      },
      "outputs": [
        {
          "output_type": "stream",
          "name": "stdout",
          "text": [
            "Hello, Alice\n",
            "HELLO, BOB!\n"
          ]
        }
      ],
      "source": [
        "# default parameters\n",
        "# We will often define functions to take optional arguments, like so:\n",
        "def hello(name, loud=False): # the parameter loud defaults to False. That is, if the user doesn\"t provide this parameter, then the value will be False\n",
        "  if loud: # if loud is True\n",
        "    print(f\"HELLO, {name.upper()}!\") # upper() method changes all lower-case letters to upper-case\n",
        "  else: # if loud is False\n",
        "    print(f\"Hello, {name}\")\n",
        "\n",
        "hello(\"Alice\") # Prints \"Hello, Alice\"\n",
        "hello(\"Bob\", loud=True)  # Prints \"HELLO, BOB!\""
      ]
    },
    {
      "cell_type": "code",
      "execution_count": 46,
      "metadata": {
        "colab": {
          "base_uri": "https://localhost:8080/"
        },
        "id": "I93r1gOvl5hy",
        "outputId": "26b63a57-482b-4c09-daa0-313cb8247806"
      },
      "outputs": [
        {
          "output_type": "stream",
          "name": "stdout",
          "text": [
            "(3, 4)\n",
            "1.5\n",
            "3.5\n"
          ]
        }
      ],
      "source": [
        "\"\"\"\n",
        "def func(*infinite_parameter):   # all arguments will cobine into a tuple and store in infinite_parameter\n",
        "  statement\n",
        "  return expression\n",
        "\n",
        "func(arg1,arg2,arg3,...)\n",
        "\"\"\"\n",
        "\n",
        "def func(*ns):\n",
        "  print(ns)\n",
        "func(3,4)\n",
        "\n",
        "def avg(*ns):\n",
        "  sum=0\n",
        "  for x in ns:\n",
        "    sum+=x\n",
        "    print(sum/len(ns))  \n",
        "avg(3,4)\n",
        "#avg(3,4,10,55)"
      ]
    },
    {
      "cell_type": "markdown",
      "metadata": {
        "id": "TjooeIRma9SJ"
      },
      "source": [
        "# Recursion"
      ]
    },
    {
      "cell_type": "code",
      "execution_count": 47,
      "metadata": {
        "colab": {
          "base_uri": "https://localhost:8080/"
        },
        "id": "sy_ak08vJb8P",
        "outputId": "1428fbca-2f6f-42c2-da6b-f52fbbd71bcb"
      },
      "outputs": [
        {
          "output_type": "stream",
          "name": "stdout",
          "text": [
            " at level :0 x=5\n",
            "   at level :1 x=4\n",
            "     at level :2 x=3\n",
            "       at level :3 x=2\n",
            "         base case x=1\n",
            "       at level :3 f=1\n",
            "       at level : 3 before return :2\n",
            "     at level :2 f=2\n",
            "     at level : 2 before return :6\n",
            "   at level :1 f=6\n",
            "   at level : 1 before return :24\n",
            " at level :0 f=24\n",
            " at level : 0 before return :120\n",
            "what is r: 120\n"
          ]
        }
      ],
      "source": [
        "# recursion\n",
        "# n!=1*2 * .... * n\n",
        "\n",
        "def factorial (x:int, level:int):\n",
        "  if x == 1:\n",
        "    print(\"  \" * level+\" base case x=\"+str(x))\n",
        "    return 1 # base case\n",
        "  else:\n",
        "    print(\"  \" * level+\" at level :\"+str(level)+\" x=\"+str(x))\n",
        "    f=factorial(x-1, level+1)\n",
        "    print(\"  \" * level+\" at level :\"+str(level)+\" f=\"+str(f))\n",
        "    r=x * f\n",
        "    print(\"  \" * level+\" at level : \"+str(level)+\" before return :\"+str(r))\n",
        "    return r # iteration\n",
        "\n",
        "r=factorial(5, 0)\n",
        "print(f\"what is r: {r}\")"
      ]
    },
    {
      "cell_type": "code",
      "execution_count": 48,
      "metadata": {
        "colab": {
          "base_uri": "https://localhost:8080/"
        },
        "id": "uqSjssoIAgPk",
        "outputId": "5e4e12dd-1929-4acd-8572-e000ea19a226"
      },
      "outputs": [
        {
          "output_type": "stream",
          "name": "stdout",
          "text": [
            "15\n",
            "5\n",
            "1\n"
          ]
        }
      ],
      "source": [
        "# aggregate functions: sum, max, and min\n",
        "# in fact, we\"ll learn more powerful aggregate functions when we talk about Numpy, a data science package in python. So, we\"ll just briefly talk about sum, max and min that are python\"s built-in.\n",
        "\n",
        "t=[1,2,3,4,5]\n",
        "print(sum(t)) # 15. sum takes an iterable as input. So, do not give several numbers as input! We need to put these numbers in a list!\n",
        "# print(sum(1,2,3)) # error! We need to put the numbers in a list. Here, we are giving three inputs, rather than a single input of list type!\n",
        "print(max(t)) # 5\n",
        "print(min(t)) # 1"
      ]
    },
    {
      "cell_type": "markdown",
      "metadata": {
        "id": "HvswRxYLXWz6"
      },
      "source": [
        "# Lambda function\n",
        "* anonymous function (i.e. no function name)\n",
        "* one expression\n",
        "* automatically return result no need keyword `return`"
      ]
    },
    {
      "cell_type": "code",
      "execution_count": 49,
      "metadata": {
        "colab": {
          "base_uri": "https://localhost:8080/"
        },
        "id": "EC5PbxjqXfmt",
        "outputId": "6ccc2681-6f73-45eb-ba88-c2779e79ad78"
      },
      "outputs": [
        {
          "output_type": "stream",
          "name": "stdout",
          "text": [
            "3\n",
            "5\n",
            "6\n"
          ]
        }
      ],
      "source": [
        "# lambda function\n",
        "\"\"\"\n",
        "func_name=lambda parameter,...: expression\n",
        "\n",
        "(lambda parameter_1, parameter_2: expression)(arg1, arg2)\n",
        "\"\"\"\n",
        "\n",
        "f=lambda x,y:x+y\n",
        "print(f(1,2))\n",
        "print(f(2,3))\n",
        "\n",
        "f=(lambda x,y:x+y)(4,2)\n",
        "print(f)"
      ]
    },
    {
      "cell_type": "code",
      "execution_count": 50,
      "metadata": {
        "colab": {
          "base_uri": "https://localhost:8080/"
        },
        "id": "FYKwwgAo1tB0",
        "outputId": "305bcdab-df83-4229-8d84-7174fcfc413e"
      },
      "outputs": [
        {
          "output_type": "stream",
          "name": "stdout",
          "text": [
            "[36.5, 38.5, 37.5, 36, 38, 35]\n",
            "<map object at 0x7f5dae1e5790>\n",
            "[97.7, 101.3, 99.5, 96.8, 100.4, 95.0]\n",
            "<map object at 0x7f5dae1e5410>\n",
            "[]\n"
          ]
        }
      ],
      "source": [
        "\"\"\"\n",
        "# map() applies the function to all the elements of the sequence seq. It returns a new list with the elements changed by func\n",
        "map(func, seq)\n",
        "\"\"\"\n",
        "\n",
        "def cal_fahrenheit(T):\n",
        "  return ((float(9)/5)*T+32)\n",
        "def cal_celsius(T):\n",
        "  return (float(5)/9)*(T-32)\n",
        "\n",
        "original_list=[36.5,38.5,37.5,36,38,35]\n",
        "fahrenheit_obj=map(cal_fahrenheit, original_list) #return object\n",
        "celsius_obj=map(cal_celsius, fahrenheit_obj) #object mapped twice will become empty\n",
        "\n",
        "print(original_list)\n",
        "\n",
        "print(fahrenheit_obj)\n",
        "print(list(fahrenheit_obj))\n",
        "\n",
        "print(celsius_obj)\n",
        "print(list(celsius_obj))"
      ]
    },
    {
      "cell_type": "code",
      "execution_count": 51,
      "metadata": {
        "colab": {
          "base_uri": "https://localhost:8080/"
        },
        "id": "MC_gAcCa1zxn",
        "outputId": "6445b161-b7c8-41f5-fd03-e548ebe9d09e"
      },
      "outputs": [
        {
          "output_type": "stream",
          "name": "stdout",
          "text": [
            "[39.2, 36.5, 37.3, 37.8]\n",
            "[102.56, 97.7, 99.14, 100.03999999999999]\n"
          ]
        }
      ],
      "source": [
        "original_list = [39.2, 36.5, 37.3, 37.8]\n",
        "\n",
        "fahrenheit_obj = map((lambda x: (float(9)/5)*x+32), original_list)\n",
        "\n",
        "print(original_list)\n",
        "print(list(fahrenheit_obj))"
      ]
    },
    {
      "cell_type": "markdown",
      "metadata": {
        "id": "G18E0Al7A8G_"
      },
      "source": [
        "# Callback Function\n",
        "* Pass a function into other function"
      ]
    },
    {
      "cell_type": "code",
      "execution_count": 52,
      "metadata": {
        "colab": {
          "base_uri": "https://localhost:8080/"
        },
        "id": "k5Jx0owjBDTv",
        "outputId": "43db79ec-f3aa-4eac-bd7c-2489b0f0afe5"
      },
      "outputs": [
        {
          "output_type": "stream",
          "name": "stdout",
          "text": [
            "result is: 9\n",
            "answer is: 3\n"
          ]
        }
      ],
      "source": [
        "\"\"\"\n",
        "def func(parameter_func):\n",
        "  parameter_func(variable)\n",
        "\n",
        "def callback_func(parameter):\n",
        "  statement\n",
        "\n",
        "func(callback_func)\n",
        "\"\"\"\n",
        "\n",
        "def add(n1, n2, cb):\n",
        "  cb(n1+n2)\n",
        "\n",
        "def handle1(result): # callback function\n",
        "  print(\"result is: \"+str(result))\n",
        "\n",
        "def handle2(answer): # callback function\n",
        "  print(\"answer is: \"+str(answer))\n",
        "\n",
        "add(4, 5, handle1)\n",
        "add(2, 1, handle2)"
      ]
    },
    {
      "cell_type": "markdown",
      "metadata": {
        "id": "1wLl2_HSHbJB"
      },
      "source": [
        "# Decorator and Decorator Factory\n",
        "* Decorator: no parameter\n",
        "* Decorator Factory: with parameter"
      ]
    },
    {
      "cell_type": "code",
      "execution_count": 53,
      "metadata": {
        "colab": {
          "base_uri": "https://localhost:8080/"
        },
        "id": "0kC9zyGjHYJ3",
        "outputId": "5b13b305-208c-4b83-dc82-de6cf8321f9b"
      },
      "outputs": [
        {
          "output_type": "stream",
          "name": "stdout",
          "text": [
            "decorator executed\n",
            "test executed\n",
            "result 1275\n",
            "decorator executed\n",
            "test executed\n",
            "answer 1275\n"
          ]
        }
      ],
      "source": [
        "# decorator\n",
        "\"\"\"\n",
        "def decorator(callback_func):\n",
        "  def inner_func():\n",
        "    statement\n",
        "    callback_func()\n",
        "  return inner_func\n",
        "\n",
        "@decorator\n",
        "def decorated_func():\n",
        "  statement\n",
        "\n",
        "decorated_func()\n",
        "\"\"\"\n",
        "\n",
        "def calculate(callback):\n",
        "  def run():\n",
        "    print(\"decorator executed\")\n",
        "    result=0\n",
        "    for i in range(51):\n",
        "      result+=i\n",
        "    callback(result)\n",
        "  return run\n",
        "\n",
        "@calculate\n",
        "def show_reslut(n):\n",
        "  print(\"test executed\")\n",
        "  print(\"result\", n)\n",
        "\n",
        "@calculate\n",
        "def show_answer(n):\n",
        "  print(\"test executed\")\n",
        "  print(\"answer\", n)\n",
        "\n",
        "show_reslut()\n",
        "show_answer()"
      ]
    },
    {
      "cell_type": "code",
      "execution_count": 54,
      "metadata": {
        "colab": {
          "base_uri": "https://localhost:8080/"
        },
        "id": "c8jiX367RgKc",
        "outputId": "056f9037-51e2-4a58-ce26-0115a627e284"
      },
      "outputs": [
        {
          "output_type": "stream",
          "name": "stdout",
          "text": [
            "decorator executed\n",
            "test executed\n",
            "result 1275\n",
            "decorator executed\n",
            "test executed\n",
            "answer 1830\n"
          ]
        }
      ],
      "source": [
        "# decorator factory\n",
        "\"\"\"\n",
        "def decorator_factory(parameter,...)\n",
        "  def decorator(callback_func):\n",
        "    def inner_func():\n",
        "      statement\n",
        "      callback_func()\n",
        "    return inner_func\n",
        "  return decorator\n",
        "\n",
        "@decorator_factory(argument,...)\n",
        "def decorated_func():\n",
        "  statement\n",
        "\n",
        "decorated_func()\n",
        "\"\"\"\n",
        "def calculate_factory(max):\n",
        "  def calculate(callback):\n",
        "    def run():\n",
        "      print(\"decorator executed\")\n",
        "      result=0\n",
        "      for i in range(max+1):\n",
        "        result+=i\n",
        "      callback(result)\n",
        "    return run\n",
        "  return calculate\n",
        "\n",
        "@calculate_factory(50)\n",
        "def show_reslut(n):\n",
        "  print(\"test executed\")\n",
        "  print(\"result\", n)\n",
        "\n",
        "@calculate_factory(60)\n",
        "def show_answer(n):\n",
        "  print(\"test executed\")\n",
        "  print(\"answer\", n)\n",
        "\n",
        "show_reslut()\n",
        "show_answer()"
      ]
    },
    {
      "cell_type": "markdown",
      "metadata": {
        "id": "hu2DT4OyAgPl"
      },
      "source": [
        "# OOP in python\n",
        "unlike C++, python doesn\"t have access specifier (i.e., no `private`, `public` keywords), but u can follow the naming rule below to have better identification:\n",
        "* vari --> public\n",
        "* _vari --> protected\n",
        "* __vari --> private\n",
        "* func --> public\n",
        "* _func --> private\n",
        "* \\_\\_func__ --> only can be use, never create\n"
      ]
    },
    {
      "cell_type": "code",
      "execution_count": 55,
      "metadata": {
        "colab": {
          "base_uri": "https://localhost:8080/"
        },
        "id": "YwPq5YivAgPl",
        "outputId": "0881bab8-e879-4745-ce74-904abf7d2e94"
      },
      "outputs": [
        {
          "output_type": "stream",
          "name": "stdout",
          "text": [
            "100\n",
            "bob is 4 years old\n",
            "bob eats meat\n"
          ]
        }
      ],
      "source": [
        "\"\"\"\n",
        "class class_name:\n",
        "  new_const=100\n",
        "  def __init__(self, parameter_1):\n",
        "    self.instance_variable=parameter_1\n",
        "\n",
        "  # instance method\n",
        "  def instance_method_name(self):\n",
        "    statment_1\n",
        "\"\"\"\n",
        "\n",
        "class Dog:\n",
        "  new_const=100\n",
        "  def __init__(self, name, age):\n",
        "    # name and age are instance attributes\n",
        "    self.name=name\n",
        "    self.age=age\n",
        "\n",
        "  # instance method\n",
        "  def description(self):\n",
        "    return f\"{self.name} is {self.age} years old\"\n",
        "\n",
        "  # instance method\n",
        "  def eat(self, food):\n",
        "    return f\"{self.name} eats {food}\"\n",
        "\n",
        "d1=Dog(\"bob\", 4) \n",
        "print(d1.new_const)\n",
        "print(d1.description())\n",
        "print(d1.eat(\"meat\"))"
      ]
    },
    {
      "cell_type": "code",
      "execution_count": 56,
      "metadata": {
        "colab": {
          "base_uri": "https://localhost:8080/"
        },
        "id": "uBWuBtepJUZ_",
        "outputId": "5fdd96af-8ad1-424c-f0a2-3ac93e7f19a2"
      },
      "outputs": [
        {
          "output_type": "stream",
          "name": "stdout",
          "text": [
            "Inside __eq__: <__main__.Student object at 0x7f5dae260b10>\n",
            "s1==s2 ?: False\n"
          ]
        }
      ],
      "source": [
        "# operator overloading\n",
        "class Student:\n",
        "  def __init__(self, name, age, mark):\n",
        "    self.name=name\n",
        "    self.age=age\n",
        "    self.dsa_score=mark\n",
        "\n",
        "  def __eq__(self, other): #==\n",
        "    print(f\"Inside __eq__: {other}\")\n",
        "    if isinstance(other, Student):\n",
        "      return self.dsa_score == other.dsa_score\n",
        "    raise Exception(f\"{type(other)} not match !\")\n",
        "\n",
        "  def __lt__(self, other): #<\n",
        "    if isinstance(other, Student):\n",
        "      print(\"this is same instance .... \")\n",
        "      return self.dsa_score<other.dsa_score\n",
        "    raise Exception(f\"{type(other)} not match !\")\n",
        "\n",
        "  def __le__(self, other): #<=\n",
        "    return self.dsa_score <= other.dsa_score\n",
        "\n",
        "  def __gt__(self, other): #>\n",
        "    pass\n",
        "\n",
        "  def __ge__(self, other): #>=\n",
        "    pass\n",
        "\n",
        "  def __ne__(self, other): #!=\n",
        "    pass\n",
        "    \n",
        "s1=Student(\"Francis\", 20, 40)\n",
        "s2=Student(\"Sylvia\", 30, 50)\n",
        "print(f\"s1==s2 ?: {s1 == s2}\")"
      ]
    },
    {
      "cell_type": "code",
      "execution_count": 57,
      "metadata": {
        "colab": {
          "base_uri": "https://localhost:8080/"
        },
        "id": "cTMITFj4laIv",
        "outputId": "1b663c05-84d2-4c46-e74e-bc841ad522cf"
      },
      "outputs": [
        {
          "output_type": "stream",
          "name": "stdout",
          "text": [
            "what is B[0]: <__main__.A object at 0x7f5dadb99590>\n",
            "What is type of B[0]: <class '__main__.A'>\n",
            "read 0th data of list B: Hello\n",
            "read next data at 0th data of list B: Francis\n",
            "read B[1]: <__main__.A object at 0x7f5dadb99490> type is: <class '__main__.A'>\n",
            "read another data: Loewe\n"
          ]
        }
      ],
      "source": [
        "# some question on extracting data in Python\n",
        "class A:\n",
        "  def __init__(self, d, n):\n",
        "    self.next=n\n",
        "    self.data=d\n",
        "\n",
        "B=[]\n",
        "B.append(A(\"Hello\", A(\"Francis\", None)))\n",
        "B.append(A(\"Loewe\", None))\n",
        "\n",
        "print(f\"what is B[0]: {B[0]}\")\n",
        "print(f\"What is type of B[0]: {type(B[0])}\")\n",
        "print(f\"read 0th data of list B: {B[0].data}\")\n",
        "print(f\"read next data at 0th data of list B: {B[0].next.data}\")\n",
        "print(f\"read B[1]: {B[1]} type is: {type(B[1])}\")\n",
        "print(f\"read another data: {B[1].data}\")"
      ]
    },
    {
      "cell_type": "markdown",
      "metadata": {
        "id": "1d8SV1ld_reO"
      },
      "source": [
        "# Import Module\n",
        "[For searching the module](https://pypi.org/)"
      ]
    },
    {
      "cell_type": "code",
      "execution_count": 58,
      "metadata": {
        "colab": {
          "base_uri": "https://localhost:8080/"
        },
        "id": "91p83Ogli4xJ",
        "outputId": "bd407576-0470-41af-c52f-090b763c3e43"
      },
      "outputs": [
        {
          "output_type": "stream",
          "name": "stdout",
          "text": [
            "2.0\n",
            "2.0\n",
            "2.0\n"
          ]
        }
      ],
      "source": [
        "import math # import whole math libaray\n",
        "print(math.sqrt(4))\n",
        "\n",
        "from math import sqrt # import sqrt() only\n",
        "print(sqrt(4))\n",
        "\n",
        "from math import sqrt as square_root # import sqrt() and rename\n",
        "print(square_root(4))"
      ]
    },
    {
      "cell_type": "code",
      "execution_count": 59,
      "metadata": {
        "colab": {
          "base_uri": "https://localhost:8080/"
        },
        "id": "OgYkupVjlf64",
        "outputId": "0464c2bd-f4ee-47ab-e3bd-b542397ffcbe"
      },
      "outputs": [
        {
          "output_type": "stream",
          "name": "stdout",
          "text": [
            "  % Total    % Received % Xferd  Average Speed   Time    Time     Time  Current\n",
            "                                 Dload  Upload   Total   Spent    Left  Speed\n",
            "\r  0     0    0     0    0     0      0      0 --:--:-- --:--:-- --:--:--     0\r100   340  100   340    0     0   5573      0 --:--:-- --:--:-- --:--:--  5573\n"
          ]
        }
      ],
      "source": [
        "# about this command just for fetching sample_module.py to google colab, refer to file i/o for more\n",
        "!curl --remote-name -H 'Accept: application/vnd.github.v3.raw' --location https://raw.githubusercontent.com/tc11echo/data-structure-and-algorithm-in-python/main/basic_concept/sample_module.py"
      ]
    },
    {
      "cell_type": "markdown",
      "source": [
        "[sample_module.py](sample_module.py)"
      ],
      "metadata": {
        "id": "WSE0nzLxQ2i9"
      }
    },
    {
      "cell_type": "code",
      "execution_count": 60,
      "metadata": {
        "colab": {
          "base_uri": "https://localhost:8080/"
        },
        "id": "REO5fc8rllQa",
        "outputId": "831105b3-3819-4fd2-a4f1-0bbd447e99c4"
      },
      "outputs": [
        {
          "output_type": "stream",
          "name": "stdout",
          "text": [
            "func1 executed\n"
          ]
        }
      ],
      "source": [
        "import sample_module # use \".\" instead of \"/\" for accessing folder\n",
        "sample_module.func1()"
      ]
    },
    {
      "cell_type": "code",
      "execution_count": 61,
      "metadata": {
        "colab": {
          "base_uri": "https://localhost:8080/"
        },
        "id": "N5pGc4mTm0JQ",
        "outputId": "cecdf9f5-070a-407a-93b1-5d4376ecaefe"
      },
      "outputs": [
        {
          "output_type": "stream",
          "name": "stdout",
          "text": [
            "5\n",
            "[5, 6, 10]\n",
            "[40, 30, 10, 20]\n",
            "0.4344386072689054\n",
            "31.600619579420783\n",
            "98.86799811678593\n",
            "4\n",
            "7\n",
            "11.349008767288888\n"
          ]
        }
      ],
      "source": [
        "# random module\n",
        "import random\n",
        "# random choice\n",
        "data=random.choice([1,5,6,10,20])\n",
        "print(data)\n",
        "data=random.sample([1,5,6,10,20],3)\n",
        "print(data)\n",
        "# random swap(洗牌)\n",
        "data=[10,20,30,40]\n",
        "random.shuffle(data)\n",
        "print(data)\n",
        "\n",
        "# random number\n",
        "data=random.random() # random number between 0-1 \n",
        "print(data)\n",
        "data=random.uniform(30,60) # random number between 30-60\n",
        "print(data)\n",
        "\n",
        "# random number with stdev\n",
        "data=random.normalvariate(100,10)\n",
        "# mean=100，stdev=10 得到資料大多數在90-100間\n",
        "print(data)\n",
        "\n",
        "#statistics module \n",
        "import statistics as stat\n",
        "data=stat.mean([1,3,5,7])#mean\n",
        "print(data)\n",
        "data=stat.median([1,30,5,7,9])#median\n",
        "print(data)\n",
        "data=stat.stdev([1,30,5,7,9])#stdev\n",
        "print(data)"
      ]
    },
    {
      "cell_type": "markdown",
      "metadata": {
        "id": "4statdZpU2bE"
      },
      "source": [
        "# File IO\n",
        "\n",
        "|Character|Meaning|\n",
        "|---|---|\n",
        "|r|open for reading (default)|\n",
        "|w|open for writing, truncating the file first|\n",
        "|x|open for exclusive creation, failing if the file already exists|\n",
        "|a|open for writing, appending to the end of the file if it exists|\n",
        "|b|binary mode|\n",
        "|t|text mode (default)|\n",
        "|+|open a disk file for updating (reading and writing)|\n",
        "|U|universal newlines mode (deprecated)|\n",
        "\n",
        "### Path\n",
        "* Absolute path\n",
        "* Relative path\n",
        "\n",
        "### Path under different OS\n",
        "* URL: use `/`\n",
        "* Mac/Linux: `/folder/sample.txt`\n",
        "* Windows: `D:\\folder\\sample.txt`\n",
        "* Back to parent folder`../folder/sample.txt`"
      ]
    },
    {
      "cell_type": "code",
      "source": [
        "import os\n",
        "print(os.getcwd()) # print the working directory\n",
        "\n",
        "# for using commands in jupyter notebook add a \"!\" in the front\n",
        "!ls"
      ],
      "metadata": {
        "id": "y-c7WMIsyhKG",
        "outputId": "7025eb8b-8257-4f0d-b357-2dfa6ecab1a1",
        "colab": {
          "base_uri": "https://localhost:8080/"
        }
      },
      "execution_count": 62,
      "outputs": [
        {
          "output_type": "stream",
          "name": "stdout",
          "text": [
            "/content\n",
            "__pycache__  sample_json.json  sample_text_file.txt\n",
            "sample_data  sample_module.py\n"
          ]
        }
      ]
    },
    {
      "cell_type": "code",
      "execution_count": 63,
      "metadata": {
        "colab": {
          "base_uri": "https://localhost:8080/"
        },
        "id": "RFfThIPkafX5",
        "outputId": "3c82cf0c-3665-4e53-a242-f448c542c991"
      },
      "outputs": [
        {
          "output_type": "stream",
          "name": "stdout",
          "text": [
            "  % Total    % Received % Xferd  Average Speed   Time    Time     Time  Current\n",
            "                                 Dload  Upload   Total   Spent    Left  Speed\n",
            "100    11  100    11    0     0    196      0 --:--:-- --:--:-- --:--:--   196\n",
            "  % Total    % Received % Xferd  Average Speed   Time    Time     Time  Current\n",
            "                                 Dload  Upload   Total   Spent    Left  Speed\n",
            "100    41  100    41    0     0    745      0 --:--:-- --:--:-- --:--:--   745\n"
          ]
        }
      ],
      "source": [
        "# just for jupyter notebook that store in github. if store in local, it can be direct access\n",
        "\n",
        "# clone the entire repo\n",
        "\"\"\"\n",
        "!git clone https://github.com/tc11echo/data-structure-and-algorithm-in-python.git\n",
        "%cd cloned-repo\n",
        "!ls\n",
        "\"\"\"\n",
        "\n",
        "# fetch a single <1mb file using the raw github url\n",
        "!curl --remote-name -H 'Accept: application/vnd.github.v3.raw' --location https://raw.githubusercontent.com/tc11echo/data-structure-and-algorithm-in-python/main/basic_concept/sample_text_file.txt\n",
        "!curl --remote-name -H 'Accept: application/vnd.github.v3.raw' --location https://raw.githubusercontent.com/tc11echo/data-structure-and-algorithm-in-python/main/basic_concept/sample_json.json"
      ]
    },
    {
      "cell_type": "markdown",
      "source": [
        "[sample_text_file.txt](sample_text_file.txt)\n",
        "\n",
        "[sample_json.json](sample_json.json)"
      ],
      "metadata": {
        "id": "b8gZnpe4Q-q1"
      }
    },
    {
      "cell_type": "code",
      "execution_count": 64,
      "metadata": {
        "colab": {
          "base_uri": "https://localhost:8080/",
          "height": 52
        },
        "id": "oOpM0vaEVdog",
        "outputId": "da02a38e-82d2-4d53-95d2-a82b3a033f0e"
      },
      "outputs": [
        {
          "output_type": "stream",
          "name": "stdout",
          "text": [
            "Hello\n",
            "World"
          ]
        },
        {
          "output_type": "execute_result",
          "data": {
            "text/plain": [
              "'\\nwith open(r\"sample_text_file.txt\", mode=\"w\", encoding=\"utf-8\") as fp:\\n  fp.write(\"Line1\\n\")\\n  fp.write(\"Line2\\n\")\\n'"
            ],
            "application/vnd.google.colaboratory.intrinsic+json": {
              "type": "string"
            }
          },
          "metadata": {},
          "execution_count": 64
        }
      ],
      "source": [
        "# read (better way, automatically close file)\n",
        "with open(r\"sample_text_file.txt\", \"r\") as fp:\n",
        "  for line in fp:\n",
        "    print(line, end=\"\")\n",
        "\n",
        "# read\n",
        "\"\"\"\n",
        "fp=open(r\"sample_text_file.txt\")\n",
        "print(fp.read())\n",
        "fp.close()\n",
        "\"\"\"\n",
        "\n",
        "# write\n",
        "\"\"\"\n",
        "with open(r\"sample_text_file.txt\", mode=\"w\", encoding=\"utf-8\") as fp:\n",
        "  fp.write(\"Line1\\n\")\n",
        "  fp.write(\"Line2\\n\")\n",
        "\"\"\""
      ]
    },
    {
      "cell_type": "code",
      "execution_count": 65,
      "metadata": {
        "colab": {
          "base_uri": "https://localhost:8080/",
          "height": 70
        },
        "id": "bBIjOnTZV0JC",
        "outputId": "236e93e4-69b9-4653-9ed4-ec161cd834f7"
      },
      "outputs": [
        {
          "output_type": "stream",
          "name": "stdout",
          "text": [
            "Name: My Name\n",
            "Version: 1.2.30\n"
          ]
        },
        {
          "output_type": "execute_result",
          "data": {
            "text/plain": [
              "'\\ndata[\"name\"]=\"New name\"\\nwith open(\"sample_json.json\", mode=\"w\") as fp:\\n  json.dump(data, fp)\\n'"
            ],
            "application/vnd.google.colaboratory.intrinsic+json": {
              "type": "string"
            }
          },
          "metadata": {},
          "execution_count": 65
        }
      ],
      "source": [
        "import json\n",
        "\n",
        "# json read\n",
        "with open(r\"sample_json.json\", mode=\"r\") as fp:\n",
        "  data=json.load(fp)\n",
        "print(\"Name: \"+data[\"name\"])\n",
        "print(\"Version: \"+data[\"version\"])\n",
        "\n",
        "# json write\n",
        "\"\"\"\n",
        "data[\"name\"]=\"New name\"\n",
        "with open(\"sample_json.json\", mode=\"w\") as fp:\n",
        "  json.dump(data, fp)\n",
        "\"\"\""
      ]
    },
    {
      "cell_type": "markdown",
      "metadata": {
        "id": "fakFygJY2_qH"
      },
      "source": [
        "# Error Handling"
      ]
    },
    {
      "cell_type": "code",
      "execution_count": 66,
      "metadata": {
        "colab": {
          "base_uri": "https://localhost:8080/"
        },
        "id": "9qpaW-8D2__T",
        "outputId": "1d4caaff-07f7-48d7-dc7b-da72927c30f9"
      },
      "outputs": [
        {
          "output_type": "stream",
          "name": "stdout",
          "text": [
            "Zero Division Error Detected\n"
          ]
        }
      ],
      "source": [
        "\"\"\"\n",
        "try:\n",
        "  statment_1\n",
        "except exception_name:\n",
        "  statment_2\n",
        "\"\"\"\n",
        "\n",
        "try:\n",
        "  print(3/0)\n",
        "except NameError:\n",
        "  print (\"Name Error Detected\")\n",
        "except KeyError:\n",
        "  print (\"Key Error Detected\")\n",
        "except ValueError:\n",
        "  print(\"Value Error Detected\")\n",
        "except IndexError:\n",
        "  print(\"Index Error Detected\")\n",
        "except ZeroDivisionError:\n",
        "  print(\"Zero Division Error Detected\")\n",
        "except AttributeError:\n",
        "  print(\"object has no attribute\")\n",
        "except TypeError:\n",
        "  print(\"object does not support item assignment\")\n",
        "except Exception:\n",
        "  print(\"Other Error\")"
      ]
    }
  ],
  "metadata": {
    "colab": {
      "collapsed_sections": [],
      "name": "intro_python.ipynb",
      "provenance": [],
      "include_colab_link": true
    },
    "interpreter": {
      "hash": "b3ba2566441a7c06988d0923437866b63cedc61552a5af99d1f4fb67d367b25f"
    },
    "kernelspec": {
      "display_name": "Python 3 (ipykernel)",
      "language": "python",
      "name": "python3"
    },
    "language_info": {
      "codemirror_mode": {
        "name": "ipython",
        "version": 3
      },
      "file_extension": ".py",
      "mimetype": "text/x-python",
      "name": "python",
      "nbconvert_exporter": "python",
      "pygments_lexer": "ipython3",
      "version": "3.9.12"
    }
  },
  "nbformat": 4,
  "nbformat_minor": 0
}