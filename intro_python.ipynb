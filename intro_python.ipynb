{
  "cells": [
    {
      "cell_type": "markdown",
      "metadata": {
        "id": "view-in-github",
        "colab_type": "text"
      },
      "source": [
        "<a href=\"https://colab.research.google.com/github/tc11echo/data-structure-and-algorithm-in-python/blob/main/intro_python.ipynb\" target=\"_parent\"><img src=\"https://colab.research.google.com/assets/colab-badge.svg\" alt=\"Open In Colab\"/></a>"
      ]
    },
    {
      "cell_type": "markdown",
      "metadata": {
        "id": "Yv8GOKevAgPQ"
      },
      "source": [
        "# Introduction to Python\n",
        "Python is a high-level, dynamically typed multiparadigm programming language. \n",
        "\n",
        "Python code is often said to be almost like pseudocode, since it allows you to express very powerful ideas in very few lines of code while being very readable."
      ]
    },
    {
      "cell_type": "code",
      "execution_count": 110,
      "metadata": {
        "colab": {
          "base_uri": "https://localhost:8080/"
        },
        "id": "DUKmN85bAgPV",
        "outputId": "fb16106d-f4a1-4f8c-e47d-1badfc30f7fb"
      },
      "outputs": [
        {
          "output_type": "stream",
          "name": "stdout",
          "text": [
            "hello world!\n",
            "hello world!\n"
          ]
        }
      ],
      "source": [
        "# output\n",
        "# In C++, we distinguish a character and a string by single quotes and double quotes, respectively. However, in Python, there is no such a distinction, that is, characters are treated as string, and you can use single quotes or double quotes for strings.\n",
        "print(\"hello world!\") # double quotes\n",
        "print('hello world!') # single quotes. Same as double quotes"
      ]
    },
    {
      "cell_type": "code",
      "execution_count": 111,
      "metadata": {
        "id": "Sa1wHX7zAgPi",
        "outputId": "95c3ce04-d58f-4aeb-d005-f523d1dc630b",
        "colab": {
          "base_uri": "https://localhost:8080/"
        }
      },
      "outputs": [
        {
          "output_type": "stream",
          "name": "stdout",
          "text": [
            "enter a string: 1111111\n",
            "Your input string is: 1111111\n"
          ]
        }
      ],
      "source": [
        "# input\n",
        "x=input(\"enter a string: \") # x will be of str type, even if the user gives an integer\n",
        "print(\"Your input string is: \"+x)"
      ]
    },
    {
      "cell_type": "markdown",
      "source": [
        "# Basic Data Type and Operator"
      ],
      "metadata": {
        "id": "xWvtOqvv8OeV"
      }
    },
    {
      "cell_type": "code",
      "execution_count": 112,
      "metadata": {
        "id": "q1JEubeAAgPX",
        "outputId": "09b1f475-bda0-47ac-e4b3-197d80f1748f",
        "colab": {
          "base_uri": "https://localhost:8080/"
        }
      },
      "outputs": [
        {
          "output_type": "stream",
          "name": "stdout",
          "text": [
            "3 <class 'int'>\n",
            "0.5 <class 'float'>\n"
          ]
        }
      ],
      "source": [
        "# integers & floating point numbers\n",
        "x=3\n",
        "print(x, type(x)) # use type() function to check the data type of a variable; Prints \"<class 'int'>\"\n",
        "\n",
        "y=0.5\n",
        "print(y, type(y)) # use type() function to check the data type of a variable; prints \"<class 'float'>\""
      ]
    },
    {
      "cell_type": "code",
      "execution_count": 113,
      "metadata": {
        "id": "R1TGUJtZAgPZ",
        "outputId": "0523ee0b-8911-46a4-c2df-689c6524bbf6",
        "colab": {
          "base_uri": "https://localhost:8080/"
        }
      },
      "outputs": [
        {
          "output_type": "stream",
          "name": "stdout",
          "text": [
            "True False\n",
            "<class 'bool'>\n",
            "False\n",
            "True\n",
            "False\n",
            "True\n",
            "True\n",
            "1 3\n",
            "\n",
            "False\n",
            "True\n",
            "False\n"
          ]
        }
      ],
      "source": [
        "# boolean variables\n",
        "t=True # unlike C++, the first letter of \"True\" is capital. That is, do not write \"true\"\n",
        "f=False\n",
        "print(t, f)    # prints True False\n",
        "print(type(t))   # Prints \"<class 'bool'>\"\n",
        "print(t and f)  # Logical AND; prints \"False\"\n",
        "print(t or f)  # Logical OR; prints \"True\"\n",
        "print(not t)   # Logical NOT; prints \"False\"\n",
        "print(t != f)  # Logical XOR; prints \"True\"\n",
        "print(t==t)    # Logical comparison; prints \"True\"\n",
        "print(f+t+f, t+t+t+f)   # when doing arithmetic operations on booleans, they will be first converted to 1 (True) or 0 (False)\n",
        "print()\n",
        "\n",
        "# we can compare charaters like we compare numbers\n",
        "# when doing character comparison, we're comparing their ASCII code\n",
        "print('A'>'B') # False.\n",
        "print('z'>'a') # True.\n",
        "print('abc'>'abd') # False. # for string, we compare letter by letter. Since 'c'<'d', return False"
      ]
    },
    {
      "cell_type": "code",
      "execution_count": 114,
      "metadata": {
        "id": "HnTPRQYOAgPY",
        "outputId": "6ca8012e-822c-4c45-9b16-0d16246c19df",
        "colab": {
          "base_uri": "https://localhost:8080/"
        }
      },
      "outputs": [
        {
          "output_type": "stream",
          "name": "stdout",
          "text": [
            "4\n",
            "2\n",
            "6\n",
            "9\n",
            "1.5\n",
            "1\n",
            "1\n",
            "\n",
            "4\n",
            "8\n"
          ]
        }
      ],
      "source": [
        "# operator\n",
        "print(x + 1)   # addition; prints \"4\"\n",
        "print(x - 1)   # subtraction; prints \"2\"\n",
        "print(x * 2)   # multiplication; prints \"6\"\n",
        "print(x ** 2)   # exponentiation; prints \"9\"\n",
        "print(x / 2)   # ordinary division; prints \"1.5\". NOTE: it's unlike C++, where '/' carries out the integer division\n",
        "print(x // 2)   # integer division; prints \"1\"\n",
        "print(x % 2)   # remainder of x when divided by 2; prints \"1\"\n",
        "print()\n",
        "\n",
        "# shortcut assignment\n",
        "x+=1\n",
        "print(x)   # Prints \"4\"\n",
        "x*=2\n",
        "print(x)   # Prints \"8\""
      ]
    },
    {
      "cell_type": "markdown",
      "source": [
        "# String"
      ],
      "metadata": {
        "id": "3KxbfsUEwBpd"
      }
    },
    {
      "cell_type": "code",
      "execution_count": 115,
      "metadata": {
        "id": "8fTrAqe2AgPa",
        "outputId": "59b74721-aca7-4a0c-b804-764aef13573c",
        "colab": {
          "base_uri": "https://localhost:8080/"
        }
      },
      "outputs": [
        {
          "output_type": "stream",
          "name": "stdout",
          "text": [
            "True\n",
            "hello\n",
            "5\n",
            "hello world\n",
            "hello world2239\n",
            "hello world2239\n",
            "h\n"
          ]
        }
      ],
      "source": [
        "# string\n",
        "hello='hello'    # String literals can use single quotes\n",
        "world=\"world\"    # or double quotes; it does not matter\n",
        "print('hello'==\"hello\") # Prints \"True\"\n",
        "print(hello)       # Prints \"hello\"\n",
        "print(len(hello))    # len() returns the len of a given object; prints \"5\", since it has 5 letters\n",
        "hw=hello+' '+world  # to do string concatenation, use '+'\n",
        "print(hw)        # prints \"hello world\"\n",
        "\n",
        "# print(hw+2239) # IMPORTANT: when using '+', we must ensure that the two operands are of the same type. Here, the left operand is string, whereas the right operand is integer, and so this will result in error\n",
        "\n",
        "print(hw+'2239') # we should first convert the intger to string first!\n",
        "print(hw+str(2239)) # alternatively, use str() function to convert the interger to string. This is useful if it is a variable\n",
        "\n",
        "# More about string type\n",
        "s='hello'\n",
        "print(s[0]) # Prints 'h'; much like in C++, we use [] to access individual elements of an array\n",
        "\n",
        "# string in python is immutable (immutable means unchangeable), that is, we cannot modify the elements of a string\n",
        "# s[0]='x' Error: attempt to change the elements of a string"
      ]
    },
    {
      "cell_type": "code",
      "execution_count": 116,
      "metadata": {
        "id": "sz-6dmoeAgPb",
        "outputId": "a2b53672-f400-46fd-975a-f7f99c6085dd",
        "colab": {
          "base_uri": "https://localhost:8080/"
        }
      },
      "outputs": [
        {
          "output_type": "stream",
          "name": "stdout",
          "text": [
            "Hello\n",
            "HELLO\n",
            "world\n",
            "True\n",
            "False\n"
          ]
        }
      ],
      "source": [
        "# methods for string\n",
        "# in python, string is an object, and so it has many methods for us to use (a method in python is called a member function in C++)\n",
        "s=\"hello\"\n",
        "print(s.capitalize())  # Capitalize a string; prints \"Hello\"\n",
        "print(s.upper())       # Convert a string to uppercase; prints \"HELLO\"\n",
        "print('  world '.strip())  # Strip leading and trailing whitespace; prints \"world\"\n",
        "print(s.isalpha()) # check whether all the characters in s are English alphabets\n",
        "print(\"A_X\".isalpha()) # False"
      ]
    },
    {
      "cell_type": "code",
      "execution_count": 117,
      "metadata": {
        "id": "pmDR8h3aAgPi",
        "outputId": "f596cd2f-c66e-4838-9ecf-74f99b53c2ad",
        "colab": {
          "base_uri": "https://localhost:8080/"
        }
      },
      "outputs": [
        {
          "output_type": "stream",
          "name": "stdout",
          "text": [
            "My favorite number is 100\n",
            "My favorite number is 100\n"
          ]
        }
      ],
      "source": [
        "# f-string\n",
        "# in print(), it may not be too convenient to use '+' all the time to concatenate several non-string pieces. Alternatively, we can use f-string as below:\n",
        "favorite=100\n",
        "# to use f-string, pre-append your string with the letter 'f' (which stands for format)\n",
        "print(f\"My favorite number is {favorite}\" ) # anything enclosed by {} is considered a variable name\n",
        "print(\"My favorite number is \"+str(favorite) ) # this is the same as above, but much less convenient"
      ]
    },
    {
      "cell_type": "markdown",
      "source": [
        "# Flow Control"
      ],
      "metadata": {
        "id": "35QRhQZdMiwD"
      }
    },
    {
      "cell_type": "code",
      "execution_count": 118,
      "metadata": {
        "id": "u3RA3cfmAgPh",
        "outputId": "1da374cb-a88e-424f-a566-b7df1856d534",
        "colab": {
          "base_uri": "https://localhost:8080/"
        }
      },
      "outputs": [
        {
          "output_type": "stream",
          "name": "stdout",
          "text": [
            "b larger than a\n"
          ]
        }
      ],
      "source": [
        "# if statement syntax\n",
        "a,b=1,2\n",
        "if b>a: \n",
        "  print(\"b larger than a\")\n",
        "elif a>b:  # do not write \"else if\" ! \n",
        "  print(\"a larger than b\")\n",
        "else:\n",
        "  print(\"a=b\")"
      ]
    },
    {
      "cell_type": "code",
      "execution_count": 119,
      "metadata": {
        "id": "wVMZZ3ENAgPh",
        "outputId": "3d63c175-fcae-4fef-823a-f11050e60cbd",
        "colab": {
          "base_uri": "https://localhost:8080/"
        }
      },
      "outputs": [
        {
          "output_type": "stream",
          "name": "stdout",
          "text": [
            "b larger than a\n"
          ]
        }
      ],
      "source": [
        "# if the body of a condition contains one line only, we can put this line right after the colon, like so:\n",
        "a,b=1,2\n",
        "if b>a: print(\"b larger than a\")\n",
        "elif a>b: print(\"a larger than b\")\n",
        "else: print(\"a=b\")"
      ]
    },
    {
      "cell_type": "code",
      "execution_count": 120,
      "metadata": {
        "id": "gWga0GWmAgPh",
        "outputId": "e7eac9cc-b39a-4315-f45d-1f32958b9dbd",
        "colab": {
          "base_uri": "https://localhost:8080/"
        }
      },
      "outputs": [
        {
          "output_type": "stream",
          "name": "stdout",
          "text": [
            "b larger than a\n",
            "b larger than a\n"
          ]
        }
      ],
      "source": [
        "# short-hand `if-else`. This is like the ternary operator in C++, but the syntax is different\n",
        "print(\"b larger than a\") if b>a else print(\"b NOT larger than a\")\n",
        "\n",
        "# unlike the ternary operator in C++, in python we can have have multiple else cases:\n",
        "print(\"b larger than a\") if b>a else print(\"a larger than b\") if a >b else print(\"a=b\")"
      ]
    },
    {
      "cell_type": "code",
      "execution_count": 121,
      "metadata": {
        "id": "K37oMwokAgPf",
        "outputId": "a9813870-29ba-40ff-9fe2-a9a10d244ca9",
        "colab": {
          "base_uri": "https://localhost:8080/"
        }
      },
      "outputs": [
        {
          "output_type": "stream",
          "name": "stdout",
          "text": [
            "cat\n",
            "dog\n",
            "monkey\n"
          ]
        }
      ],
      "source": [
        "# for loop \n",
        "# You can loop over the elements of a list like this:\n",
        "animals=['cat', 'dog', 'monkey']\n",
        "for animal in animals: # the colon \":\" at the end is necessary\n",
        "  print(animal) # Python does not use curly braces to indicate the body of a loop. Instead, it uses indentation. Here, we use a tab for indentation, but you can use a space or several spaces instead---as long as there are is indentation that will do. But the most common choice is a tab"
      ]
    },
    {
      "cell_type": "code",
      "execution_count": 122,
      "metadata": {
        "id": "06zJIlsQAgPf",
        "outputId": "2f28b4cf-240b-4734-e9ca-a9da69a6fbae",
        "colab": {
          "base_uri": "https://localhost:8080/"
        }
      },
      "outputs": [
        {
          "output_type": "stream",
          "name": "stdout",
          "text": [
            "1 \t2 \t3 \t4 \t5 \t6 \t7 \t8 \t9 \t\n",
            "2 \t4 \t6 \t8 \t10 \t12 \t14 \t16 \t18 \t\n",
            "3 \t6 \t9 \t12 \t15 \t18 \t21 \t24 \t27 \t\n",
            "4 \t8 \t12 \t16 \t20 \t24 \t28 \t32 \t36 \t\n",
            "5 \t10 \t15 \t20 \t25 \t30 \t35 \t40 \t45 \t\n",
            "6 \t12 \t18 \t24 \t30 \t36 \t42 \t48 \t54 \t\n",
            "7 \t14 \t21 \t28 \t35 \t42 \t49 \t56 \t63 \t\n",
            "8 \t16 \t24 \t32 \t40 \t48 \t56 \t64 \t72 \t\n",
            "9 \t18 \t27 \t36 \t45 \t54 \t63 \t72 \t81 \t\n"
          ]
        }
      ],
      "source": [
        "# nested for loops\n",
        "# like other languages, we can also define nested for loops\n",
        "# EX: print a multiplication table\n",
        "\n",
        "for i in range(1,10):\n",
        "  for j in range(1,10):\n",
        "    print(i*j,\"\\t\", end='')\n",
        "  print()\n",
        "\n",
        "# 1  2  3  4  5  6  7  8  9  \n",
        "# 2  4  6  8  10  12  14  16  18  \n",
        "# 3  6  9  12  15  18  21  24  27  \n",
        "# 4  8  12  16  20  24  28  32  36  \n",
        "# 5  10  15  20  25  30  35  40  45  \n",
        "# 6  12  18  24  30  36  42  48  54  \n",
        "# 7  14  21  28  35  42  49  56  63  \n",
        "# 8  16  24  32  40  48  56  64  72  \n",
        "# 9  18  27  36  45  54  63  72  81  "
      ]
    },
    {
      "cell_type": "code",
      "execution_count": 123,
      "metadata": {
        "id": "603DdfYhAgPg",
        "outputId": "404d17db-8cde-429a-d27a-f35a613f25fa",
        "colab": {
          "base_uri": "https://localhost:8080/"
        }
      },
      "outputs": [
        {
          "output_type": "stream",
          "name": "stdout",
          "text": [
            "5\n",
            "4\n",
            "3\n",
            "2\n",
            "1\n"
          ]
        }
      ],
      "source": [
        "# while loop\n",
        "# the following while loop print the digits of a numbers in reverse\n",
        "n=12345\n",
        "while n>0:\n",
        "  print(n%10) # get the last digit\n",
        "  n//=10 # remove the last digit"
      ]
    },
    {
      "cell_type": "markdown",
      "source": [
        "# List (Array, but not exactly)"
      ],
      "metadata": {
        "id": "r7Xjl_6QvRlJ"
      }
    },
    {
      "cell_type": "code",
      "execution_count": 124,
      "metadata": {
        "id": "UovVnD9DAgPd",
        "outputId": "6fe8ed93-23f2-4567-8754-e5591889f41d",
        "colab": {
          "base_uri": "https://localhost:8080/"
        }
      },
      "outputs": [
        {
          "output_type": "stream",
          "name": "stdout",
          "text": [
            "[3, 1, 2]\n",
            "3 1 2\n",
            "2\n",
            "[3, 1, 'foo']\n",
            "[3, 1, 'foo', 'bar']\n",
            "bar [3, 1, 'foo']\n",
            "[3, 'foo']\n",
            "1\n",
            "[3, 'abc', 'foo']\n",
            "[10, 'abc', 'foo']\n"
          ]
        }
      ],
      "source": [
        "# list \n",
        "# A list is the Python equivalent of an array in C++, but a python list is resizeable and can contain elements of different types. \n",
        "t=[3, 1, 2]    # Create a list. Do not use l as the name of a list, because it is often confused with 1 and I\n",
        "print(t)     # Prints \"[3, 1, 2]\"\n",
        "print(t[0],t[1],t[2]) # Prints \"3 1 2\". Like C++, we use [] to access individual elements of an array.\n",
        "print(t[-1])     # Negative indices count from the end of the list; [-1] means the last element; prints \"2\"\n",
        "\n",
        "t[2]='foo'     # Lists can contain elements of different types. Now t[2] contains a string type, not an int type \n",
        "print(t)         # Prints \"[3, 1, 'foo']\"\n",
        "\n",
        "t.append('bar')  # append method adds a new element to the end of the list\n",
        "print(t)         # Prints \"[3, 1, 'foo', 'bar']\"\n",
        "\n",
        "x=t.pop()      # Remove and return the last element of the list\n",
        "print(x, t)      # Prints \"bar [3, 1, 'foo']\"\n",
        "\n",
        "t.remove(1)      # remove the element 1 from the list t \n",
        "print(t)         # Prints [3, 'foo']\n",
        "\n",
        "print(t.index('foo')) # give the index of the element 'foo'\n",
        "\n",
        "t.insert(1, 'abc') # insert 'abc' at index 1\n",
        "print(t)\n",
        "\n",
        "t[0]=10       # change t[0] to 10\n",
        "print(t)        # [10, 'abc', 'foo']\n",
        "\n",
        "del t            # delete the list t.\n",
        "# print(t)       # error, since t has be deleted."
      ]
    },
    {
      "cell_type": "code",
      "execution_count": 125,
      "metadata": {
        "id": "2-W51a5HAgPe",
        "outputId": "209fc69f-a3f9-4fc9-86e4-1f114cd23a4e",
        "colab": {
          "base_uri": "https://localhost:8080/"
        }
      },
      "outputs": [
        {
          "output_type": "stream",
          "name": "stdout",
          "text": [
            "[0, 1, 2, 3, 4]\n",
            "[2, 3]\n",
            "[2, 3, 4]\n",
            "[0, 1]\n",
            "[1, 3]\n",
            "[0, 3]\n",
            "[0, 1, 2, 3, 4]\n",
            "[0, 1, 8, 9, 4]\n"
          ]
        }
      ],
      "source": [
        "# slicing: in addition to accessing list elements one at a time, Python provides concise syntax to access sublists; this is known as slicing. Note that slicing can also be used on string type. \n",
        "t=list(range(5))  # range is a built-in function that creates an iterable of integers. range(5) means that the numbers are from [0,5) (i.e., not including 5!). Notice that range(5) itself is not a list. To convert to a list, apply list() on it. \n",
        "print(t)      # print \"[0, 1, 2, 3, 4]\"\n",
        "print(t[2:4])    # get a slice from index 2 to 4(exclusive); print \"[2, 3]\"\n",
        "print(t[2:])    # get a slice from index 2 to the end; prints \"[2, 3, 4]\"\n",
        "print(t[:2])    # get a slice from the start to index 2(exclusive); print \"[0, 1]\"\n",
        "print(t[1:5:2])   # it means get elements from index 1 to index 4, but after getting an element, jump 2 indices, but not 1, which is the default value. Print \"[1,3]\"\n",
        "print(t[::3])    # print \"[0, 3]\"\n",
        "print(t[:])     # get a slice of the whole list; print \"[0, 1, 2, 3, 4]\"\n",
        "t[2:4]=[8,9]    # assign a new sublist to a slice\n",
        "print(t)      # print \"[0, 1, 8, 9, 4]\""
      ]
    },
    {
      "cell_type": "code",
      "execution_count": 126,
      "metadata": {
        "id": "FuJ4TB7uAgPf",
        "outputId": "658e734f-47ef-4bb1-cc31-78733c9d5c86",
        "colab": {
          "base_uri": "https://localhost:8080/"
        }
      },
      "outputs": [
        {
          "output_type": "stream",
          "name": "stdout",
          "text": [
            "987\n",
            "01234567\n",
            "789\n",
            "76543210\n",
            "642\n",
            "\n",
            "9876543210\n",
            "9876543210\n"
          ]
        }
      ],
      "source": [
        "# more about slicing\n",
        "\"\"\"\n",
        "- the three numbers `start`, `end`, `step` in [start:end:step] can each be negative!\n",
        "- IMPORTANT: the last element of a sequence (i.e., list, string) is also given the index `-1`. \n",
        "\"\"\"\n",
        "\n",
        "s=\"0123456789\"\n",
        "print(s[-1:-4:-1]) # 987\n",
        "print(s[:-2])    # 01234567\n",
        "print(s[-3:])    # 789\n",
        "print(s[-3::-1])  # 76543210\n",
        "print(s[6:1:-2])  # 642\n",
        "print(s[6:1:2])   # print nothing\n",
        "print(s[::-1])   # same as s[-1:-len(s)-1:-1] # 9876543210\n",
        "print(s[-1:-len(s)-1:-1]) # 9876543210"
      ]
    },
    {
      "cell_type": "code",
      "execution_count": 127,
      "metadata": {
        "id": "vAGEiaj7AgPi",
        "outputId": "a187d967-0c1c-49e4-ef23-d6ae4a82d4ae",
        "colab": {
          "base_uri": "https://localhost:8080/"
        }
      },
      "outputs": [
        {
          "output_type": "stream",
          "name": "stdout",
          "text": [
            "True\n",
            "False\n",
            "False\n",
            "True\n"
          ]
        }
      ],
      "source": [
        "# comparison operators\n",
        "t=[1,2,3,4]\n",
        "print(1 in t)    # True. check if 1 is an element of t. \n",
        "print('1' in t)   # False. since '1' is a string, not an integer.\n",
        "print([1,2,3] in t) # False. although [1,2,3] is a subset of [1,2,3,4], it is not an element of [1,2,3,4]\n",
        "print([1,2,3,4]==t)  # True. "
      ]
    },
    {
      "cell_type": "code",
      "execution_count": 128,
      "metadata": {
        "id": "ilX2JnwiAgPd",
        "outputId": "c6ce210e-e53b-474d-ec60-afaae7901892",
        "colab": {
          "base_uri": "https://localhost:8080/"
        }
      },
      "outputs": [
        {
          "output_type": "stream",
          "name": "stdout",
          "text": [
            "[-1, 2, 3] [-1, 2, 3]\n",
            "140484149130816\n",
            "140484149130816\n",
            "\n",
            "[1, 2, 3] [-1, 2, 3]\n",
            "140484149381952\n",
            "140484149014608\n",
            "\n"
          ]
        }
      ],
      "source": [
        "# assignment operator vs deep copy\n",
        "t1=[1,2,3] # t1 points to the list [1,2,3]\n",
        "t2=t1    # t2 also points to the same list [1,2,3]. So, now, both t1 and t2 point to the same list [1,2,3]\n",
        "\n",
        "t2[0]=-1  # this will also affect t1, since both t1 and t2 point to the same [1,2,3]\n",
        "print(t1, t2)\n",
        "\n",
        "# to check whether two variables point to the same object, we can check their id. If id is the same, then they are\n",
        "print(id(t1))\n",
        "print(id(t2))\n",
        "print()\n",
        "\n",
        "\n",
        "t1=[1,2,3]\n",
        "t2=t1.copy() # t2 points to a different [1,2,3] than the one t1 points to\n",
        "t2[0]=-1 # this will NOT affect t1, since both t1 and t2 point to the same [1,2,3]\n",
        "print(t1, t2)\n",
        "print(id(t1))\n",
        "print(id(t2))\n",
        "print()"
      ]
    },
    {
      "cell_type": "markdown",
      "source": [
        "# Tuple"
      ],
      "metadata": {
        "id": "-6bEetOUxHLs"
      }
    },
    {
      "cell_type": "code",
      "execution_count": 129,
      "metadata": {
        "id": "0pRDN4J5AgPi",
        "outputId": "131db2bf-c158-4a33-cb57-fcd7de3e7427",
        "colab": {
          "base_uri": "https://localhost:8080/"
        }
      },
      "outputs": [
        {
          "output_type": "stream",
          "name": "stdout",
          "text": [
            "(1, 2, 3) <class 'tuple'>\n",
            "(1, 2, 3) <class 'tuple'>\n",
            "(1,) <class 'tuple'>\n",
            "1 <class 'int'>\n"
          ]
        }
      ],
      "source": [
        "# tuple \n",
        "# tuple is an (immutable) ordered list of values. A tuple is in many ways similar to a list; The most important difference between tuple and list is that tuple's elements cannot be modified after it's declared. By extension, we cannot add new elements to an existing tuple. That is, once a tuple is created, it cannot be modified in any way. In fact, recall that we've already seen another immutable type of data structure: string. Therefore, tuple and string are similar in that both are immutable. \n",
        "\n",
        "t=(1,2,3) # t is a tuple. We use () to represent tuples\n",
        "print(t, type(t)) # (1, 2, 3) <class 'tuple'>\n",
        "t=1,2,3 # in fact, the parentheses () above is optional. That is, we can define t without the ()\n",
        "print(t, type(t)) # (1, 2, 3) <class 'tuple'>\n",
        "\n",
        "singleton=(1,) # one exception where () must be used is when the tuple contains one element only. In this case, not only is the () necessary, we also need to add a ',' to indicate that it is not an integer. Without the comma, python will mistook it for an integer, because (1)==1, for example.\n",
        "print(singleton, type(singleton)) # (1,) <class 'tuple'>\n",
        "\n",
        "wrong_singleton=(1) # this is just an integer, since it lacks a comma\n",
        "print(wrong_singleton, type(wrong_singleton)) # 1 <class 'int'>\n",
        "# Although parentheses () is optional, including it is highly recommended. There are still other cases where () is necessary so as to avoid the issue of operator precedence."
      ]
    },
    {
      "cell_type": "code",
      "execution_count": 130,
      "metadata": {
        "id": "XRT50CIwAgPj",
        "outputId": "9aa2b5e3-02f6-4f4a-b6c7-5123d862b0b4",
        "colab": {
          "base_uri": "https://localhost:8080/"
        }
      },
      "outputs": [
        {
          "output_type": "stream",
          "name": "stdout",
          "text": [
            "[10, 2, 20]\n"
          ]
        },
        {
          "output_type": "execute_result",
          "data": {
            "text/plain": [
              "(10, 2, 20)"
            ]
          },
          "metadata": {},
          "execution_count": 130
        }
      ],
      "source": [
        "# tuple vs list\n",
        "tup=(1,2)\n",
        "t=[1,2]\n",
        "# tup[0]=10 # error. attempt to modify the elements of a tuple\n",
        "t[0]=10 # ok. we can modify the elements of a list\n",
        "# tup.append(20) # error. we cannot add new elements to a tuple\n",
        "t.append(20) # ok. we can also add new elements to a list\n",
        "print(t) # [10, 2, 20]\n",
        "\n",
        "# we can convert a tuple to a list and vice versa, by using their constructors (i.e., list())\n",
        "list(tup) # convert a tuple to a list\n",
        "tuple(t) # convert a list to a tuple"
      ]
    },
    {
      "cell_type": "code",
      "execution_count": 131,
      "metadata": {
        "id": "n5xq743HAgPg",
        "outputId": "8e5275d6-9437-4a28-efb9-4ff91738ef0f",
        "colab": {
          "base_uri": "https://localhost:8080/"
        }
      },
      "outputs": [
        {
          "output_type": "stream",
          "name": "stdout",
          "text": [
            "1 2\n",
            "2 1\n"
          ]
        }
      ],
      "source": [
        "# swapping the contents of two variables\n",
        "# it's very easy in python to swap the contents of two variables\n",
        "a,b=1,2\n",
        "print(a,b) # 1 2\n",
        "\n",
        "a,b=b, a # swapping the content of the two variables\n",
        "print(a,b) # 2 1"
      ]
    },
    {
      "cell_type": "code",
      "execution_count": 132,
      "metadata": {
        "id": "W1Gju7fSAgPg",
        "outputId": "90ea88b5-5921-4240-8558-2aec19782e2e",
        "colab": {
          "base_uri": "https://localhost:8080/"
        }
      },
      "outputs": [
        {
          "output_type": "stream",
          "name": "stdout",
          "text": [
            "1 Hello [1, 2, 3] True\n"
          ]
        }
      ],
      "source": [
        "# create multiple variaables in one line\n",
        "a,b,c,d=1,'Hello',[1,2,3],True # Create and initialize 4 variables at the same time. The syntax is different from that of C++, but we'll see why Python uses this different syntax when we learn the data structure called tuple later. \n",
        "print(a,b,c,d) # Prints \"1 Hello [1, 2, 3] True\""
      ]
    },
    {
      "cell_type": "code",
      "execution_count": 133,
      "metadata": {
        "id": "hk944H6CAgPj",
        "outputId": "a1654dd4-5bcb-428e-9aa3-a341e9c8d48b",
        "colab": {
          "base_uri": "https://localhost:8080/"
        }
      },
      "outputs": [
        {
          "output_type": "stream",
          "name": "stdout",
          "text": [
            "1 2 3\n",
            "1 2 3\n",
            "1 2 3\n"
          ]
        }
      ],
      "source": [
        "# when we previously initialized several variables at once, the right hand side was actually a tuple (without the parentheses \"()\" ), like so:\n",
        "a,b,c=1,2,3 # 1,2,3 is a tuple\n",
        "print(a,b,c)\n",
        "a,b,c=(1,2,3) # we can of course add parenthese, and the result is the same as before.\n",
        "print(a,b,c)\n",
        "a,b,c=[1,2,3]  # in fact, the right hand side can also be list, and the result is the same.\n",
        "print(a,b,c)\n",
        "# When we initialize several variables at once by a tuple/list, what we're doing is called \"UNPACK the tuple/list\""
      ]
    },
    {
      "cell_type": "markdown",
      "source": [
        "# Set"
      ],
      "metadata": {
        "id": "5xHWJJjx7uIK"
      }
    },
    {
      "cell_type": "code",
      "source": [
        "# set\n",
        "s1={3,4,5}\n",
        "print(3 in s1)\n",
        "print(10 in s1)\n",
        "print(10 not in s1)\n",
        "print()\n",
        "\n",
        "s2={4,5,6,7}\n",
        "s3=s1&s2 # intersection, print \"{4, 5}\"\n",
        "print(s3)\n",
        "s3=s1|s2 # union, print \"{3, 4, 5, 6, 7}\"\n",
        "print(s3)\n",
        "s3=s1-s2 # difference s1-s2, print \"{3}\"\n",
        "print(s3)\n",
        "s3=s1^s2 # union-Intersection, print \"{3, 6, 7}\"\n",
        "print(s3)\n",
        "print()\n",
        "\n",
        "s=set(\"Hello\")\n",
        "print(s)\n",
        "print(\"H\" in s)\n",
        "print(\"A\" in s)"
      ],
      "metadata": {
        "colab": {
          "base_uri": "https://localhost:8080/"
        },
        "id": "cacRQsAC7xOb",
        "outputId": "45f8daab-59d8-4e20-bb6f-63b395e28050"
      },
      "execution_count": 134,
      "outputs": [
        {
          "output_type": "stream",
          "name": "stdout",
          "text": [
            "True\n",
            "False\n",
            "True\n",
            "\n",
            "{4, 5}\n",
            "{3, 4, 5, 6, 7}\n",
            "{3}\n",
            "{3, 6, 7}\n",
            "\n",
            "{'l', 'H', 'o', 'e'}\n",
            "True\n",
            "False\n"
          ]
        }
      ]
    },
    {
      "cell_type": "code",
      "source": [
        "# dictionary: key-value pair\n",
        "dic={\"apple\":\"蘋果\",\"bug\":\"蟲蟲\"}\n",
        "print(dic[\"apple\"])\n",
        "dic[\"apple\"]=\"小蘋果\"\n",
        "print(dic[\"apple\"])\n",
        "print()\n",
        "\n",
        "dic={\"apple\":\"蘋果\",\"bug\":\"蟲蟲\"}\n",
        "print(\"apple\" in dic)\n",
        "print(\"蘋果\" in dic)\n",
        "print(\"test\" in dic)\n",
        "print()\n",
        "\n",
        "del dic[\"apple\"] # # delete the key-value pair \"apple\":\"蘋果\"\n",
        "print(dic)\n",
        "dic={x:x*2 for x in [3,4,5]} # form dictionary from list\n",
        "print(dic)"
      ],
      "metadata": {
        "colab": {
          "base_uri": "https://localhost:8080/"
        },
        "id": "U7vmc1LJ8y9B",
        "outputId": "1c07f386-6116-4999-a1ef-e7e0ae77a6c7"
      },
      "execution_count": 135,
      "outputs": [
        {
          "output_type": "stream",
          "name": "stdout",
          "text": [
            "蘋果\n",
            "小蘋果\n",
            "\n",
            "True\n",
            "False\n",
            "False\n",
            "\n",
            "{'bug': '蟲蟲'}\n",
            "{3: 6, 4: 8, 5: 10}\n"
          ]
        }
      ]
    },
    {
      "cell_type": "markdown",
      "source": [
        "# Function"
      ],
      "metadata": {
        "id": "lHMKQnxuMari"
      }
    },
    {
      "cell_type": "code",
      "execution_count": 136,
      "metadata": {
        "id": "Q5tFmz4LAgPj",
        "outputId": "89616084-2dba-4cc1-95e0-77000cf0da9e",
        "colab": {
          "base_uri": "https://localhost:8080/"
        }
      },
      "outputs": [
        {
          "output_type": "stream",
          "name": "stdout",
          "text": [
            "negative\n",
            "zero\n",
            "positive\n"
          ]
        }
      ],
      "source": [
        "# function in python\n",
        "# python functions are defined using the def keyword. For example:\n",
        "\n",
        "def func(x):\n",
        "  if x>0:\n",
        "    return 'positive'\n",
        "  elif x<0:\n",
        "    return 'negative'\n",
        "  else:\n",
        "    return 'zero'\n",
        "\n",
        "for x in [-1, 0, 1]:\n",
        "  print(func(x))"
      ]
    },
    {
      "cell_type": "code",
      "execution_count": 137,
      "metadata": {
        "id": "FSnssUiQAgPk"
      },
      "outputs": [],
      "source": [
        "# in python, the function body must not be empty. To get around this, use 'pass' keyword, like so:\n",
        "def function_to_be_implement():\n",
        "  pass  # without this, there will be error. "
      ]
    },
    {
      "cell_type": "code",
      "execution_count": 138,
      "metadata": {
        "id": "bbz_nuiTAgPk",
        "outputId": "b1d17a9c-dc10-43a1-cf2f-2651a2f4af37",
        "colab": {
          "base_uri": "https://localhost:8080/"
        }
      },
      "outputs": [
        {
          "output_type": "stream",
          "name": "stdout",
          "text": [
            "(100, 1000)\n"
          ]
        }
      ],
      "source": [
        "# if a function needs to returns several values, we can allow it to return a tuple instead:\n",
        "def square_cube(x):\n",
        "  return x**2, x**3 # return a tuple of two numbers\n",
        "  # return (x**2, x**3) # we can also add a pair of parentheses, but it's optional\n",
        "\n",
        "print(square_cube(10)) # print a tuple, since the function returns a tuple"
      ]
    },
    {
      "cell_type": "code",
      "execution_count": 139,
      "metadata": {
        "id": "n8yk9i5SAgPk",
        "outputId": "d30d6533-75ee-4670-9ae5-1cf8d68779a4",
        "colab": {
          "base_uri": "https://localhost:8080/"
        }
      },
      "outputs": [
        {
          "output_type": "stream",
          "name": "stdout",
          "text": [
            "Hello, Alice\n",
            "HELLO, BOB!\n"
          ]
        }
      ],
      "source": [
        "# default parameters\n",
        "# We will often define functions to take optional arguments, like so:\n",
        "def hello(name, loud=False): # the parameter loud defaults to False. That is, if the user doesn't provide this parameter, then the value will be False\n",
        "  if loud: # if loud is True\n",
        "    print(f'HELLO, {name.upper()}!') # upper() method changes all lower-case letters to upper-case\n",
        "  else: # if loud is False\n",
        "    print(f'Hello, {name}')\n",
        "\n",
        "hello('Alice') # Prints \"Hello, Alice\"\n",
        "hello('Bob', loud=True)  # Prints \"HELLO, BOB!\""
      ]
    },
    {
      "cell_type": "code",
      "source": [
        "def func(*ns):\n",
        "  print(ns)\n",
        "func(3,4)\n",
        "\n",
        "def avg(*ns):\n",
        "  sum=0\n",
        "  for x in ns:\n",
        "    sum+=x\n",
        "    print(sum/len(ns))  \n",
        "avg(3,4)\n",
        "#avg(3,4,10,55)"
      ],
      "metadata": {
        "colab": {
          "base_uri": "https://localhost:8080/"
        },
        "id": "I93r1gOvl5hy",
        "outputId": "df70af84-e9b8-4492-a95a-cde8e889e714"
      },
      "execution_count": 140,
      "outputs": [
        {
          "output_type": "stream",
          "name": "stdout",
          "text": [
            "(3, 4)\n",
            "1.5\n",
            "3.5\n"
          ]
        }
      ]
    },
    {
      "cell_type": "code",
      "source": [
        "def func(x:int): # \":\" in \"<variable>:<data type>\" limited the parameter data type\"\n",
        "  print(x)\n",
        "func(4)"
      ],
      "metadata": {
        "colab": {
          "base_uri": "https://localhost:8080/"
        },
        "id": "WwsIL51XC58u",
        "outputId": "1c7ce721-2932-4b60-a3c3-3e0fc6f0a640"
      },
      "execution_count": 141,
      "outputs": [
        {
          "output_type": "stream",
          "name": "stdout",
          "text": [
            "4\n"
          ]
        }
      ]
    },
    {
      "cell_type": "code",
      "execution_count": 142,
      "metadata": {
        "id": "uqSjssoIAgPk",
        "outputId": "db572127-6f48-4c52-e5ed-7841702f0c1c",
        "colab": {
          "base_uri": "https://localhost:8080/"
        }
      },
      "outputs": [
        {
          "output_type": "stream",
          "name": "stdout",
          "text": [
            "15\n",
            "5\n",
            "1\n"
          ]
        }
      ],
      "source": [
        "# aggregate functions: sum, max, and min\n",
        "# in fact, we'll learn more powerful aggregate functions when we talk about Numpy, a data science package in python. So, we'll just briefly talk about sum, max and min that are python's built-in.\n",
        "\n",
        "t=[1,2,3,4,5]\n",
        "print(sum(t)) # 15. sum takes an iterable as input. So, do not give several numbers as input! We need to put these numbers in a list!\n",
        "# print(sum(1,2,3)) # error! We need to put the numbers in a list. Here, we are giving three inputs, rather than a single input of list type!\n",
        "print(max(t)) # 5\n",
        "print(min(t)) # 1"
      ]
    },
    {
      "cell_type": "code",
      "source": [
        "# recursion\n",
        "# n!=1*2 * .... * n\n",
        "\n",
        "def factorial (x:int, level:int):\n",
        "  if x == 1:\n",
        "    print(\"  \" * level+\" base case x=\"+str(x))\n",
        "    return 1 # base case\n",
        "  else:\n",
        "    print(\"  \" * level+\" at level :\"+str(level)+\" x=\"+str(x))\n",
        "    f=factorial(x-1, level+1)\n",
        "    print(\"  \" * level+\" at level :\"+str(level)+\" f=\"+str(f))\n",
        "    r=x * f\n",
        "    print(\"  \" * level+\" at level : \"+str(level)+\" before return :\"+str(r))\n",
        "    return r # iteration\n",
        "\n",
        "r=factorial(5, 0)\n",
        "print(f\"what is r: {r}\")"
      ],
      "metadata": {
        "id": "sy_ak08vJb8P",
        "outputId": "c6b4f536-8b93-43f2-a5f6-7c884db61688",
        "colab": {
          "base_uri": "https://localhost:8080/"
        }
      },
      "execution_count": 143,
      "outputs": [
        {
          "output_type": "stream",
          "name": "stdout",
          "text": [
            " at level :0 x=5\n",
            "   at level :1 x=4\n",
            "     at level :2 x=3\n",
            "       at level :3 x=2\n",
            "         base case x=1\n",
            "       at level :3 f=1\n",
            "       at level : 3 before return :2\n",
            "     at level :2 f=2\n",
            "     at level : 2 before return :6\n",
            "   at level :1 f=6\n",
            "   at level : 1 before return :24\n",
            " at level :0 f=24\n",
            " at level : 0 before return :120\n",
            "what is r: 120\n"
          ]
        }
      ]
    },
    {
      "cell_type": "markdown",
      "metadata": {
        "id": "hu2DT4OyAgPl"
      },
      "source": [
        "# OOP in python\n",
        "unlike C++, python doesn't have access specifier (i.e., no `private`, `public` keywords), but u can follow the naming rule below to have better identification:\n",
        "* vari --> public\n",
        "* _vari --> protected\n",
        "* __vari --> private\n",
        "* func --> public\n",
        "* _func --> private\n",
        "* \\_\\_func__ --> only can be use, never create\n"
      ]
    },
    {
      "cell_type": "code",
      "execution_count": 144,
      "metadata": {
        "id": "YwPq5YivAgPl",
        "outputId": "bcf63fe4-1368-4e8d-f611-1f886737b315",
        "colab": {
          "base_uri": "https://localhost:8080/"
        }
      },
      "outputs": [
        {
          "output_type": "stream",
          "name": "stdout",
          "text": [
            "100\n",
            "bob is 4 years old\n",
            "bob eats meat\n"
          ]
        }
      ],
      "source": [
        "class Dog:\n",
        "  new_const=100\n",
        "  def __init__(self, name, age):\n",
        "    # name and age are instance attributes\n",
        "    self.name=name\n",
        "    self.age=age\n",
        "\n",
        "  # instance method\n",
        "  def description(self):\n",
        "    return f\"{self.name} is {self.age} years old\"\n",
        "\n",
        "  # instance method\n",
        "  def eat(self, food):\n",
        "    return f\"{self.name} eats {food}\"\n",
        "\n",
        "d1=Dog('bob', 4) \n",
        "print(d1.new_const)\n",
        "print(d1.description())\n",
        "print(d1.eat(\"meat\"))"
      ]
    },
    {
      "cell_type": "code",
      "source": [
        "# operator overloading\n",
        "class Student:\n",
        "  def __init__(self, name, age, mark):\n",
        "    self.name=name\n",
        "    self.age=age\n",
        "    self.dsa_score=mark\n",
        "\n",
        "  def __eq__(self, other): #==\n",
        "    print(f\"Inside __eq__: {other}\")\n",
        "    if isinstance(other, Student):\n",
        "      return self.dsa_score == other.dsa_score\n",
        "    raise Exception(f\"{type(other)} not match !\")\n",
        "\n",
        "  def __lt__(self, other): #<\n",
        "    if isinstance(other, Student):\n",
        "      print(\"this is same instance .... \")\n",
        "      return self.dsa_score<other.dsa_score\n",
        "    raise Exception(f\"{type(other)} not match !\")\n",
        "\n",
        "  def __le__(self, other): #<=\n",
        "    return self.dsa_score <= other.dsa_score\n",
        "\n",
        "  def __gt__(self, other): #>\n",
        "    pass\n",
        "\n",
        "  def __ge__(self, other): #>=\n",
        "    pass\n",
        "\n",
        "  def __ne__(self, other): #!=\n",
        "    pass\n",
        "    \n",
        "s1=Student(\"Francis\", 20, 40)\n",
        "s2=Student(\"Sylvia\", 30, 50)\n",
        "print(f\"s1==s2 ?: {s1 == s2}\")"
      ],
      "metadata": {
        "id": "uBWuBtepJUZ_",
        "outputId": "a044300d-4f1a-48bf-a70d-4ad78f3ea9c9",
        "colab": {
          "base_uri": "https://localhost:8080/"
        }
      },
      "execution_count": 145,
      "outputs": [
        {
          "output_type": "stream",
          "name": "stdout",
          "text": [
            "Inside __eq__: <__main__.Student object at 0x7fc503c9a790>\n",
            "s1==s2 ?: False\n"
          ]
        }
      ]
    },
    {
      "cell_type": "code",
      "source": [
        "# some question on extracting data in Python\n",
        "class A:\n",
        "  def __init__(self, d, n):\n",
        "    self.next=n\n",
        "    self.data=d\n",
        "\n",
        "B=[]\n",
        "B.append(A(\"Hello\", A(\"Francis\", None)))\n",
        "B.append(A(\"Loewe\", None))\n",
        "\n",
        "print(f\"what is B[0]: {B[0]}\")\n",
        "print(f\"What is type of B[0]: {type(B[0])}\")\n",
        "print(f\"read 0th data of list B: {B[0].data}\")\n",
        "print(f\"read next data at 0th data of list B: {B[0].next.data}\")\n",
        "print(f\"read B[1]: {B[1]} type is: {type(B[1])}\")\n",
        "print(f\"read another data: {B[1].data}\")"
      ],
      "metadata": {
        "id": "cTMITFj4laIv",
        "colab": {
          "base_uri": "https://localhost:8080/"
        },
        "outputId": "4a7990eb-ae27-4637-9a1d-3604f294f9e0"
      },
      "execution_count": 146,
      "outputs": [
        {
          "output_type": "stream",
          "name": "stdout",
          "text": [
            "what is B[0]: <__main__.A object at 0x7fc503cf3710>\n",
            "What is type of B[0]: <class '__main__.A'>\n",
            "read 0th data of list B: Hello\n",
            "read next data at 0th data of list B: Francis\n",
            "read B[1]: <__main__.A object at 0x7fc503cf3750> type is: <class '__main__.A'>\n",
            "read another data: Loewe\n"
          ]
        }
      ]
    },
    {
      "cell_type": "markdown",
      "source": [
        "# Import"
      ],
      "metadata": {
        "id": "1d8SV1ld_reO"
      }
    },
    {
      "cell_type": "code",
      "source": [
        "# random module\n",
        "import random\n",
        "# random choice\n",
        "data=random.choice([1,5,6,10,20])\n",
        "print(data)\n",
        "data=random.sample([1,5,6,10,20],3)\n",
        "print(data)\n",
        "# random swap(洗牌)\n",
        "data=[10,20,30,40]\n",
        "random.shuffle(data)\n",
        "print(data)\n",
        "\n",
        "# random number\n",
        "data=random.random() # random number between 0-1 \n",
        "print(data)\n",
        "data=random.uniform(30,60) # random number between 30-60\n",
        "print(data)\n",
        "\n",
        "# random number with stdev\n",
        "data=random.normalvariate(100,10)\n",
        "# mean=100，stdev=10 得到資料大多數在90-100間\n",
        "print(data)\n",
        "\n",
        "#statistics module \n",
        "import statistics as stat\n",
        "data=stat.mean([1,3,5,7])#mean\n",
        "print(data)\n",
        "data=stat.median([1,30,5,7,9])#median\n",
        "print(data)\n",
        "data=stat.stdev([1,30,5,7,9])#stdev\n",
        "print(data)"
      ],
      "metadata": {
        "colab": {
          "base_uri": "https://localhost:8080/"
        },
        "id": "N5pGc4mTm0JQ",
        "outputId": "4acb6b49-7cba-4f48-fbed-84fdf9c73f2b"
      },
      "execution_count": 147,
      "outputs": [
        {
          "output_type": "stream",
          "name": "stdout",
          "text": [
            "6\n",
            "[6, 20, 10]\n",
            "[40, 10, 20, 30]\n",
            "0.9614969451954178\n",
            "30.950076736571564\n",
            "96.68475864150717\n",
            "4\n",
            "7\n",
            "11.349008767288888\n"
          ]
        }
      ]
    },
    {
      "cell_type": "markdown",
      "source": [
        "# Error Handling"
      ],
      "metadata": {
        "id": "fakFygJY2_qH"
      }
    },
    {
      "cell_type": "code",
      "source": [
        "try:\n",
        "  print(3/0)\n",
        "except NameError:\n",
        "  print ('Name Error Detected')\n",
        "except KeyError:\n",
        "  print ('Key Error Detected')\n",
        "except ValueError:\n",
        "  print('Value Error Detected' )\n",
        "except IndexError:\n",
        "  print ('Index Error Detected')\n",
        "except ZeroDivisionError:\n",
        "  print ('Zero Division Error Detected')\n",
        "except Exception:\n",
        "  print('Other Error') "
      ],
      "metadata": {
        "colab": {
          "base_uri": "https://localhost:8080/"
        },
        "id": "9qpaW-8D2__T",
        "outputId": "e3be2b11-cf46-44a3-d81b-b44b21dcd68f"
      },
      "execution_count": 148,
      "outputs": [
        {
          "output_type": "stream",
          "name": "stdout",
          "text": [
            "Zero Division Error Detected\n"
          ]
        }
      ]
    }
  ],
  "metadata": {
    "interpreter": {
      "hash": "b3ba2566441a7c06988d0923437866b63cedc61552a5af99d1f4fb67d367b25f"
    },
    "kernelspec": {
      "display_name": "Python 3.8.5 64-bit ('base': conda)",
      "name": "python3"
    },
    "language_info": {
      "codemirror_mode": {
        "name": "ipython",
        "version": 3
      },
      "file_extension": ".py",
      "mimetype": "text/x-python",
      "name": "python",
      "nbconvert_exporter": "python",
      "pygments_lexer": "ipython3",
      "version": "3.9.7"
    },
    "orig_nbformat": 4,
    "colab": {
      "name": "intro_python.ipynb",
      "provenance": [],
      "collapsed_sections": [],
      "include_colab_link": true
    }
  },
  "nbformat": 4,
  "nbformat_minor": 0
}