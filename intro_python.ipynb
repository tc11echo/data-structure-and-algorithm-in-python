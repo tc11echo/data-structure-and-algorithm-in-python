{
  "cells": [
    {
      "cell_type": "markdown",
      "metadata": {
        "id": "view-in-github",
        "colab_type": "text"
      },
      "source": [
        "<a href=\"https://colab.research.google.com/github/tc11echo/data-structure-and-algorithm-in-python/blob/main/intro_python.ipynb\" target=\"_parent\"><img src=\"https://colab.research.google.com/assets/colab-badge.svg\" alt=\"Open In Colab\"/></a>"
      ]
    },
    {
      "cell_type": "markdown",
      "metadata": {
        "id": "Yv8GOKevAgPQ"
      },
      "source": [
        "# Introduction to Python\n",
        "Python is a high-level, dynamically typed multiparadigm programming language. \n",
        "\n",
        "Python code is often said to be almost like pseudocode, since it allows you to express very powerful ideas in very few lines of code while being very readable."
      ]
    },
    {
      "cell_type": "code",
      "execution_count": null,
      "metadata": {
        "colab": {
          "base_uri": "https://localhost:8080/"
        },
        "id": "DUKmN85bAgPV",
        "outputId": "b2524777-9d56-4a11-87c6-266cabdd10c3"
      },
      "outputs": [
        {
          "output_type": "stream",
          "name": "stdout",
          "text": [
            "hello world!\n",
            "hello world!\n"
          ]
        }
      ],
      "source": [
        "# output\n",
        "# we use the print() function to do output. \n",
        "# In C++, we distinguish a character and a string by single quotes and double quotes, respectively. However, in Python, there is no such a distinction, that is, characters are treated as string, and you can use single quotes or double quotes for strings. \n",
        "print(\"hello world!\") # double quotes\n",
        "print('hello world!') # single quotes. Same as double quotes"
      ]
    },
    {
      "cell_type": "code",
      "execution_count": null,
      "metadata": {
        "id": "Sa1wHX7zAgPi",
        "outputId": "16756f20-9286-4a3d-a5ec-1cfd5bfc4052",
        "colab": {
          "base_uri": "https://localhost:8080/"
        }
      },
      "outputs": [
        {
          "output_type": "stream",
          "name": "stdout",
          "text": [
            "enter a string: 1111111\n",
            "Your input string is: 1111111\n"
          ]
        }
      ],
      "source": [
        "# input\n",
        "x=input(\"enter a string: \") # x will be of str type, even if the user gives an integer. \n",
        "print(\"Your input string is: \" + x)"
      ]
    },
    {
      "cell_type": "markdown",
      "source": [
        "# Basic Data Type and Operator"
      ],
      "metadata": {
        "id": "xWvtOqvv8OeV"
      }
    },
    {
      "cell_type": "code",
      "execution_count": null,
      "metadata": {
        "id": "q1JEubeAAgPX",
        "outputId": "8688f7b3-22a8-42ea-cd91-d2ecd25bcc9a",
        "colab": {
          "base_uri": "https://localhost:8080/"
        }
      },
      "outputs": [
        {
          "output_type": "stream",
          "name": "stdout",
          "text": [
            "<class 'int'>\n",
            "3\n"
          ]
        }
      ],
      "source": [
        "# integers & floating point numbers\n",
        "x = 3\n",
        "print(type(x)) # use type() function to check the data type of a variable; Prints \"<class 'int'>\"\n",
        "print(x)    # Prints \"3\""
      ]
    },
    {
      "cell_type": "code",
      "execution_count": null,
      "metadata": {
        "id": "R1TGUJtZAgPZ",
        "outputId": "31ba0d06-f520-4b0e-ed35-4f36243c8755",
        "colab": {
          "base_uri": "https://localhost:8080/"
        }
      },
      "outputs": [
        {
          "output_type": "stream",
          "name": "stdout",
          "text": [
            "True False\n",
            "<class 'bool'>\n",
            "False\n",
            "True\n",
            "False\n",
            "True\n",
            "True\n",
            "1 3\n",
            "\n",
            "False\n",
            "True\n",
            "False\n"
          ]
        }
      ],
      "source": [
        "# boolean variables\n",
        "t = True # unlike C++, the first letter of \"True\" is capital. That is, do not write \"true\"\n",
        "f = False\n",
        "print(t, f)\t   # prints True False\n",
        "print(type(t))   # Prints \"<class 'bool'>\"\n",
        "print(t and f)  # Logical AND; prints \"False\". \n",
        "print(t or f)  # Logical OR; prints \"True\"\n",
        "print(not t)   # Logical NOT; prints \"False\"\n",
        "print(t != f)  # Logical XOR; prints \"True\"\n",
        "print(t==t)\t   # Logical comparison; prints \"True\"\n",
        "print(f+t+f, t+t+t+f)   # when doing arithmetic operations on booleans, they will be first converted to 1 (True) or 0 (False)\n",
        "print()\n",
        "\n",
        "# we can compare charaters like we compare numbers\n",
        "# when doing character comparison, we're comparing their ASCII code\n",
        "print('A'>'B') # False.\n",
        "print('z'>'a') # True.\n",
        "print('abc'>'abd') # False. # for string, we compare letter by letter. Since 'c'<'d', return False"
      ]
    },
    {
      "cell_type": "code",
      "execution_count": null,
      "metadata": {
        "id": "HnTPRQYOAgPY",
        "outputId": "1856929e-d82f-4b06-cf63-2d94c82ad75a",
        "colab": {
          "base_uri": "https://localhost:8080/"
        }
      },
      "outputs": [
        {
          "output_type": "stream",
          "name": "stdout",
          "text": [
            "4\n",
            "2\n",
            "6\n",
            "9\n",
            "1.5\n",
            "1\n",
            "1\n",
            "\n",
            "4\n",
            "8\n",
            "<class 'float'>\n",
            "2.5 3.5 5.0 6.25\n"
          ]
        }
      ],
      "source": [
        "# operator\n",
        "print(x + 1)   # Addition; prints \"4\"\n",
        "print(x - 1)   # Subtraction; prints \"2\"\n",
        "print(x * 2)   # Multiplication; prints \"6\"\n",
        "print(x ** 2)  # Exponentiation; prints \"9\"\n",
        "print(x / 2)   # ordinary division; prints \"1.5\". NOTE: it's unlike C++, where '/' carries out the integer division. \n",
        "print(x // 2)  # integer division; prints \"1\". \n",
        "print(x % 2)   # remainder of x when divided by 2; prints 1\n",
        "print()\n",
        "\n",
        "# shortcut assignment\n",
        "x += 1\n",
        "print(x)      # Prints \"4\"\n",
        "x *= 2\n",
        "print(x)      # Prints \"8\"\n",
        "y = 2.5     # floating point numbers\n",
        "print(type(y))   # Prints \"<class 'float'>\"\n",
        "print(y, y + 1, y * 2, y ** 2) # Prints \"2.5 3.5 5.0 6.25\""
      ]
    },
    {
      "cell_type": "markdown",
      "source": [
        "# String"
      ],
      "metadata": {
        "id": "3KxbfsUEwBpd"
      }
    },
    {
      "cell_type": "code",
      "execution_count": null,
      "metadata": {
        "id": "8fTrAqe2AgPa",
        "outputId": "a6101bad-b60a-45d7-d3a5-5d3ed330cfbf",
        "colab": {
          "base_uri": "https://localhost:8080/"
        }
      },
      "outputs": [
        {
          "output_type": "stream",
          "name": "stdout",
          "text": [
            "True\n",
            "hello\n",
            "5\n",
            "hello world\n",
            "hello world2239\n",
            "hello world2239\n"
          ]
        }
      ],
      "source": [
        "# string\n",
        "hello = 'hello'    # String literals can use single quotes\n",
        "world = \"world\"    # or double quotes; it does not matter.\n",
        "print('hello'==\"hello\") # Prints \"True\"\n",
        "print(hello)       # Prints \"hello\"\n",
        "print(len(hello))    # len() returns the len of a given object; prints \"5\", since it has 5 letters\n",
        "hw = hello + ' ' + world  # to do string concatenation, use '+'\n",
        "print(hw)        # prints \"hello world\"\n",
        "\n",
        "# print(hw+2239) # IMPORTANT: when using '+', we must ensure that the two operands are of the same type. Here, the left operand is string, whereas the right operand is integer, and so this will result in error\n",
        "\n",
        "print(hw + '2239') # we should first convert the intger to string first!\n",
        "print(hw + str(2239)) # alternatively, use str() function to convert the interger to string. This is useful if it is a variable. "
      ]
    },
    {
      "cell_type": "code",
      "execution_count": null,
      "metadata": {
        "id": "sz-6dmoeAgPb",
        "outputId": "825391da-e096-4913-dd20-34e9cd3368a0",
        "colab": {
          "base_uri": "https://localhost:8080/"
        }
      },
      "outputs": [
        {
          "output_type": "stream",
          "name": "stdout",
          "text": [
            "Hello\n",
            "HELLO\n",
            "world\n",
            "True\n",
            "False\n"
          ]
        }
      ],
      "source": [
        "# methods for string\n",
        "# In python, string is an object, and so it has many methods for us to use (a method in python is called a member function in C++ )\n",
        "s = \"hello\"\n",
        "print(s.capitalize())  # Capitalize a string; prints \"Hello\"\n",
        "print(s.upper())       # Convert a string to uppercase; prints \"HELLO\"\n",
        "print('  world '.strip())  # Strip leading and trailing whitespace; prints \"world\"\n",
        "print(s.isalpha()) # check whether all the characters in s are English alphabets \n",
        "print(\"A_X\".isalpha()) # False. "
      ]
    },
    {
      "cell_type": "code",
      "execution_count": null,
      "metadata": {
        "id": "HeTT3eBiAgPc",
        "outputId": "794a8a35-d58e-4fd8-e995-060fedcb27ac",
        "colab": {
          "base_uri": "https://localhost:8080/"
        }
      },
      "outputs": [
        {
          "output_type": "stream",
          "name": "stdout",
          "text": [
            "h\n"
          ]
        }
      ],
      "source": [
        "# More about string type\n",
        "s='hello'\n",
        "print(s[0]) # Prints 'h'; much like in C++, we use [] to access individual elements of an array.\n",
        "\n",
        "# string in python is immutable (immutable means unchangeable), that is, we cannot modify the elements of a string\n",
        "# s[0]='x' Error: attempt to change the elements of a string"
      ]
    },
    {
      "cell_type": "code",
      "execution_count": null,
      "metadata": {
        "id": "pmDR8h3aAgPi",
        "outputId": "7f748fdd-b0f4-429f-f2b1-90fd768f6478",
        "colab": {
          "base_uri": "https://localhost:8080/"
        }
      },
      "outputs": [
        {
          "output_type": "stream",
          "name": "stdout",
          "text": [
            "My favorite number is 100\n",
            "My favorite number is 100\n"
          ]
        }
      ],
      "source": [
        "# f-string\n",
        "# in print(), it may not be too convenient to use '+' all the time to concatenate several non-string pieces. Alternatively, we can use f-string as below:\n",
        "favorite=100\n",
        "# to use f-string, pre-append your string with the letter 'f' (which stands for format)\n",
        "print(f\"My favorite number is {favorite}\" ) # anything enclosed by {} is considered a variable name\n",
        "print(\"My favorite number is \" + str(favorite) ) # this is the same as above, but much less convenient. "
      ]
    },
    {
      "cell_type": "markdown",
      "source": [
        "# Flow Control"
      ],
      "metadata": {
        "id": "35QRhQZdMiwD"
      }
    },
    {
      "cell_type": "code",
      "execution_count": null,
      "metadata": {
        "id": "K37oMwokAgPf",
        "outputId": "d9483166-d172-466f-c1d4-2d604cbd0b87",
        "colab": {
          "base_uri": "https://localhost:8080/"
        }
      },
      "outputs": [
        {
          "output_type": "stream",
          "name": "stdout",
          "text": [
            "cat\n",
            "dog\n",
            "monkey\n"
          ]
        }
      ],
      "source": [
        "# for loop \n",
        "# You can loop over the elements of a list like this:\n",
        "animals = ['cat', 'dog', 'monkey']\n",
        "for animal in animals: # the colon \":\" at the end is necessary\n",
        "  print(animal) # Python does not use curly braces to indicate the body of a loop. Instead, it uses indentation. Here, we use a tab for indentation, but you can use a space or several spaces instead---as long as there are is indentation that will do. But the most common choice is a tab."
      ]
    },
    {
      "cell_type": "code",
      "execution_count": null,
      "metadata": {
        "id": "06zJIlsQAgPf",
        "outputId": "acc526b6-6e79-4591-f79e-a1185ee2e50f",
        "colab": {
          "base_uri": "https://localhost:8080/"
        }
      },
      "outputs": [
        {
          "output_type": "stream",
          "name": "stdout",
          "text": [
            "1 \t2 \t3 \t4 \t5 \t6 \t7 \t8 \t9 \t\n",
            "2 \t4 \t6 \t8 \t10 \t12 \t14 \t16 \t18 \t\n",
            "3 \t6 \t9 \t12 \t15 \t18 \t21 \t24 \t27 \t\n",
            "4 \t8 \t12 \t16 \t20 \t24 \t28 \t32 \t36 \t\n",
            "5 \t10 \t15 \t20 \t25 \t30 \t35 \t40 \t45 \t\n",
            "6 \t12 \t18 \t24 \t30 \t36 \t42 \t48 \t54 \t\n",
            "7 \t14 \t21 \t28 \t35 \t42 \t49 \t56 \t63 \t\n",
            "8 \t16 \t24 \t32 \t40 \t48 \t56 \t64 \t72 \t\n",
            "9 \t18 \t27 \t36 \t45 \t54 \t63 \t72 \t81 \t\n"
          ]
        }
      ],
      "source": [
        "# nested for loops\n",
        "# like other languages, we can also define nested for loops\n",
        "# EX: print a multiplication table\n",
        "\n",
        "for i in range(1,10):\n",
        "  for j in range(1,10):\n",
        "    print(i*j,\"\\t\", end='')\n",
        "  print()\n",
        "\n",
        "# 1 2 \t3 \t4 \t5 \t6 \t7 \t8 \t9 \t\n",
        "# 2 4 \t6 \t8 \t10 \t12 \t14 \t16 \t18 \t\n",
        "# 3 6 \t9 \t12 \t15 \t18 \t21 \t24 \t27 \t\n",
        "# 4 8   12 \t16 \t20 \t24 \t28 \t32 \t36 \t\n",
        "# 5 10 \t15 \t20 \t25 \t30 \t35 \t40 \t45 \t\n",
        "# 6 12 \t18 \t24 \t30 \t36 \t42 \t48 \t54 \t\n",
        "# 7 14 \t21 \t28 \t35 \t42 \t49 \t56 \t63 \t\n",
        "# 8 16 \t24 \t32 \t40 \t48 \t56 \t64 \t72 \t\n",
        "# 9 18 \t27 \t36 \t45 \t54 \t63 \t72 \t81 \t"
      ]
    },
    {
      "cell_type": "code",
      "execution_count": null,
      "metadata": {
        "id": "603DdfYhAgPg",
        "outputId": "266769c4-bb54-4b25-cb15-3f89307de0ee",
        "colab": {
          "base_uri": "https://localhost:8080/"
        }
      },
      "outputs": [
        {
          "output_type": "stream",
          "name": "stdout",
          "text": [
            "5\n",
            "4\n",
            "3\n",
            "2\n",
            "1\n"
          ]
        }
      ],
      "source": [
        "# while loop\n",
        "# while loop is less commonly used than for loop in Python. It can be used like so:\n",
        "n=12345\n",
        "# the following while loop print the digits of a numbers in reverse\n",
        "while n>0:\n",
        "  print(n%10) # get the last digit\n",
        "  n//=10 # remove the last digit"
      ]
    },
    {
      "cell_type": "code",
      "execution_count": null,
      "metadata": {
        "id": "u3RA3cfmAgPh",
        "outputId": "f93d516e-f020-4569-a5d4-8d6cbd77542c",
        "colab": {
          "base_uri": "https://localhost:8080/"
        }
      },
      "outputs": [
        {
          "output_type": "stream",
          "name": "stdout",
          "text": [
            "b larger than a\n"
          ]
        }
      ],
      "source": [
        "# if statement syntax\n",
        "a,b=1,2\n",
        "if b > a: \n",
        "  print(\"b larger than a\")\n",
        "elif a > b:  # do not write \"else if\" ! \n",
        "  print(\"a larger than b\")\n",
        "else:\n",
        "  print(\"a=b\")"
      ]
    },
    {
      "cell_type": "code",
      "execution_count": null,
      "metadata": {
        "id": "wVMZZ3ENAgPh",
        "outputId": "fffe4df7-f0c6-41fb-b466-49aaae9034bd",
        "colab": {
          "base_uri": "https://localhost:8080/"
        }
      },
      "outputs": [
        {
          "output_type": "stream",
          "name": "stdout",
          "text": [
            "b larger than a\n"
          ]
        }
      ],
      "source": [
        "# If the body of a condition contains one line only, we can put this line right after the colon, like so:\n",
        "a,b=1,2\n",
        "if b > a: print(\"b larger than a\")\n",
        "elif a > b: print(\"a larger than b\")\n",
        "else: print(\"a=b\")"
      ]
    },
    {
      "cell_type": "code",
      "execution_count": null,
      "metadata": {
        "id": "gWga0GWmAgPh",
        "outputId": "16eed746-48e9-4687-ae04-0d7f0b3c516e",
        "colab": {
          "base_uri": "https://localhost:8080/"
        }
      },
      "outputs": [
        {
          "output_type": "stream",
          "name": "stdout",
          "text": [
            "b larger than a\n",
            "b larger than a\n"
          ]
        }
      ],
      "source": [
        "# short-hand `if-else`. This is like the ternary operator in C++, but the syntax is different\n",
        "print(\"b larger than a\") if b > a else print(\"b NOT larger than a\")\n",
        "\n",
        "# unlike the ternary operator in C++, in python we can have have multiple else cases:\n",
        "print(\"b larger than a\") if b > a else print(\"a larger than b\") if a >b else print(\"a = b\")"
      ]
    },
    {
      "cell_type": "markdown",
      "source": [
        "# List (Array)"
      ],
      "metadata": {
        "id": "r7Xjl_6QvRlJ"
      }
    },
    {
      "cell_type": "code",
      "execution_count": null,
      "metadata": {
        "id": "UovVnD9DAgPd",
        "outputId": "9899eef9-1636-4288-86d7-703b7824bc13",
        "colab": {
          "base_uri": "https://localhost:8080/"
        }
      },
      "outputs": [
        {
          "output_type": "stream",
          "name": "stdout",
          "text": [
            "[3, 1, 2]\n",
            "3 1 2\n",
            "2\n",
            "[3, 1, 'foo']\n",
            "[3, 1, 'foo', 'bar']\n",
            "bar [3, 1, 'foo']\n",
            "[3, 'foo']\n",
            "1\n",
            "[3, 'abc', 'foo']\n",
            "[10, 'abc', 'foo']\n"
          ]
        }
      ],
      "source": [
        "# list \n",
        "# A list is the Python equivalent of an array in C++, but a python list is resizeable and can contain elements of different types. \n",
        "t = [3, 1, 2]    # Create a list. Do not use l as the name of a list, because it is often confused with 1 and I\n",
        "print(t)  \t\t # Prints \"[3, 1, 2]\"\n",
        "print(t[0],t[1],t[2]) # Prints \"3 1 2\". Like C++, we use [] to access individual elements of an array.\n",
        "print(t[-1])     # Negative indices count from the end of the list; [-1] means the last element; prints \"2\"\n",
        "\n",
        "t[2] = 'foo'     # Lists can contain elements of different types. Now t[2] contains a string type, not an int type \n",
        "print(t)         # Prints \"[3, 1, 'foo']\"\n",
        "\n",
        "t.append('bar')  # append method adds a new element to the end of the list\n",
        "print(t)         # Prints \"[3, 1, 'foo', 'bar']\"\n",
        "\n",
        "x = t.pop()      # Remove and return the last element of the list\n",
        "print(x, t)      # Prints \"bar [3, 1, 'foo']\"\n",
        "\n",
        "t.remove(1)      # remove the element 1 from the list t \n",
        "print(t)         # Prints [3, 'foo']\n",
        "\n",
        "print(t.index('foo')) # give the index of the element 'foo'\n",
        "\n",
        "t.insert(1, 'abc') # insert 'abc' at index 1\n",
        "print(t)\n",
        "\n",
        "t[0] = 10       # change t[0] to 10\n",
        "print(t)        # [10, 'abc', 'foo']\n",
        "\n",
        "del t            # delete the list t.\n",
        "# print(t)       # error, since t has be deleted."
      ]
    },
    {
      "cell_type": "code",
      "execution_count": null,
      "metadata": {
        "id": "ilX2JnwiAgPd",
        "outputId": "4e45e574-a424-4346-b6f9-ed2577644248",
        "colab": {
          "base_uri": "https://localhost:8080/"
        }
      },
      "outputs": [
        {
          "output_type": "stream",
          "name": "stdout",
          "text": [
            "[-1, 2, 3] [-1, 2, 3]\n",
            "140684647670320\n",
            "140684647670320\n",
            "\n",
            "[1, 2, 3] [-1, 2, 3]\n"
          ]
        }
      ],
      "source": [
        "# assignment operator vs deep copy\n",
        "t1 = [1,2,3] # t1 points to the list [1,2,3]\n",
        "t2 = t1 # t2 also points to the same list [1,2,3]. So, now, both t1 and t2 point to the same list [1,2,3]\n",
        "\n",
        "t2[0] = -1 # this will also affect t1, since both t1 and t2 point to the same [1,2,3]\n",
        "print(t1, t2)\n",
        "\n",
        "# to check whether two variables point to the same object, we can check their id. If id is the same, then they are.\n",
        "print(id(t1))\n",
        "print(id(t2))\n",
        "print()\n",
        "\n",
        "\n",
        "t1 = [1,2,3]\n",
        "t2 = t1.copy() # t2 points to a different [1,2,3] than the one t1 points to\n",
        "t2[0] = -1 # this will NOT affect t1, since both t1 and t2 point to the same [1,2,3]\n",
        "print(t1, t2) "
      ]
    },
    {
      "cell_type": "code",
      "execution_count": null,
      "metadata": {
        "id": "2-W51a5HAgPe",
        "outputId": "c565d81e-0199-4367-a8ad-517780326fd4",
        "colab": {
          "base_uri": "https://localhost:8080/"
        }
      },
      "outputs": [
        {
          "output_type": "stream",
          "name": "stdout",
          "text": [
            "[0, 1, 2, 3, 4]\n",
            "[2, 3]\n",
            "[2, 3, 4]\n",
            "[0, 1]\n",
            "[1, 3]\n",
            "[0, 3]\n",
            "[0, 1, 2, 3, 4]\n",
            "[0, 1, 8, 9, 4]\n"
          ]
        }
      ],
      "source": [
        "# Slicing: In addition to accessing list elements one at a time, Python provides concise syntax to access sublists; this is known as slicing. Note that slicing can also be used on string type. \n",
        "t = list(range(5))  # range is a built-in function that creates an iterable of integers. range(5) means that the numbers are from [0,5) (i.e., not including 5!). Notice that range(5) itself is not a list. To convert to a list, apply list() on it. \n",
        "print(t)        # Prints \"[0, 1, 2, 3, 4]\"\n",
        "print(t[2:4])      # Get a slice from index 2 to 4 (exclusive); prints \"[2, 3]\"\n",
        "print(t[2:])      # Get a slice from index 2 to the end; prints \"[2, 3, 4]\"\n",
        "print(t[:2])      # Get a slice from the start to index 2 (exclusive); prints \"[0, 1]\"\n",
        "print(t[1:5:2])     # it means get elements from index 1 to index 4, but after getting an element, jump 2 indices, but not 1, which is the default value. Prints \"[1,3]\"\n",
        "print(t[::3])      # Prints \"[0, 3]\"\n",
        "print(t[:])       # Get a slice of the whole list; prints \"[0, 1, 2, 3, 4]\"\n",
        "t[2:4] = [8, 9]   # Assign a new sublist to a slice\n",
        "print(t)        # Prints \"[0, 1, 8, 9, 4]\""
      ]
    },
    {
      "cell_type": "code",
      "execution_count": null,
      "metadata": {
        "id": "FuJ4TB7uAgPf",
        "outputId": "7d3bd7d2-86c7-4cdd-9410-3fb424b973d2",
        "colab": {
          "base_uri": "https://localhost:8080/"
        }
      },
      "outputs": [
        {
          "output_type": "stream",
          "name": "stdout",
          "text": [
            "987\n",
            "01234567\n",
            "789\n",
            "76543210\n",
            "642\n",
            "\n",
            "9876543210\n",
            "9876543210\n"
          ]
        }
      ],
      "source": [
        "# More about slicing\n",
        "\"\"\"\n",
        "- the three numbers `start`, `end`, `step` in [start:end:step] can each be negative!\n",
        "- IMPORTANT: the last element of a sequence (i.e., list, string) is also given the index `-1`. \n",
        "\"\"\"\n",
        "\n",
        "s=\"0123456789\"\n",
        "print(s[-1:-4:-1])  # 987\n",
        "print(s[:-2]) # 01234567\n",
        "print(s[-3:]) # 789\n",
        "print(s[-3::-1]) # 76543210\n",
        "print(s[6:1:-2]) # 642\n",
        "print(s[6:1:2]) # print nothing\n",
        "print(s[::-1]) # same as s[-1:-len(s)-1:-1] # 9876543210\n",
        "print(s[-1:-len(s)-1:-1]) # 9876543210"
      ]
    },
    {
      "cell_type": "code",
      "execution_count": null,
      "metadata": {
        "id": "vAGEiaj7AgPi",
        "outputId": "bfa05551-3244-4f8e-af7e-d649b854489f",
        "colab": {
          "base_uri": "https://localhost:8080/"
        }
      },
      "outputs": [
        {
          "output_type": "stream",
          "name": "stdout",
          "text": [
            "True\n",
            "False\n",
            "False\n",
            "True\n"
          ]
        }
      ],
      "source": [
        "# comparison operators\n",
        "t=[1,2,3,4]\n",
        "print(1 in t) # True. Check if 1 is an element of t. \n",
        "print('1' in t) # False. Since '1' is a string, not an integer.\n",
        "print([1,2,3] in t) # False. Although [1,2,3] is a subset of [1,2,3,4], it is not an element of [1,2,3,4]\n",
        "print([1,2,3,4]==t) # True. "
      ]
    },
    {
      "cell_type": "markdown",
      "source": [
        "# Tuple"
      ],
      "metadata": {
        "id": "-6bEetOUxHLs"
      }
    },
    {
      "cell_type": "code",
      "execution_count": null,
      "metadata": {
        "id": "0pRDN4J5AgPi",
        "outputId": "eb4bd596-2d41-4d61-f738-7887983ddde6",
        "colab": {
          "base_uri": "https://localhost:8080/"
        }
      },
      "outputs": [
        {
          "output_type": "stream",
          "name": "stdout",
          "text": [
            "(1, 2, 3) <class 'tuple'>\n",
            "(1, 2, 3) <class 'tuple'>\n",
            "(1,) <class 'tuple'>\n",
            "1 <class 'int'>\n"
          ]
        }
      ],
      "source": [
        "# tuple \n",
        "# A tuple is an (immutable) ordered list of values. A tuple is in many ways similar to a list; The most important difference between tuple and list is that tuple's elements cannot be modified after it's declared. By extension, we cannot add new elements to an existing tuple. That is, once a tuple is created, it cannot be modified in any way. In fact, recall that we've already seen another immutable type of data structure: string. Therefore, tuple and string are similar in that both are immutable. \n",
        "\n",
        "t=(1,2,3) # t is a tuple. We use () to represent tuples\n",
        "print(t, type(t)) # (1, 2, 3) <class 'tuple'>\n",
        "t=1,2,3 # in fact, the parentheses () above is optional. That is, we can define t without the ()\n",
        "print(t, type(t)) # (1, 2, 3) <class 'tuple'>\n",
        "\n",
        "singleton = (1,) # one exception where () must be used is when the tuple contains one element only. In this case, not only is the () necessary, we also need to add a ',' to indicate that it is not an integer. Without the comma, python will mistook it for an integer, because (1)==1, for example.\n",
        "print(singleton, type(singleton)) # (1,) <class 'tuple'>\n",
        "\n",
        "wrong_singleton=(1) # this is just an integer, since it lacks a comma\n",
        "print(wrong_singleton, type(wrong_singleton)) # 1 <class 'int'>\n",
        "# Although parentheses () is optional, including it is highly recommended. There are still other cases where () is necessary so as to avoid the issue of operator precedence."
      ]
    },
    {
      "cell_type": "code",
      "execution_count": null,
      "metadata": {
        "id": "XRT50CIwAgPj",
        "outputId": "99f9a631-6a97-4ddb-bd42-ebdbda570f30",
        "colab": {
          "base_uri": "https://localhost:8080/"
        }
      },
      "outputs": [
        {
          "output_type": "stream",
          "name": "stdout",
          "text": [
            "[10, 2, 20]\n"
          ]
        },
        {
          "output_type": "execute_result",
          "data": {
            "text/plain": [
              "(10, 2, 20)"
            ]
          },
          "metadata": {},
          "execution_count": 22
        }
      ],
      "source": [
        "# tuple vs list \n",
        "tup=(1,2)\n",
        "t=[1,2]\n",
        "# tup[0]=10 # error. Attempt to modify the elements of a tuple\n",
        "t[0]=10 # ok. We can modify the elements of a list\n",
        "# tup.append(20) # error. we cannot add new elements to a tuple\n",
        "t.append(20) # ok. we can also add new elements to a list\n",
        "print(t) # [10, 2, 20]\n",
        "\n",
        "# we can convert a tuple to a list and vice versa, by using their constructors (i.e., list())\n",
        "list(tup) # convert a tuple to a list\n",
        "tuple(t) # convert a list to a tuple"
      ]
    },
    {
      "cell_type": "code",
      "execution_count": null,
      "metadata": {
        "id": "n5xq743HAgPg",
        "outputId": "61316c82-f748-4c46-8787-9586bd8db874",
        "colab": {
          "base_uri": "https://localhost:8080/"
        }
      },
      "outputs": [
        {
          "output_type": "stream",
          "name": "stdout",
          "text": [
            "1 2\n",
            "2 1\n"
          ]
        }
      ],
      "source": [
        "# swapping the contents of two variables\n",
        "# it's very easy in python to swap the contents of two variables\n",
        "a,b=1,2\n",
        "print(a,b) # 1 2\n",
        "\n",
        "a,b = b, a # swapping the content of the two variables\n",
        "print(a,b) # 2 1"
      ]
    },
    {
      "cell_type": "code",
      "execution_count": null,
      "metadata": {
        "id": "W1Gju7fSAgPg",
        "outputId": "37fa5b5d-f168-47a5-fec6-b5489188a8d0",
        "colab": {
          "base_uri": "https://localhost:8080/"
        }
      },
      "outputs": [
        {
          "output_type": "stream",
          "name": "stdout",
          "text": [
            "1 Hello [1, 2, 3] True\n"
          ]
        }
      ],
      "source": [
        "# create multiple variaables in one line\n",
        "a,b,c,d=1,'Hello',[1,2,3],True # Create and initialize 4 variables at the same time. The syntax is different from that of C++, but we'll see why Python uses this different syntax when we learn the data structure called tuple later. \n",
        "print(a,b,c,d) # Prints \"1 Hello [1, 2, 3] True\""
      ]
    },
    {
      "cell_type": "code",
      "execution_count": null,
      "metadata": {
        "id": "hk944H6CAgPj",
        "outputId": "5e811335-ab08-45a7-9850-bf7d0fd049b3",
        "colab": {
          "base_uri": "https://localhost:8080/"
        }
      },
      "outputs": [
        {
          "output_type": "stream",
          "name": "stdout",
          "text": [
            "1 2 3\n",
            "1 2 3\n",
            "1 2 3\n"
          ]
        }
      ],
      "source": [
        "# when we previously initialized several variables at once, the right hand side was actually a tuple (without the parentheses \"()\" ), like so:\n",
        "a,b,c=1,2,3 # 1,2,3 is a tuple\n",
        "print(a,b,c)\n",
        "a,b,c=(1,2,3) # we can of course add parenthese, and the result is the same as before.\n",
        "print(a,b,c)\n",
        "a,b,c=[1,2,3]  # in fact, the right hand side can also be list, and the result is the same.\n",
        "print(a,b,c)\n",
        "\n",
        "# When we initialize several variables at once by a tuple/list, what we're doing is called \"UNPACK the tuple/list\""
      ]
    },
    {
      "cell_type": "markdown",
      "source": [
        "# Sets"
      ],
      "metadata": {
        "id": "5xHWJJjx7uIK"
      }
    },
    {
      "cell_type": "code",
      "source": [
        "# set\n",
        "s1={3,4,5}\n",
        "print(3 in s1)\n",
        "print(10 in s1)\n",
        "print(10 not in s1)\n",
        "\n",
        "s2={4,5,6,7}\n",
        "s3=s1&s2 # Intersection\n",
        "print(s3)\n",
        "s3=s1|s2 # Union\n",
        "print(s3)\n",
        "s3=s1-s2 # Difference s1 - s2\n",
        "print(s3)\n",
        "s3=s1^s2 # Union - Intersection\n",
        "print(s3)\n",
        "\n",
        "s=set(\"Hello\")\n",
        "print(s)\n",
        "print(\"H\" in s)\n",
        "print(\"A\" in s)"
      ],
      "metadata": {
        "colab": {
          "base_uri": "https://localhost:8080/"
        },
        "id": "cacRQsAC7xOb",
        "outputId": "6ba40a83-5dbd-4fff-cc7f-1ce6518aef0c"
      },
      "execution_count": null,
      "outputs": [
        {
          "output_type": "stream",
          "name": "stdout",
          "text": [
            "True\n",
            "False\n",
            "True\n",
            "{4, 5}\n",
            "{3, 4, 5, 6, 7}\n",
            "{3}\n",
            "{3, 6, 7}\n",
            "{'e', 'H', 'o', 'l'}\n",
            "True\n",
            "False\n"
          ]
        }
      ]
    },
    {
      "cell_type": "code",
      "source": [
        "# dictionary: key-value pair\n",
        "dic={\"apple\":\"蘋果\",\"bug\":\"蟲蟲\"}\n",
        "print(dic[\"apple\"])\n",
        "dic[\"apple\"]=\"小蘋果\"\n",
        "print(dic[\"apple\"])\n",
        "\n",
        "dic={\"apple\":\"蘋果\",\"bug\":\"蟲蟲\"}\n",
        "print(\"apple\" in dic)\n",
        "print(\"test\" in dic)\n",
        "print(\"test\" not in dic)\n",
        "print(dic)\n",
        "\n",
        "del dic[\"apple\"] # # delete the key-value pair \"apple\":\"蘋果\"\n",
        "print(dic)\n",
        "dic={x:x*2 for x in [3,4,5]} # form dictionary from list\n",
        "print(dic)\n"
      ],
      "metadata": {
        "colab": {
          "base_uri": "https://localhost:8080/"
        },
        "id": "U7vmc1LJ8y9B",
        "outputId": "c1523cbb-83d0-4d55-ec65-c671a814f364"
      },
      "execution_count": null,
      "outputs": [
        {
          "output_type": "stream",
          "name": "stdout",
          "text": [
            "蘋果\n",
            "小蘋果\n",
            "True\n",
            "False\n",
            "True\n",
            "{'apple': '蘋果', 'bug': '蟲蟲'}\n",
            "{'bug': '蟲蟲'}\n",
            "{3: 6, 4: 8, 5: 10}\n"
          ]
        }
      ]
    },
    {
      "cell_type": "markdown",
      "source": [
        "# Function"
      ],
      "metadata": {
        "id": "lHMKQnxuMari"
      }
    },
    {
      "cell_type": "code",
      "execution_count": null,
      "metadata": {
        "id": "CGE-0xbJAgPj",
        "outputId": "2ea8a130-ddc5-4920-e227-ea6a2509e954",
        "colab": {
          "base_uri": "https://localhost:8080/"
        }
      },
      "outputs": [
        {
          "output_type": "stream",
          "name": "stdout",
          "text": [
            "[1, 2, 3, 10]\n"
          ]
        }
      ],
      "source": [
        "def f(t):\n",
        "  t.append(10)\n",
        "\n",
        "t=[1,2,3]\n",
        "f(t)\n",
        "print(t)"
      ]
    },
    {
      "cell_type": "code",
      "execution_count": null,
      "metadata": {
        "id": "Q5tFmz4LAgPj",
        "outputId": "9b99ac49-bf67-40e6-a3a2-44c0727e5d03",
        "colab": {
          "base_uri": "https://localhost:8080/"
        }
      },
      "outputs": [
        {
          "output_type": "stream",
          "name": "stdout",
          "text": [
            "negative\n",
            "zero\n",
            "positive\n"
          ]
        }
      ],
      "source": [
        "# function in python\n",
        "# Python functions are defined using the def keyword. For example:\n",
        "\n",
        "def sign(x):\n",
        "  if x > 0:\n",
        "    return 'positive'\n",
        "  elif x < 0:\n",
        "    return 'negative'\n",
        "  else:\n",
        "    return 'zero'\n",
        "\n",
        "for x in [-1, 0, 1]:\n",
        "  print(sign(x))"
      ]
    },
    {
      "cell_type": "code",
      "execution_count": null,
      "metadata": {
        "id": "FSnssUiQAgPk"
      },
      "outputs": [],
      "source": [
        "# in python, the function body must not be empty. To get around this, use 'pass' keyword, like so:\n",
        "def some_fun_to_be_implement():\n",
        "  pass \t# without this, there will be error. "
      ]
    },
    {
      "cell_type": "code",
      "execution_count": null,
      "metadata": {
        "id": "bbz_nuiTAgPk",
        "outputId": "8ff6c14a-9122-4546-cad0-379e203c0e9f",
        "colab": {
          "base_uri": "https://localhost:8080/"
        }
      },
      "outputs": [
        {
          "output_type": "stream",
          "name": "stdout",
          "text": [
            "(100, 1000)\n"
          ]
        }
      ],
      "source": [
        "# if a function needs to returns several values, we can allow it to return a tuple instead:\n",
        "def square_cube(x):\n",
        "  return x**2, x**3 # return a tuple of two numbers\n",
        "  # return (x**2, x**3) # we can also add a pair of parentheses, but it's optional\n",
        "\n",
        "print(square_cube(10)) # print a tuple, since the function returns a tuple"
      ]
    },
    {
      "cell_type": "code",
      "execution_count": null,
      "metadata": {
        "id": "n8yk9i5SAgPk",
        "outputId": "3eaabb7a-12b6-43c9-e8a2-4bbe5284be31",
        "colab": {
          "base_uri": "https://localhost:8080/"
        }
      },
      "outputs": [
        {
          "output_type": "stream",
          "name": "stdout",
          "text": [
            "Hello, Alice\n",
            "HELLO, BOB!\n"
          ]
        }
      ],
      "source": [
        "# default parameters\n",
        "# We will often define functions to take optional arguments, like so:\n",
        "def hello(name, loud=False): # the parameter loud defaults to False. That is, if the user doesn't provide this parameter, then the value will be False\n",
        "  if loud: # if loud is True\n",
        "    print(f'HELLO, {name.upper()}!') # upper() method changes all lower-case letters to upper-case\n",
        "  else: # if loud is False\n",
        "    print(f'Hello, {name}')\n",
        "\n",
        "hello('Alice') # Prints \"Hello, Alice\"\n",
        "hello('Bob', loud=True)  # Prints \"HELLO, BOB!\""
      ]
    },
    {
      "cell_type": "code",
      "source": [
        "def avg(*ns):\n",
        "  print(ns)\n",
        "avg(3,4)\n",
        "\n",
        "def avg(*ns):\n",
        "  sum=0\n",
        "  for x in ns:\n",
        "    sum+=x\n",
        "    print(sum/len(ns))  \n",
        "avg(3,4)\n",
        "#avg(3,4,10,55)"
      ],
      "metadata": {
        "colab": {
          "base_uri": "https://localhost:8080/"
        },
        "id": "I93r1gOvl5hy",
        "outputId": "b892c3fa-5780-4191-b1cf-583e06f622da"
      },
      "execution_count": null,
      "outputs": [
        {
          "output_type": "stream",
          "name": "stdout",
          "text": [
            "(3, 4)\n",
            "1.5\n",
            "3.5\n"
          ]
        }
      ]
    },
    {
      "cell_type": "code",
      "source": [
        "# Example of Recursion\n",
        "# n! = 1*2 * .... * n\n",
        "\n",
        "def factorial (x : int, level : int):\n",
        "  if x == 1:\n",
        "    print(\"  \" * level + \" base case x=\" + str(x))\n",
        "    return 1 # base case\n",
        "  else :\n",
        "    print(\"  \" * level + \" at level :\" + str(level) + \" x=\" + str(x))\n",
        "    f = factorial(x-1, level + 1)\n",
        "    print(\"  \" * level + \" at level :\" + str(level) + \" f=\" + str(f))\n",
        "    r = x * f\n",
        "    print(\"  \" * level + \" at level : \" + str(level) + \" before return :\" + str(r))\n",
        "    return r # iteration\n",
        "\n",
        "r = factorial(5, 0)\n",
        "print(f\"what is r: {r}\")"
      ],
      "metadata": {
        "id": "sy_ak08vJb8P",
        "outputId": "43d6786b-c821-4ea6-8219-4bde5bbe8af8",
        "colab": {
          "base_uri": "https://localhost:8080/"
        }
      },
      "execution_count": null,
      "outputs": [
        {
          "output_type": "stream",
          "name": "stdout",
          "text": [
            " at level :0 x=5\n",
            "   at level :1 x=4\n",
            "     at level :2 x=3\n",
            "       at level :3 x=2\n",
            "         base case x=1\n",
            "       at level :3 f=1\n",
            "       at level : 3 before return :2\n",
            "     at level :2 f=2\n",
            "     at level : 2 before return :6\n",
            "   at level :1 f=6\n",
            "   at level : 1 before return :24\n",
            " at level :0 f=24\n",
            " at level : 0 before return :120\n",
            "what is r: 120\n"
          ]
        }
      ]
    },
    {
      "cell_type": "code",
      "execution_count": null,
      "metadata": {
        "id": "uqSjssoIAgPk",
        "outputId": "770dbc4d-88a3-41da-f0db-3d3bb7db2d02",
        "colab": {
          "base_uri": "https://localhost:8080/"
        }
      },
      "outputs": [
        {
          "output_type": "stream",
          "name": "stdout",
          "text": [
            "15\n",
            "5\n",
            "1\n"
          ]
        }
      ],
      "source": [
        "# aggregate functions: sum, max, and min\n",
        "# in fact, we'll learn more powerful aggregate functions when we talk about Numpy, a data science package in python. So, we'll just briefly talk about sum, max and min that are python's built-in.\n",
        "\n",
        "t = [1,2,3,4,5]\n",
        "print(sum(t)) # 15. sum takes an iterable as input. So, do not give several numbers as input! We need to put these numbers in a list!\n",
        "# print(sum(1,2,3)) # error! We need to put the numbers in a list. Here, we are giving three inputs, rather than a single input of list type!\n",
        "print(max(t)) # 5\n",
        "print(min(t)) # 1"
      ]
    },
    {
      "cell_type": "markdown",
      "metadata": {
        "id": "hu2DT4OyAgPl"
      },
      "source": [
        "# OOP in python\n",
        "unlike C++, python doesn't have access specifier (i.e., no `private`, `public` keywords), but u can follow the naming rule below to have better identification:\n",
        "* vari --> public\n",
        "* _vari --> protected\n",
        "* __vari --> private\n",
        "* func --> public\n",
        "* _func --> private\n",
        "* \\_\\_func__ --> only can be use, never create\n"
      ]
    },
    {
      "cell_type": "code",
      "execution_count": null,
      "metadata": {
        "id": "YwPq5YivAgPl",
        "outputId": "4726bfb5-6b27-4745-f623-67e603a64e17",
        "colab": {
          "base_uri": "https://localhost:8080/"
        }
      },
      "outputs": [
        {
          "output_type": "stream",
          "name": "stdout",
          "text": [
            "100\n",
            "bob is 4 years old\n",
            "bob eats meat\n"
          ]
        }
      ],
      "source": [
        "class Dog:\n",
        "  new_const = 100\n",
        "  def __init__(self, name, age):\n",
        "    # name and age are instance attributes\n",
        "    self.name = name\n",
        "    self.age = age\n",
        "\n",
        "  # instance method\n",
        "  def description(self):\n",
        "    return f\"{self.name} is {self.age} years old\"\n",
        "\n",
        "  # instance method\n",
        "  def eat(self, food):\n",
        "    return f\"{self.name} eats {food}\"\n",
        "\n",
        "d1 = Dog('bob', 4) \n",
        "print(d1.new_const)\n",
        "print(d1.description())\n",
        "print(d1.eat(\"meat\"))"
      ]
    },
    {
      "cell_type": "code",
      "source": [
        "# operator overloading\n",
        "class Student:\n",
        "  def __init__(self, name, age, mark):\n",
        "    self.name = name\n",
        "    self.age = age\n",
        "    self.dsa_score = mark\n",
        "\n",
        "  def __eq__(self, other): #==\n",
        "    print(f\"Inside __eq__: {other}\")\n",
        "    if isinstance(other, Student):\n",
        "      return self.dsa_score == other.dsa_score\n",
        "    raise Exception(f\"{type(other)} not match !\")\n",
        "\n",
        "  def __lt__(self, other): #<\n",
        "    if isinstance(other, Student):\n",
        "      print(\"this is same instance .... \")\n",
        "      return self.dsa_score < other.dsa_score\n",
        "    raise Exception(f\"{type(other)} not match !\")\n",
        "\n",
        "  def __le__(self, other): #<=\n",
        "    return self.dsa_score <= other.dsa_score\n",
        "\n",
        "  def __gt__(self, other): #>\n",
        "    pass\n",
        "\n",
        "  def __ge__(self, other): #>=\n",
        "    pass\n",
        "\n",
        "  def __ne__(self, other): #!=\n",
        "    pass\n",
        "    \n",
        "s1 = Student(\"Francis\", 20, 40)\n",
        "s2 = Student(\"Sylvia\", 30, 50)\n",
        "print(f\"s1==s2 ?: {s1 == s2}\")"
      ],
      "metadata": {
        "id": "uBWuBtepJUZ_",
        "outputId": "0f37db5b-77de-4fb1-bf32-f668dfb3906b",
        "colab": {
          "base_uri": "https://localhost:8080/"
        }
      },
      "execution_count": null,
      "outputs": [
        {
          "output_type": "stream",
          "name": "stdout",
          "text": [
            "Inside __eq__: <__main__.Student object at 0x7ff3b26d4510>\n",
            "s1==s2 ?: False\n"
          ]
        }
      ]
    },
    {
      "cell_type": "code",
      "source": [
        "# Some question on extracting data in Python\n",
        "class A:\n",
        "  def __init__(self, d, n):\n",
        "    self.next = n\n",
        "    self.data = d\n",
        "\n",
        "B=[]\n",
        "B.append(A(\"Hello\", A(\"Francis\", None)))\n",
        "B.append(A(\"Loewe\", None))\n",
        "\n",
        "print(f\"what is B[0]: {B[0]}\")\n",
        "print(f\"What is type of B[0]: {type(B[0])}\")\n",
        "print(f\"read 0th data of list B: {B[0].data}\")\n",
        "print(f\"read next data at 0th data of list B: {B[0].next.data}\")\n",
        "print(f\"read B[1]: {B[1]} type is: {type(B[1])}\")\n",
        "print(f\"read another data: {B[1].data}\")"
      ],
      "metadata": {
        "id": "cTMITFj4laIv",
        "colab": {
          "base_uri": "https://localhost:8080/"
        },
        "outputId": "ca49fd6e-fc13-4f17-ade8-57bfcf751f43"
      },
      "execution_count": null,
      "outputs": [
        {
          "output_type": "stream",
          "name": "stdout",
          "text": [
            "what is B[0]: <__main__.A object at 0x7ff3b79e2110>\n",
            "What is type of B[0]: <class '__main__.A'>\n",
            "read 0th data of list B: Hello\n",
            "read next data at 0th data of list B: Francis\n",
            "read B[1]: <__main__.A object at 0x7ff3b26d4990> type is: <class '__main__.A'>\n",
            "read another data: Loewe\n"
          ]
        }
      ]
    },
    {
      "cell_type": "markdown",
      "source": [
        "# Import"
      ],
      "metadata": {
        "id": "1d8SV1ld_reO"
      }
    },
    {
      "cell_type": "code",
      "source": [
        "# random module\n",
        "import random\n",
        "# random choice\n",
        "data=random.choice([1,5,6,10,20])\n",
        "print(data)\n",
        "data=random.sample([1,5,6,10,20],3)\n",
        "print(data)\n",
        "# random swap(洗牌)\n",
        "data=[10,20,30,40]\n",
        "random.shuffle(data)\n",
        "print(data)\n",
        "\n",
        "# random number\n",
        "data=random.random() # random number between 0-1 \n",
        "print(data)\n",
        "data=random.uniform(30,60) # random number between 30-60\n",
        "print(data)\n",
        "\n",
        "# random number with stdev\n",
        "data=random.normalvariate(100,10)\n",
        "# mean=100，stdev=10 得到資料大多數在90-100間\n",
        "print(data)\n",
        "\n",
        "#statistics module \n",
        "import statistics as stat\n",
        "data=stat.mean([1,3,5,7])#mean\n",
        "print(data)\n",
        "data=stat.median([1,30,5,7,9])#median\n",
        "print(data)\n",
        "data=stat.stdev([1,30,5,7,9])#stdev\n",
        "print(data)"
      ],
      "metadata": {
        "colab": {
          "base_uri": "https://localhost:8080/"
        },
        "id": "N5pGc4mTm0JQ",
        "outputId": "db460b65-5e4d-45ea-9145-bc0ad3b467c5"
      },
      "execution_count": null,
      "outputs": [
        {
          "output_type": "stream",
          "name": "stdout",
          "text": [
            "10\n",
            "[20, 1, 5]\n",
            "[30, 20, 40, 10]\n",
            "0.7681360076125756\n",
            "39.35497043761825\n",
            "113.0604808529882\n",
            "4\n",
            "7\n",
            "11.349008767288888\n"
          ]
        }
      ]
    }
  ],
  "metadata": {
    "interpreter": {
      "hash": "b3ba2566441a7c06988d0923437866b63cedc61552a5af99d1f4fb67d367b25f"
    },
    "kernelspec": {
      "display_name": "Python 3.8.5 64-bit ('base': conda)",
      "name": "python3"
    },
    "language_info": {
      "codemirror_mode": {
        "name": "ipython",
        "version": 3
      },
      "file_extension": ".py",
      "mimetype": "text/x-python",
      "name": "python",
      "nbconvert_exporter": "python",
      "pygments_lexer": "ipython3",
      "version": "3.9.7"
    },
    "orig_nbformat": 4,
    "colab": {
      "name": "intro_python.ipynb",
      "provenance": [],
      "collapsed_sections": [],
      "include_colab_link": true
    }
  },
  "nbformat": 4,
  "nbformat_minor": 0
}