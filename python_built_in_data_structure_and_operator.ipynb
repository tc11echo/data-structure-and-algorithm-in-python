{
  "nbformat": 4,
  "nbformat_minor": 0,
  "metadata": {
    "colab": {
      "name": "python_built_in_data_structure_and_operator.ipynb",
      "provenance": [],
      "collapsed_sections": [],
      "authorship_tag": "ABX9TyOphvUIMqcBOp7GLqo2Zdoq",
      "include_colab_link": true
    },
    "kernelspec": {
      "name": "python3",
      "display_name": "Python 3"
    },
    "language_info": {
      "name": "python"
    }
  },
  "cells": [
    {
      "cell_type": "markdown",
      "metadata": {
        "id": "view-in-github",
        "colab_type": "text"
      },
      "source": [
        "<a href=\"https://colab.research.google.com/github/tc11echo/data-structure-and-algorithm-in-python/blob/main/python_built_in_data_structure_and_operator.ipynb\" target=\"_parent\"><img src=\"https://colab.research.google.com/assets/colab-badge.svg\" alt=\"Open In Colab\"/></a>"
      ]
    },
    {
      "cell_type": "markdown",
      "source": [
        "# Python Built-in Data Type / Data Structure and Operator\n",
        "* Primitive Data Structure\n",
        "  * Numeric Type: `int, float, complex`\n",
        "  * Boolean Type: `bool`\n",
        "  * Text Type: `str`\n",
        "  * Binary Type: `bytes, bytearray, memoryview`\n",
        "  * None Type: `NoneType`\n",
        "* Non-Primitive Data Structure\n",
        "  * Sequence Type: `list, tuple, range`\n",
        "  * Set Type: `set, frozenset`\n",
        "  * Mapping Typ: `dict`\n",
        "\n",
        "`type()` can be use for checking the data type of built-in data type in python"
      ],
      "metadata": {
        "id": "pK-iGEMR7ch0"
      }
    },
    {
      "cell_type": "markdown",
      "source": [
        "# integer"
      ],
      "metadata": {
        "id": "vPDWbxIy-sKu"
      }
    },
    {
      "cell_type": "code",
      "source": [
        "# integer\n",
        "x=3\n",
        "print(x, type(x)) # use type() function to check the data type of a variable; print \"<class \"int\">\""
      ],
      "metadata": {
        "id": "ZqVY9nWflw8F",
        "colab": {
          "base_uri": "https://localhost:8080/"
        },
        "outputId": "6ef3d54e-fa90-49c0-d224-177beac2cccb"
      },
      "execution_count": 192,
      "outputs": [
        {
          "output_type": "stream",
          "name": "stdout",
          "text": [
            "3 <class 'int'>\n"
          ]
        }
      ]
    },
    {
      "cell_type": "markdown",
      "source": [
        "# Floating Point Number"
      ],
      "metadata": {
        "id": "UloAokBB-wCF"
      }
    },
    {
      "cell_type": "code",
      "source": [
        "# floating point number\n",
        "y=0.5\n",
        "print(y, type(y)) # use type() function to check the data type of a variable; print \"<class \"float\">\""
      ],
      "metadata": {
        "colab": {
          "base_uri": "https://localhost:8080/"
        },
        "id": "nQTAHkyf-1zb",
        "outputId": "f5cf482a-c4c9-4e92-de43-5fe5f2823031"
      },
      "execution_count": 193,
      "outputs": [
        {
          "output_type": "stream",
          "name": "stdout",
          "text": [
            "0.5 <class 'float'>\n"
          ]
        }
      ]
    },
    {
      "cell_type": "markdown",
      "source": [
        "# Boolean"
      ],
      "metadata": {
        "id": "lw5h8Xbt-2vM"
      }
    },
    {
      "cell_type": "code",
      "source": [
        "# boolean\n",
        "# unlike C++, the first letter of \"True\" is capital. That is, do not write \"true\"\n",
        "t=True\n",
        "f=False\n",
        "print(t, f, type(t))  # print \"<class \"bool\">\"\n",
        "# when doing arithmetic operations on booleans, they will be first converted to 1 (True) or 0 (False)\n",
        "print(f+t+f, t+t+t+f)"
      ],
      "metadata": {
        "colab": {
          "base_uri": "https://localhost:8080/"
        },
        "id": "7_3zTHHX7idn",
        "outputId": "2daa8848-3d96-4515-fa15-da134e09dd91"
      },
      "execution_count": 194,
      "outputs": [
        {
          "output_type": "stream",
          "name": "stdout",
          "text": [
            "True False <class 'bool'>\n",
            "1 3\n"
          ]
        }
      ]
    },
    {
      "cell_type": "markdown",
      "source": [
        "# Operator"
      ],
      "metadata": {
        "id": "6jLz8QIGVLEQ"
      }
    },
    {
      "cell_type": "code",
      "source": [
        "# arithmetic operator\n",
        "x=3\n",
        "y=2\n",
        "\n",
        "print( -x )      # negation; print \"-3\"\n",
        "print( x + y )   # addition; print \"5\"\n",
        "print( x - y )   # subtraction; print \"1\"\n",
        "print( x * y )   # multiplication; print \"6\"\n",
        "print( x ** y )   # exponentiation; print \"9\"\n",
        "print( x / y )   # ordinary division; print \"1.5\". NOTE:unlike C++, where \"/\" carries out the integer division\n",
        "print( x // y )   # integer division(floor division); print \"1\"\n",
        "print( x % y )   # modulo; print \"1\"\n",
        "print( abs(x) )    # absolute value; print \"3\"\n",
        "print( x ** (1/2) ) # square root; print \"1.7320508075688772\"\n",
        "import math\n",
        "print( math.sqrt(x) ) # square root; print \"1.7320508075688772\"\n",
        "\n",
        "\n",
        "# shortcut assignment (two for example)\n",
        "x+=y   # x=x+y\n",
        "print(x) # print \"5\"\n",
        "x*=y\n",
        "print(x) # print \"10\""
      ],
      "metadata": {
        "colab": {
          "base_uri": "https://localhost:8080/"
        },
        "id": "kWcsHWeL7ivC",
        "outputId": "05416cef-002d-48e9-e82b-bcf01e3192f5"
      },
      "execution_count": 195,
      "outputs": [
        {
          "output_type": "stream",
          "name": "stdout",
          "text": [
            "-3\n",
            "5\n",
            "1\n",
            "6\n",
            "9\n",
            "1.5\n",
            "1\n",
            "1\n",
            "3\n",
            "1.7320508075688772\n",
            "1.7320508075688772\n",
            "5\n",
            "10\n"
          ]
        }
      ]
    },
    {
      "cell_type": "code",
      "source": [
        "# bitwise operator\n",
        "x=3 # binary value: 11\n",
        "y=2 # binary value: 10\n",
        "\n",
        "print( ~x )      # bitwise NOT; print \"-4\" binary value: 00\n",
        "print( x & y )    # bitwise AND; print \"2\" binary value: 10\n",
        "print( x | y )    # bitwise OR; print \"3\" binary value: 11\n",
        "print( x ^ y )    # bitwise XOR (exclusive OR); print \"1\" binary value: 01\n",
        "print( x << 1 )   # bitwise left shift; print \"6\" binary value: 110\n",
        "print( x >> 1 )   # bitwise right shift; print \"1\" binary value: 1\n",
        "\n",
        "# shortcut assignment (one for example)\n",
        "x&=y   # x=x&y\n",
        "print(x) # print \"2\""
      ],
      "metadata": {
        "colab": {
          "base_uri": "https://localhost:8080/"
        },
        "id": "4ucMsRuTQ3pP",
        "outputId": "bba97cae-fe41-4cd9-9bbc-aaa0d1b5ab08"
      },
      "execution_count": 196,
      "outputs": [
        {
          "output_type": "stream",
          "name": "stdout",
          "text": [
            "-4\n",
            "2\n",
            "3\n",
            "1\n",
            "6\n",
            "1\n",
            "2\n"
          ]
        }
      ]
    },
    {
      "cell_type": "code",
      "source": [
        "# logical operator\n",
        "t=True\n",
        "f=False\n",
        "\n",
        "print( not t )     # logical NOT (!); print \"False\"\n",
        "print( t and f )    # logical AND (&&); print \"False\"\n",
        "print( t or f )    # logical OR (||); print \"True\"\n",
        "print( t != f )    # logical XOR (exclusive OR); print \"True\"\n",
        "print( t==t )      # logical comparison; print \"True\""
      ],
      "metadata": {
        "colab": {
          "base_uri": "https://localhost:8080/"
        },
        "id": "0nCw1A3jAg1a",
        "outputId": "fb8e4c6a-eabd-46bd-8482-70ea1fc9593d"
      },
      "execution_count": 197,
      "outputs": [
        {
          "output_type": "stream",
          "name": "stdout",
          "text": [
            "False\n",
            "False\n",
            "True\n",
            "True\n",
            "True\n"
          ]
        }
      ]
    },
    {
      "cell_type": "code",
      "source": [
        "# we can compare charaters like we compare numbers\n",
        "# when doing character comparison, we\"re comparing their ASCII code\n",
        "print(\"A\">\"B\")   # False.\n",
        "print(\"z\">\"a\")   # True.\n",
        "print(\"abc\">\"abd\") # False. # for string, we compare letter by letter. Since \"c\"<\"d\", return False"
      ],
      "metadata": {
        "colab": {
          "base_uri": "https://localhost:8080/"
        },
        "id": "uT4Wtx0fRMLv",
        "outputId": "127133e5-3df1-444c-db09-6648893d1372"
      },
      "execution_count": 198,
      "outputs": [
        {
          "output_type": "stream",
          "name": "stdout",
          "text": [
            "False\n",
            "True\n",
            "False\n"
          ]
        }
      ]
    },
    {
      "cell_type": "code",
      "execution_count": 199,
      "metadata": {
        "id": "vAGEiaj7AgPi",
        "outputId": "1976ff37-b143-4d29-b7f9-05a4ceee33c7",
        "colab": {
          "base_uri": "https://localhost:8080/"
        }
      },
      "outputs": [
        {
          "output_type": "stream",
          "name": "stdout",
          "text": [
            "True\n",
            "False\n",
            "False\n",
            "True\n",
            "True\n"
          ]
        }
      ],
      "source": [
        "# comparison operators\n",
        "list1=[1,2,3,4]\n",
        "print(1 in list1)    # True. check if 1 is an element of t. \n",
        "print(\"1\" in list1)   # False. since \"1\" is a string, not an integer.\n",
        "print([1,2,3] in list1) # False. although [1,2,3] is a subset of [1,2,3,4], it is not an element of [1,2,3,4]\n",
        "print([1,2,3,4]==list1)  # True\n",
        "\n",
        "str1=\"hello\"\n",
        "print(\"h\" in str1) # True"
      ]
    },
    {
      "cell_type": "markdown",
      "source": [
        "# String\n",
        "* String literal defined by `'...'` or `\"...\"`\n",
        "* String is **immutable**(immutable means unchangeable) ordered aka. read only\n",
        "* `str()` can change other data type to string\n"
      ],
      "metadata": {
        "id": "aifzJNg3-qWj"
      }
    },
    {
      "cell_type": "code",
      "execution_count": 200,
      "metadata": {
        "id": "8fTrAqe2AgPa",
        "outputId": "8206224c-f3af-43ca-e999-1e8b0e1df470",
        "colab": {
          "base_uri": "https://localhost:8080/"
        }
      },
      "outputs": [
        {
          "output_type": "stream",
          "name": "stdout",
          "text": [
            "hello\n",
            "5\n",
            "e\n",
            "ell\n",
            "hello world\n",
            "hello world2239\n",
            "hello world2239\n"
          ]
        }
      ],
      "source": [
        "# string\n",
        "str1='hello'    # string literals can use single quotes\n",
        "str2=\"world\"    # or double quotes; it does not matter\n",
        "print(str1)    # print \"hello\"\n",
        "\n",
        "print(len(str1))  # len() returns the len of a given object; print \"5\", since it has 5 letters\n",
        "\n",
        "print(str1[1])   # print \"e\"; use [] to access individual elements\n",
        "print(str1[1:4])  # print \"ell\"\n",
        "\n",
        "#str1[0]=\"x\" Error\n",
        "\n",
        "# when using \"+\" to concatenate two strings, we must ensure that the two operands are of the same type.\n",
        "# otherwise Error will occur\n",
        "\n",
        "str3=str1+\" \"+str2 # to do string concatenation, use \"+\"\n",
        "print(str3)     # print \"hello world\"\n",
        "\n",
        "print(str3+\"2239\")  # we should first convert the intger to string first!\n",
        "print(str3+str(2239)) # alternatively, use str() function to convert the interger to string. This is useful if it is a variable\n",
        "\n",
        "del str3 # delete string"
      ]
    },
    {
      "cell_type": "code",
      "execution_count": 201,
      "metadata": {
        "id": "sz-6dmoeAgPb",
        "outputId": "25a5da06-ede4-4496-8990-9313a90239a9",
        "colab": {
          "base_uri": "https://localhost:8080/"
        }
      },
      "outputs": [
        {
          "output_type": "stream",
          "name": "stdout",
          "text": [
            "2\n",
            "Hello\n",
            "HELLO\n",
            "True\n",
            "False\n",
            "world hi\n"
          ]
        }
      ],
      "source": [
        "# methods for string\n",
        "# in python, string is an object, and so it has many methods for us to use (a method in python is called a member function in C++)\n",
        "str1=\"hello\"\n",
        "print( str1.count(\"l\") )     # Count number of \"l\"; print \"2\"\n",
        "print( str1.capitalize() )    # Capitalize a string; print \"Hello\"\n",
        "print( str1.upper() )       # Convert a string to uppercase; print \"HELLO\"\n",
        "print( str1.isalpha() )      # check whether all the characters in s are English alphabets\n",
        "print( \"A_X\".isalpha() )    # print \"False\"\n",
        "print( \"  world hi  \".strip() ) # Strip leading and trailing whitespace; print \"world\"\n",
        "\n",
        "# all mutable action will lead to Error as string is immutable\n",
        "#str1.append(\"a\")\n",
        "#str1.extend(str2)\n",
        "#str1.insert(2,\"a\")\n",
        "#str1.remove(\"l\")\n",
        "#str1.pop(2)\n",
        "#str1.sort()\n",
        "#str1.reverse()"
      ]
    },
    {
      "cell_type": "code",
      "source": [
        "# raw string (r-string)\n",
        "print( \"\\nraw test\" )\n",
        "print( r\"\\nraw test\" )"
      ],
      "metadata": {
        "id": "Ki7b3rw3KLfP",
        "outputId": "0626bb75-298c-42f1-bf94-4e11538468a7",
        "colab": {
          "base_uri": "https://localhost:8080/"
        }
      },
      "execution_count": 202,
      "outputs": [
        {
          "output_type": "stream",
          "name": "stdout",
          "text": [
            "\n",
            "raw test\n",
            "\\nraw test\n"
          ]
        }
      ]
    },
    {
      "cell_type": "code",
      "execution_count": 203,
      "metadata": {
        "id": "pmDR8h3aAgPi",
        "outputId": "24f52d94-4e75-4cd1-cf3a-794771696e16",
        "colab": {
          "base_uri": "https://localhost:8080/"
        }
      },
      "outputs": [
        {
          "output_type": "stream",
          "name": "stdout",
          "text": [
            "number is 100\n",
            "number is 100\n"
          ]
        }
      ],
      "source": [
        "# formatted string (f-string)\n",
        "# in print(), it may not be too convenient to use \"+\" all the time to concatenate several non-string pieces. Alternatively, we can use f-string as below:\n",
        "number=100\n",
        "print( \"number is \"+str(number) )\n",
        "print( f\"number is {number}\" )  # anything enclosed by {} is considered a variable name"
      ]
    },
    {
      "cell_type": "markdown",
      "source": [
        "# List\n",
        "* List defined by `[]` and seperate each elements with `,`\n",
        "* List is an **mutable** ordered list of elements\n",
        "* `list()` can change other data type to list\n",
        "* List is the Python equivalent of an array in C++, but a python list is resizeable and can contain elements of different types\n"
      ],
      "metadata": {
        "id": "dAzz2Hjt7wGU"
      }
    },
    {
      "cell_type": "code",
      "source": [
        "# list\n",
        "list1=[3,1,2]\n",
        "list2=[4,5]\n",
        "print(list1)       # print \"[3, 1, 2]\"\n",
        "print(list1[0],list1[1],list1[2]) # print \"3 1 2\", use [] to access individual element\n",
        "print(list1[-1])     # negative indices count from the end of the list; [-1] means the last element; print \"2\"\n",
        "\n",
        "list1[2]=\"foo\"      # lists can contain elements of different types\n",
        "print(list1)       # print \"[3, 1, \"foo\"]\"\n",
        "\n",
        "list3=list1+list2\n",
        "print(list3)\n",
        "\n",
        "del list1        # delete list1"
      ],
      "metadata": {
        "colab": {
          "base_uri": "https://localhost:8080/"
        },
        "id": "9hh3GKzF7wvN",
        "outputId": "6bef8053-eaaf-4213-df00-d384da16e5cb"
      },
      "execution_count": 204,
      "outputs": [
        {
          "output_type": "stream",
          "name": "stdout",
          "text": [
            "[3, 1, 2]\n",
            "3 1 2\n",
            "2\n",
            "[3, 1, 'foo']\n",
            "[3, 1, 'foo', 4, 5]\n"
          ]
        }
      ]
    },
    {
      "cell_type": "code",
      "source": [
        "# methods for list\n",
        "list1=[5,5,4,3,2,1]\n",
        "\n",
        "print(list1.index(2)) # print \"4\"\n",
        "\n",
        "print(list1.count(5)) # print \"2\"\n",
        "\n",
        "list1.append(7)  # add a new element to the end of the list\n",
        "print(list1) # print \"[5, 5, 4, 3, 2, 1, 7]\"\n",
        "\n",
        "list1.insert(5, 48)\n",
        "print(list1) # print \"[5, 5, 4, 3, 2, 48, 1, 7]\"\n",
        "\n",
        "x=list1.pop() # remove the last element of the list\n",
        "print(x, list1) # print \"7 [5, 5, 4, 3, 2, 48, 1]\"\n",
        "\n",
        "list1.remove(5)\n",
        "print(list1) # print \"[5, 4, 3, 2, 48, 1]\"\n",
        "\n",
        "list2=[5355,233,48]\n",
        "list1.extend(list2)\n",
        "print(list1) # print \"[5, 4, 3, 2, 48, 1, 5355, 233, 48]\"\n",
        "\n",
        "list1.reverse()\n",
        "print(list1) # print \"[48, 233, 5355, 1, 48, 2, 3, 4, 5]\"\n",
        "\n",
        "list1.sort() # mixed list can\"t be sort\n",
        "print(list1) # print \"[1, 2, 3, 4, 5, 48, 48, 233, 5355]\"\n",
        "\n",
        "list1.clear()\n",
        "print(list1)"
      ],
      "metadata": {
        "colab": {
          "base_uri": "https://localhost:8080/"
        },
        "id": "GWWe51pThsC9",
        "outputId": "2048c602-ca9e-45d3-fa52-20737bee766a"
      },
      "execution_count": 205,
      "outputs": [
        {
          "output_type": "stream",
          "name": "stdout",
          "text": [
            "4\n",
            "2\n",
            "[5, 5, 4, 3, 2, 1, 7]\n",
            "[5, 5, 4, 3, 2, 48, 1, 7]\n",
            "7 [5, 5, 4, 3, 2, 48, 1]\n",
            "[5, 4, 3, 2, 48, 1]\n",
            "[5, 4, 3, 2, 48, 1, 5355, 233, 48]\n",
            "[48, 233, 5355, 1, 48, 2, 3, 4, 5]\n",
            "[1, 2, 3, 4, 5, 48, 48, 233, 5355]\n",
            "[]\n"
          ]
        }
      ]
    },
    {
      "cell_type": "code",
      "execution_count": 206,
      "metadata": {
        "id": "2-W51a5HAgPe",
        "outputId": "4a0e9800-a99b-411f-beb7-ab7c0967dd8f",
        "colab": {
          "base_uri": "https://localhost:8080/"
        }
      },
      "outputs": [
        {
          "output_type": "stream",
          "name": "stdout",
          "text": [
            "[0, 1, 2, 3, 4]\n",
            "[2, 3]\n",
            "[2, 3, 4]\n",
            "[0, 1]\n",
            "[1, 3]\n",
            "[0, 3]\n",
            "[0, 1, 2, 3, 4]\n",
            "[0, 1, 8, 9, 4]\n"
          ]
        }
      ],
      "source": [
        "# slicing\n",
        "# in addition to accessing list elements one at a time, Python provides concise syntax to access sublists; this is known as slicing. Note that slicing can also be used on string type. \n",
        "\"\"\"\n",
        "- the three numbers `start`, `end`, `step` in [start:end:step] can each be negative!\n",
        "- IMPORTANT: the last element of a sequence (i.e., list, string) is also given the index `-1`. \n",
        "\"\"\"\n",
        "\n",
        "t=list(range(5))  # range is a built-in function that creates an iterable of integers. range(5) means that the numbers are from [0,5) (i.e., not including 5!). Notice that range(5) itself is not a list. To convert to a list, apply list() on it. \n",
        "print(t)      # print \"[0, 1, 2, 3, 4]\"\n",
        "print(t[2:4])    # get a slice from index 2 to 4(exclusive); print \"[2, 3]\"\n",
        "print(t[2:])    # get a slice from index 2 to the end; print \"[2, 3, 4]\"\n",
        "print(t[:2])    # get a slice from the start to index 2(exclusive); print \"[0, 1]\"\n",
        "print(t[1:5:2])   # it means get elements from index 1 to index 4, but after getting an element, jump 2 indices, but not 1, which is the default value. Print \"[1,3]\"\n",
        "print(t[::3])    # print \"[0, 3]\"\n",
        "print(t[:])     # get a slice of the whole list; print \"[0, 1, 2, 3, 4]\"\n",
        "t[2:4]=[8,9]    # assign a new sublist to a slice\n",
        "print(t)      # print \"[0, 1, 8, 9, 4]\""
      ]
    },
    {
      "cell_type": "code",
      "execution_count": 207,
      "metadata": {
        "id": "FuJ4TB7uAgPf",
        "outputId": "f4c1f0c5-4142-4bff-8f86-ae98f7c2a0b8",
        "colab": {
          "base_uri": "https://localhost:8080/"
        }
      },
      "outputs": [
        {
          "output_type": "stream",
          "name": "stdout",
          "text": [
            "987\n",
            "01234567\n",
            "789\n",
            "76543210\n",
            "642\n",
            "\n",
            "9876543210\n",
            "9876543210\n"
          ]
        }
      ],
      "source": [
        "# more slicing example\n",
        "s=\"0123456789\"\n",
        "print(s[-1:-4:-1]) # 987\n",
        "print(s[:-2])    # 01234567\n",
        "print(s[-3:])    # 789\n",
        "print(s[-3::-1])  # 76543210\n",
        "print(s[6:1:-2])  # 642\n",
        "print(s[6:1:2])   # print nothing\n",
        "print(s[::-1])   # same as s[-1:-len(s)-1:-1] # 9876543210\n",
        "print(s[-1:-len(s)-1:-1]) # 9876543210"
      ]
    },
    {
      "cell_type": "markdown",
      "source": [
        "# Tuple\n",
        "\n",
        "* Tuple defined by `()` and seperate each elements with `,`\n",
        "* Tuple is an **immutable** ordered list of elements\n",
        "* `tuple()` can change other data type to tuplue\n",
        "* Tuple is in many ways similar to a list, The most important difference between tuple and list is that tuple\"s elements cannot be modified after it\"s declared"
      ],
      "metadata": {
        "id": "-6bEetOUxHLs"
      }
    },
    {
      "cell_type": "code",
      "execution_count": 208,
      "metadata": {
        "id": "0pRDN4J5AgPi",
        "outputId": "c387b6ed-f43b-445e-9f47-6197bb419d90",
        "colab": {
          "base_uri": "https://localhost:8080/"
        }
      },
      "outputs": [
        {
          "output_type": "stream",
          "name": "stdout",
          "text": [
            "(1, 2, 3) <class 'tuple'>\n",
            "(1, 2, 3) <class 'tuple'>\n",
            "(1,) <class 'tuple'>\n",
            "1 <class 'int'>\n",
            "2 3\n"
          ]
        }
      ],
      "source": [
        "# tuple\n",
        "tuple1=(1,2,3)\n",
        "print(tuple1, type(tuple1)) # (1, 2, 3) <class \"tuple\">\n",
        "tuple2=1,2,3 # parentheses () is optional\n",
        "print(tuple2, type(tuple2)) # (1, 2, 3) <class \"tuple\">\n",
        "# although parentheses () is optional, including it is highly recommended.\n",
        "# there are still other cases where () is necessary so as to avoid the issue of operator precedence.\n",
        "\n",
        "\n",
        "singleton=(1,) # one exception where () must be used is when the tuple contains one element only. In this case, not only is the () necessary, we also need to add a \",\" to indicate that it is not an integer. Without the comma, python will mistook it for an integer, because (1)==1, for example.\n",
        "print(singleton, type(singleton)) # (1,) <class \"tuple\">\n",
        "\n",
        "wrong_singleton=(1) # this is just an integer, since it lacks a comma\n",
        "print(wrong_singleton, type(wrong_singleton)) # 1 <class \"int\">\n",
        "\n",
        "print(tuple1[1],tuple1[-1]) # print\"2 3\"\n",
        "#tuple1[1]=5 Error\n",
        "\n",
        "del tuple2 # delete tuple"
      ]
    },
    {
      "cell_type": "code",
      "source": [
        "# methods for tuple\n",
        "tuple1=(1,8,9,9,9,4)\n",
        "\n",
        "print( tuple1.count(9) ) # find the number of occurrence of 9 in the tuple\n",
        "\n",
        "# all mutable action will lead to Error as tuple is immutable"
      ],
      "metadata": {
        "colab": {
          "base_uri": "https://localhost:8080/"
        },
        "id": "-kis8jeKojSu",
        "outputId": "add8b651-4043-4293-c42b-d5320917a642"
      },
      "execution_count": 209,
      "outputs": [
        {
          "output_type": "stream",
          "name": "stdout",
          "text": [
            "3\n"
          ]
        }
      ]
    },
    {
      "cell_type": "markdown",
      "source": [
        "# Miscellaneous about Tuple"
      ],
      "metadata": {
        "id": "IeeZ7SkGCdco"
      }
    },
    {
      "cell_type": "code",
      "execution_count": 210,
      "metadata": {
        "id": "n5xq743HAgPg",
        "outputId": "6061f67f-0873-4d3a-e468-8fcd737a01a7",
        "colab": {
          "base_uri": "https://localhost:8080/"
        }
      },
      "outputs": [
        {
          "output_type": "stream",
          "name": "stdout",
          "text": [
            "1 2\n",
            "2 1\n"
          ]
        }
      ],
      "source": [
        "# swapping the contents of two variables\n",
        "# it\"s very easy in python to swap the contents of two variables\n",
        "a,b=1,2\n",
        "print(a,b) # 1 2\n",
        "\n",
        "a,b=b,a # swapping the content of the two variables\n",
        "print(a,b) # 2 1"
      ]
    },
    {
      "cell_type": "code",
      "execution_count": 211,
      "metadata": {
        "id": "W1Gju7fSAgPg",
        "outputId": "fe809612-6a04-46b1-e9a8-09b4628e2883",
        "colab": {
          "base_uri": "https://localhost:8080/"
        }
      },
      "outputs": [
        {
          "output_type": "stream",
          "name": "stdout",
          "text": [
            "1 Hello [1, 2, 3] True\n",
            "1 Hello [1, 2, 3] True\n",
            "1 Hello [1, 2, 3] True\n"
          ]
        }
      ],
      "source": [
        "# create multiple variaables in one line (i.e. UNPACK the tuple/list)\n",
        "\n",
        "# no parentheses (tuple)\n",
        "a,b,c,d=1,\"Hello\",[1,2,3],True\n",
        "print(a,b,c,d) # print \"1 Hello [1, 2, 3] True\"\n",
        "\n",
        "# tuple\n",
        "a,b,c,d=(1,\"Hello\",[1,2,3],True)\n",
        "print(a,b,c,d)\n",
        "\n",
        "# list\n",
        "a,b,c,d=[1,\"Hello\",[1,2,3],True]\n",
        "print(a,b,c,d)"
      ]
    },
    {
      "cell_type": "markdown",
      "source": [
        "# Set\n",
        "* Set defined by `{}` and seperate each elements with `,`\n",
        "* Set is an **mutable** unordered set of elements\n",
        "* `set()` can change other data type to set\n"
      ],
      "metadata": {
        "id": "5xHWJJjx7uIK"
      }
    },
    {
      "cell_type": "code",
      "source": [
        "# set\n",
        "set1={3,4,5,5}\n",
        "print(set1)\n",
        "\n",
        "set2=set(\"Hello\")\n",
        "print(set2)\n",
        "print(\"H\" in set2)\n",
        "print(\"A\" in set2)\n",
        "\n",
        "set2.add(\"k\")\n",
        "print(set2)\n",
        "\n",
        "set2.remove(\"o\")\n",
        "print(set2)\n",
        "\n",
        "del set2 # delete set2\n",
        "set1.clear()"
      ],
      "metadata": {
        "colab": {
          "base_uri": "https://localhost:8080/"
        },
        "id": "cacRQsAC7xOb",
        "outputId": "ccde7286-fa3c-4644-ce78-d71b152d3555"
      },
      "execution_count": 212,
      "outputs": [
        {
          "output_type": "stream",
          "name": "stdout",
          "text": [
            "{3, 4, 5}\n",
            "{'l', 'o', 'H', 'e'}\n",
            "True\n",
            "False\n",
            "{'k', 'o', 'H', 'e', 'l'}\n",
            "{'k', 'H', 'e', 'l'}\n"
          ]
        }
      ]
    },
    {
      "cell_type": "markdown",
      "source": [
        "# Frozen Set\n",
        "* Frozen set is an **immutable** unordered set of elements\n",
        "* `frozenset()` can change other data type to frozen set\n"
      ],
      "metadata": {
        "id": "GGBVzajTvEhe"
      }
    },
    {
      "cell_type": "code",
      "source": [
        "# frozen set\n",
        "frozenset1=frozenset(\"ayfmjdfjjhh\")\n",
        "print(frozenset1)\n",
        "\n",
        "# all mutable action will lead to Error as frozen set is immutable\n",
        "#set2.add(\"j\")\n",
        "#set2.remove(\"h\")"
      ],
      "metadata": {
        "colab": {
          "base_uri": "https://localhost:8080/"
        },
        "id": "Zx-skMr-uxAW",
        "outputId": "df7dca0b-100a-4408-e9ac-7f421bc04744"
      },
      "execution_count": 213,
      "outputs": [
        {
          "output_type": "stream",
          "name": "stdout",
          "text": [
            "frozenset({'j', 'm', 'a', 'f', 'd', 'y', 'h'})\n"
          ]
        }
      ]
    },
    {
      "cell_type": "code",
      "source": [
        "# operators of set\n",
        "set1={1,2,3,4,5}\n",
        "set2={4,5,6,7,8}\n",
        "set3={1,2}\n",
        "\n",
        "# union (OR)\n",
        "set4=set1.union(set2)\n",
        "set4=set1 | set2\n",
        "print(set4)  # print\"{1, 2, 3, 4, 5, 6, 7, 8}\"\n",
        "\n",
        "# intersection (AND)\n",
        "set4=set1.intersection(set2)\n",
        "set4=set1 & set2\n",
        "print(set4)   # print\"{4, 5}\"\n",
        "\n",
        "# difference\n",
        "set4=set1.difference(set2)\n",
        "set4=set1 - set2\n",
        "print(set4)   # print\"{1, 2, 3}\"\n",
        "\n",
        "# symmetric difference (XOR)\n",
        "set4=set1.symmetric_difference(set2)\n",
        "set4=set1 ^ set2\n",
        "print(set4)   # print\"{1, 2, 3, 6, 7, 8}\"\n",
        "\n",
        "# superset check\n",
        "x=set1.issuperset(set3)\n",
        "x=set1 >= set3\n",
        "print(x)   # print\"True\"\n",
        "\n",
        "# subset check\n",
        "x=set1.issubset(set3)\n",
        "x=set1 <= set3\n",
        "print(x)   # print\"False\"\n",
        "\n",
        "# disjoint check\n",
        "x=set1.isdisjoint(set2)\n",
        "x=set1.isdisjoint(set2)\n",
        "print(x)   # print\"False\""
      ],
      "metadata": {
        "colab": {
          "base_uri": "https://localhost:8080/"
        },
        "id": "zBY6o3jSrSax",
        "outputId": "1e4a3689-b586-481b-e613-6cdf2c36a253"
      },
      "execution_count": 214,
      "outputs": [
        {
          "output_type": "stream",
          "name": "stdout",
          "text": [
            "{1, 2, 3, 4, 5, 6, 7, 8}\n",
            "{4, 5}\n",
            "{1, 2, 3}\n",
            "{1, 2, 3, 6, 7, 8}\n",
            "True\n",
            "False\n",
            "False\n"
          ]
        }
      ]
    },
    {
      "cell_type": "markdown",
      "source": [
        "# Dictionary\n",
        "* key-value pairs\n",
        "* Dictionary defined by `{}`, seperate each key-value pairs with `,` and seperate every key and value with `:`\n",
        "* `dict()` can change other data type to dictionary"
      ],
      "metadata": {
        "id": "leG_vKGSBsFg"
      }
    },
    {
      "cell_type": "code",
      "source": [
        "# create a dictionary\n",
        "dict1={\"a\":1,\"a\":1,\"b\":2,\"c\":3,\"d\":4}\n",
        "print(dict1)\n",
        "\n",
        "dict1=dict(a=1, b=2, c=3, d=4)\n",
        "print(dict1)\n",
        "\n",
        "dict1={k:v for k,v in [(\"a\", 1),(\"b\",2),(\"c\",3),(\"d\",4)]}\n",
        "print(dict1)\n",
        "\n",
        "# deleting items in dictionary\n",
        "del dict1[\"a\"] # remove specific element in a dictionary\n",
        "print(dict1)\n",
        "\n",
        "del dict1"
      ],
      "metadata": {
        "colab": {
          "base_uri": "https://localhost:8080/"
        },
        "id": "JN-l89qlwNFh",
        "outputId": "1572232b-24e9-42ab-c8b9-fcf666ba2ac7"
      },
      "execution_count": 215,
      "outputs": [
        {
          "output_type": "stream",
          "name": "stdout",
          "text": [
            "{'a': 1, 'b': 2, 'c': 3, 'd': 4}\n",
            "{'a': 1, 'b': 2, 'c': 3, 'd': 4}\n",
            "{'a': 1, 'b': 2, 'c': 3, 'd': 4}\n",
            "{'b': 2, 'c': 3, 'd': 4}\n"
          ]
        }
      ]
    },
    {
      "cell_type": "code",
      "source": [
        "# methods for dictionary\n",
        "\n",
        "dict1={\"a\":1,\"b\":2,\"c\":3,\"d\":4}\n",
        "\n",
        "print(dict1.keys())\n",
        "print(dict1.values())\n",
        "\n",
        "# inserting/updating a single value\n",
        "dict1[\"a\"]=2 # updates if \"a\" exists, else adds \"a\"\n",
        "dict1.update({\"a\":2})\n",
        "dict1.update(dict(a=2))\n",
        "dict1.update(a=2)\n",
        "print(dict1)\n",
        "\n",
        "# inserting/updating multiple values\n",
        "dict1.update({\"c\":13,\"e\":14,\"f\":15}) # updates \"c\" and \"d\"\n",
        "print(dict1)\n",
        "\n",
        "# creating a merged dictionary without modifying originals\n",
        "dict2={\"g\":6}\n",
        "dict3={}\n",
        "dict3.update(dict1) # Modifies data3, not data\n",
        "dict3.update(dict2) # Modifies data3, not data2\n",
        "print(dict3)\n",
        "\n",
        "dict3.pop(\"b\") # remove the key & returns the value\n",
        "print(dict3)\n",
        "\n",
        "dict3.clear()\n",
        "print(dict3)"
      ],
      "metadata": {
        "colab": {
          "base_uri": "https://localhost:8080/"
        },
        "id": "vDYyfUbEyQ8r",
        "outputId": "43c161de-5aa9-422e-a62c-3c33aca41676"
      },
      "execution_count": 216,
      "outputs": [
        {
          "output_type": "stream",
          "name": "stdout",
          "text": [
            "dict_keys(['a', 'b', 'c', 'd'])\n",
            "dict_values([1, 2, 3, 4])\n",
            "{'a': 2, 'b': 2, 'c': 3, 'd': 4}\n",
            "{'a': 2, 'b': 2, 'c': 13, 'd': 4, 'e': 14, 'f': 15}\n",
            "{'a': 2, 'b': 2, 'c': 13, 'd': 4, 'e': 14, 'f': 15, 'g': 6}\n",
            "{'a': 2, 'c': 13, 'd': 4, 'e': 14, 'f': 15, 'g': 6}\n",
            "{}\n"
          ]
        }
      ]
    }
  ]
}