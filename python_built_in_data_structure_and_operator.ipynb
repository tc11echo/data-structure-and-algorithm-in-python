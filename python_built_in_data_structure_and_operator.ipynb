{
  "nbformat": 4,
  "nbformat_minor": 0,
  "metadata": {
    "colab": {
      "name": "python_built_in_data_structure_and_operator.ipynb",
      "provenance": [],
      "collapsed_sections": [],
      "authorship_tag": "ABX9TyMnZdg40XpvIb2iAs+7RXGE",
      "include_colab_link": true
    },
    "kernelspec": {
      "name": "python3",
      "display_name": "Python 3"
    },
    "language_info": {
      "name": "python"
    }
  },
  "cells": [
    {
      "cell_type": "markdown",
      "metadata": {
        "id": "view-in-github",
        "colab_type": "text"
      },
      "source": [
        "<a href=\"https://colab.research.google.com/github/tc11echo/data-structure-and-algorithm-in-python/blob/main/python_built_in_data_structure_and_operator.ipynb\" target=\"_parent\"><img src=\"https://colab.research.google.com/assets/colab-badge.svg\" alt=\"Open In Colab\"/></a>"
      ]
    },
    {
      "cell_type": "markdown",
      "source": [
        "# Python Built-in Data Type / Data Structure and Operator\n",
        "* Primitive Data Structure\n",
        "  * Numeric Type: `int, float, complex`\n",
        "  * Boolean Type: `bool`\n",
        "  * None Type: `NoneType`\n",
        "* Non-Primitive Data Structure\n",
        "  * Sequence Type: `list, tuple, range`\n",
        "  * Set Type: `set, frozenset`\n",
        "  * Mapping Typ: `dict`\n",
        "  * Text Type: `str`\n",
        "  * Binary Type: `bytes, bytearray, memoryview`"
      ],
      "metadata": {
        "id": "pK-iGEMR7ch0"
      }
    },
    {
      "cell_type": "markdown",
      "source": [
        "# integer"
      ],
      "metadata": {
        "id": "vPDWbxIy-sKu"
      }
    },
    {
      "cell_type": "code",
      "source": [
        "# integer\n",
        "x=3\n",
        "print(x, type(x)) # use type() function to check the data type of a variable; print \"<class 'int'>\""
      ],
      "metadata": {
        "id": "ZqVY9nWflw8F",
        "colab": {
          "base_uri": "https://localhost:8080/"
        },
        "outputId": "e6f0af03-e001-4995-adee-ac88b29247ed"
      },
      "execution_count": 4,
      "outputs": [
        {
          "output_type": "stream",
          "name": "stdout",
          "text": [
            "3 <class 'int'>\n"
          ]
        }
      ]
    },
    {
      "cell_type": "markdown",
      "source": [
        "# Floating Point Number"
      ],
      "metadata": {
        "id": "UloAokBB-wCF"
      }
    },
    {
      "cell_type": "code",
      "source": [
        "# floating point number\n",
        "y=0.5\n",
        "print(y, type(y)) # use type() function to check the data type of a variable; print \"<class 'float'>\""
      ],
      "metadata": {
        "colab": {
          "base_uri": "https://localhost:8080/"
        },
        "id": "nQTAHkyf-1zb",
        "outputId": "9fefa17a-bd95-4d57-a571-2f48fe79f65b"
      },
      "execution_count": 5,
      "outputs": [
        {
          "output_type": "stream",
          "name": "stdout",
          "text": [
            "0.5 <class 'float'>\n"
          ]
        }
      ]
    },
    {
      "cell_type": "markdown",
      "source": [
        "# Boolean"
      ],
      "metadata": {
        "id": "lw5h8Xbt-2vM"
      }
    },
    {
      "cell_type": "code",
      "source": [
        "# operator\n",
        "print(x + 1)   # addition; print \"4\"\n",
        "print(x - 1)   # subtraction; print \"2\"\n",
        "print(x * 2)   # multiplication; print \"6\"\n",
        "print(x ** 2)   # exponentiation; print \"9\"\n",
        "print(x / 2)   # ordinary division; print \"1.5\". NOTE: it's unlike C++, where '/' carries out the integer division\n",
        "print(x // 2)   # integer division; print \"1\"\n",
        "print(x % 2)   # remainder of x when divided by 2; print \"1\"\n",
        "print()\n",
        "\n",
        "# shortcut assignment\n",
        "x+=1\n",
        "print(x)   # print \"4\"\n",
        "x*=2\n",
        "print(x)   # print \"8\""
      ],
      "metadata": {
        "colab": {
          "base_uri": "https://localhost:8080/"
        },
        "id": "kWcsHWeL7ivC",
        "outputId": "949407da-4950-4cf7-9709-aee9d83a6623"
      },
      "execution_count": 6,
      "outputs": [
        {
          "output_type": "stream",
          "name": "stdout",
          "text": [
            "4\n",
            "2\n",
            "6\n",
            "9\n",
            "1.5\n",
            "1\n",
            "1\n",
            "\n",
            "4\n",
            "8\n"
          ]
        }
      ]
    },
    {
      "cell_type": "code",
      "source": [
        "# boolean\n",
        "t=True # unlike C++, the first letter of \"True\" is capital. That is, do not write \"true\"\n",
        "f=False\n",
        "print(t, f, type(t))  # print \"<class 'bool'>\""
      ],
      "metadata": {
        "colab": {
          "base_uri": "https://localhost:8080/"
        },
        "id": "7_3zTHHX7idn",
        "outputId": "78ce0c6f-42b5-41b7-be56-3135c449c873"
      },
      "execution_count": 7,
      "outputs": [
        {
          "output_type": "stream",
          "name": "stdout",
          "text": [
            "True False <class 'bool'>\n"
          ]
        }
      ]
    },
    {
      "cell_type": "code",
      "source": [
        "# comparison and logical operator\n",
        "t=True\n",
        "f=False\n",
        "print(t and f)  # Logical AND; print \"False\"\n",
        "print(t or f)  # Logical OR; print \"True\"\n",
        "print(not t)   # Logical NOT; print \"False\"\n",
        "print(t != f)  # Logical XOR; print \"True\"\n",
        "print(t==t)    # Logical comparison; print \"True\"\n",
        "print(f+t+f, t+t+t+f)   # when doing arithmetic operations on booleans, they will be first converted to 1 (True) or 0 (False)\n",
        "print()\n",
        "\n",
        "# we can compare charaters like we compare numbers\n",
        "# when doing character comparison, we're comparing their ASCII code\n",
        "print('A'>'B') # False.\n",
        "print('z'>'a') # True.\n",
        "print('abc'>'abd') # False. # for string, we compare letter by letter. Since 'c'<'d', return False"
      ],
      "metadata": {
        "colab": {
          "base_uri": "https://localhost:8080/"
        },
        "id": "0nCw1A3jAg1a",
        "outputId": "52f9dd70-0dae-413d-b35c-b4a1c27b9b72"
      },
      "execution_count": 8,
      "outputs": [
        {
          "output_type": "stream",
          "name": "stdout",
          "text": [
            "False\n",
            "True\n",
            "False\n",
            "True\n",
            "True\n",
            "1 3\n",
            "\n",
            "False\n",
            "True\n",
            "False\n"
          ]
        }
      ]
    },
    {
      "cell_type": "markdown",
      "source": [
        "# String"
      ],
      "metadata": {
        "id": "aifzJNg3-qWj"
      }
    },
    {
      "cell_type": "code",
      "execution_count": 9,
      "metadata": {
        "id": "8fTrAqe2AgPa",
        "outputId": "e69f34da-b769-4d4e-f60f-04c735f1fa47",
        "colab": {
          "base_uri": "https://localhost:8080/"
        }
      },
      "outputs": [
        {
          "output_type": "stream",
          "name": "stdout",
          "text": [
            "True\n",
            "hello\n",
            "5\n",
            "hello world\n",
            "hello world2239\n",
            "hello world2239\n",
            "h\n"
          ]
        }
      ],
      "source": [
        "# string\n",
        "hello='hello'    # String literals can use single quotes\n",
        "world=\"world\"    # or double quotes; it does not matter\n",
        "print('hello'==\"hello\") # print \"True\"\n",
        "print(hello)       # print \"hello\"\n",
        "print(len(hello))    # len() returns the len of a given object; print \"5\", since it has 5 letters\n",
        "hw=hello+' '+world  # to do string concatenation, use '+'\n",
        "print(hw)        # print \"hello world\"\n",
        "\n",
        "# print(hw+2239) # IMPORTANT: when using '+', we must ensure that the two operands are of the same type. Here, the left operand is string, whereas the right operand is integer, and so this will result in error\n",
        "\n",
        "print(hw+'2239') # we should first convert the intger to string first!\n",
        "print(hw+str(2239)) # alternatively, use str() function to convert the interger to string. This is useful if it is a variable\n",
        "\n",
        "# More about string type\n",
        "s='hello'\n",
        "print(s[0]) # print 'h'; much like in C++, we use [] to access individual elements of an array\n",
        "\n",
        "# string in python is immutable (immutable means unchangeable), that is, we cannot modify the elements of a string\n",
        "# s[0]='x' Error: attempt to change the elements of a string"
      ]
    },
    {
      "cell_type": "code",
      "execution_count": 10,
      "metadata": {
        "id": "sz-6dmoeAgPb",
        "outputId": "50cedc88-ca07-41ee-d2dc-a1b7d441fdee",
        "colab": {
          "base_uri": "https://localhost:8080/"
        }
      },
      "outputs": [
        {
          "output_type": "stream",
          "name": "stdout",
          "text": [
            "Hello\n",
            "HELLO\n",
            "world\n",
            "True\n",
            "False\n"
          ]
        }
      ],
      "source": [
        "# methods for string\n",
        "# in python, string is an object, and so it has many methods for us to use (a method in python is called a member function in C++)\n",
        "s=\"hello\"\n",
        "print(s.capitalize())  # Capitalize a string; print \"Hello\"\n",
        "print(s.upper())       # Convert a string to uppercase; print \"HELLO\"\n",
        "print('  world '.strip())  # Strip leading and trailing whitespace; print \"world\"\n",
        "print(s.isalpha()) # check whether all the characters in s are English alphabets\n",
        "print(\"A_X\".isalpha()) # False"
      ]
    },
    {
      "cell_type": "code",
      "execution_count": 11,
      "metadata": {
        "id": "pmDR8h3aAgPi",
        "outputId": "4e8ed056-7618-41b6-8dcb-d9f26701c0a4",
        "colab": {
          "base_uri": "https://localhost:8080/"
        }
      },
      "outputs": [
        {
          "output_type": "stream",
          "name": "stdout",
          "text": [
            "My favorite number is 100\n",
            "My favorite number is 100\n"
          ]
        }
      ],
      "source": [
        "# f-string\n",
        "# in print(), it may not be too convenient to use '+' all the time to concatenate several non-string pieces. Alternatively, we can use f-string as below:\n",
        "favorite=100\n",
        "# to use f-string, pre-append your string with the letter 'f' (which stands for format)\n",
        "print(f\"My favorite number is {favorite}\" ) # anything enclosed by {} is considered a variable name\n",
        "print(\"My favorite number is \"+str(favorite) ) # this is the same as above, but much less convenient"
      ]
    },
    {
      "cell_type": "markdown",
      "source": [
        "# List\n",
        "* List is an **mutable** ordered list of values\n",
        "* List is the Python equivalent of an array in C++, but a python list is resizeable and can contain elements of different types\n",
        "\n"
      ],
      "metadata": {
        "id": "dAzz2Hjt7wGU"
      }
    },
    {
      "cell_type": "code",
      "source": [
        "# list \n",
        "t=[3, 1, 2]    # Create a list. Do not use l as the name of a list, because it is often confused with 1 and I\n",
        "print(t)     # print \"[3, 1, 2]\"\n",
        "print(t[0],t[1],t[2]) # print \"3 1 2\". Like C++, we use [] to access individual elements of an array.\n",
        "print(t[-1])     # Negative indices count from the end of the list; [-1] means the last element; print \"2\"\n",
        "\n",
        "t[2]='foo'     # lists can contain elements of different types. Now t[2] contains a string type, not an int type \n",
        "print(t)         # print \"[3, 1, 'foo']\"\n",
        "\n",
        "t.append('bar')  # append method adds a new element to the end of the list\n",
        "print(t)         # print \"[3, 1, 'foo', 'bar']\"\n",
        "\n",
        "x=t.pop()      # Remove and return the last element of the list\n",
        "print(x, t)      # print \"bar [3, 1, 'foo']\"\n",
        "\n",
        "t.remove(1)      # remove the element 1 from the list t \n",
        "print(t)         # print [3, 'foo']\n",
        "\n",
        "print(t.index('foo')) # give the index of the element 'foo'\n",
        "\n",
        "t.insert(1, 'abc') # insert 'abc' at index 1\n",
        "print(t)\n",
        "\n",
        "t[0]=10       # change t[0] to 10\n",
        "print(t)        # [10, 'abc', 'foo']\n",
        "\n",
        "del t            # delete the list t.\n",
        "# print(t)       # error, since t has be deleted."
      ],
      "metadata": {
        "colab": {
          "base_uri": "https://localhost:8080/"
        },
        "id": "9hh3GKzF7wvN",
        "outputId": "1a1af4d6-38c9-4062-d59f-8f23854bf933"
      },
      "execution_count": 12,
      "outputs": [
        {
          "output_type": "stream",
          "name": "stdout",
          "text": [
            "[3, 1, 2]\n",
            "3 1 2\n",
            "2\n",
            "[3, 1, 'foo']\n",
            "[3, 1, 'foo', 'bar']\n",
            "bar [3, 1, 'foo']\n",
            "[3, 'foo']\n",
            "1\n",
            "[3, 'abc', 'foo']\n",
            "[10, 'abc', 'foo']\n"
          ]
        }
      ]
    },
    {
      "cell_type": "code",
      "execution_count": 13,
      "metadata": {
        "id": "2-W51a5HAgPe",
        "outputId": "76300438-2079-427a-9493-8ac296ee789b",
        "colab": {
          "base_uri": "https://localhost:8080/"
        }
      },
      "outputs": [
        {
          "output_type": "stream",
          "name": "stdout",
          "text": [
            "[0, 1, 2, 3, 4]\n",
            "[2, 3]\n",
            "[2, 3, 4]\n",
            "[0, 1]\n",
            "[1, 3]\n",
            "[0, 3]\n",
            "[0, 1, 2, 3, 4]\n",
            "[0, 1, 8, 9, 4]\n"
          ]
        }
      ],
      "source": [
        "# slicing\n",
        "# in addition to accessing list elements one at a time, Python provides concise syntax to access sublists; this is known as slicing. Note that slicing can also be used on string type. \n",
        "\"\"\"\n",
        "- the three numbers `start`, `end`, `step` in [start:end:step] can each be negative!\n",
        "- IMPORTANT: the last element of a sequence (i.e., list, string) is also given the index `-1`. \n",
        "\"\"\"\n",
        "\n",
        "t=list(range(5))  # range is a built-in function that creates an iterable of integers. range(5) means that the numbers are from [0,5) (i.e., not including 5!). Notice that range(5) itself is not a list. To convert to a list, apply list() on it. \n",
        "print(t)      # print \"[0, 1, 2, 3, 4]\"\n",
        "print(t[2:4])    # get a slice from index 2 to 4(exclusive); print \"[2, 3]\"\n",
        "print(t[2:])    # get a slice from index 2 to the end; print \"[2, 3, 4]\"\n",
        "print(t[:2])    # get a slice from the start to index 2(exclusive); print \"[0, 1]\"\n",
        "print(t[1:5:2])   # it means get elements from index 1 to index 4, but after getting an element, jump 2 indices, but not 1, which is the default value. Print \"[1,3]\"\n",
        "print(t[::3])    # print \"[0, 3]\"\n",
        "print(t[:])     # get a slice of the whole list; print \"[0, 1, 2, 3, 4]\"\n",
        "t[2:4]=[8,9]    # assign a new sublist to a slice\n",
        "print(t)      # print \"[0, 1, 8, 9, 4]\""
      ]
    },
    {
      "cell_type": "code",
      "execution_count": 14,
      "metadata": {
        "id": "FuJ4TB7uAgPf",
        "outputId": "fdd5aeda-c278-4f48-94a8-72efa2528a6c",
        "colab": {
          "base_uri": "https://localhost:8080/"
        }
      },
      "outputs": [
        {
          "output_type": "stream",
          "name": "stdout",
          "text": [
            "987\n",
            "01234567\n",
            "789\n",
            "76543210\n",
            "642\n",
            "\n",
            "9876543210\n",
            "9876543210\n"
          ]
        }
      ],
      "source": [
        "# more slicing example\n",
        "s=\"0123456789\"\n",
        "print(s[-1:-4:-1]) # 987\n",
        "print(s[:-2])    # 01234567\n",
        "print(s[-3:])    # 789\n",
        "print(s[-3::-1])  # 76543210\n",
        "print(s[6:1:-2])  # 642\n",
        "print(s[6:1:2])   # print nothing\n",
        "print(s[::-1])   # same as s[-1:-len(s)-1:-1] # 9876543210\n",
        "print(s[-1:-len(s)-1:-1]) # 9876543210"
      ]
    },
    {
      "cell_type": "code",
      "execution_count": 15,
      "metadata": {
        "id": "vAGEiaj7AgPi",
        "outputId": "d9a1ebf7-99b4-4f61-e2d2-dbb801a4d679",
        "colab": {
          "base_uri": "https://localhost:8080/"
        }
      },
      "outputs": [
        {
          "output_type": "stream",
          "name": "stdout",
          "text": [
            "True\n",
            "False\n",
            "False\n",
            "True\n"
          ]
        }
      ],
      "source": [
        "# comparison operators\n",
        "t=[1,2,3,4]\n",
        "print(1 in t)    # True. check if 1 is an element of t. \n",
        "print('1' in t)   # False. since '1' is a string, not an integer.\n",
        "print([1,2,3] in t) # False. although [1,2,3] is a subset of [1,2,3,4], it is not an element of [1,2,3,4]\n",
        "print([1,2,3,4]==t)  # True. "
      ]
    },
    {
      "cell_type": "code",
      "execution_count": 16,
      "metadata": {
        "id": "ilX2JnwiAgPd",
        "outputId": "a51a2ee4-4d0e-40a6-bb88-7c8bcf8a62c1",
        "colab": {
          "base_uri": "https://localhost:8080/"
        }
      },
      "outputs": [
        {
          "output_type": "stream",
          "name": "stdout",
          "text": [
            "[-1, 2, 3] [-1, 2, 3]\n",
            "140346116049568\n",
            "140346116049568\n",
            "\n",
            "[1, 2, 3] [-1, 2, 3]\n",
            "140346116091488\n",
            "140346116048208\n",
            "\n"
          ]
        }
      ],
      "source": [
        "# assignment operator vs deep copy\n",
        "t1=[1,2,3] # t1 points to the list [1,2,3]\n",
        "t2=t1    # t2 also points to the same list [1,2,3]. So, now, both t1 and t2 point to the same list [1,2,3]\n",
        "\n",
        "t2[0]=-1  # this will also affect t1, since both t1 and t2 point to the same [1,2,3]\n",
        "print(t1, t2)\n",
        "\n",
        "# to check whether two variables point to the same object, we can check their id. If id is the same, then they are\n",
        "print(id(t1))\n",
        "print(id(t2))\n",
        "print()\n",
        "\n",
        "\n",
        "t1=[1,2,3]\n",
        "t2=t1.copy() # t2 points to a different [1,2,3] than the one t1 points to\n",
        "t2[0]=-1 # this will NOT affect t1, since both t1 and t2 point to the same [1,2,3]\n",
        "print(t1, t2)\n",
        "print(id(t1))\n",
        "print(id(t2))\n",
        "print()"
      ]
    },
    {
      "cell_type": "markdown",
      "source": [
        "# Tuple\n",
        "\n",
        "* Tuple is an **immutable** ordered list of values\n",
        "* Tuple is in many ways similar to a list, The most important difference between tuple and list is that tuple's elements cannot be modified after it's declared\n",
        "* By extension, we cannot add new elements to an existing tuple\n",
        "That is, once a tuple is created, it cannot be modified in any way. In fact, recall that we've already seen another immutable type of data structure:\n",
        "string. Therefore, tuple and string are similar in that both are immutable.\n"
      ],
      "metadata": {
        "id": "-6bEetOUxHLs"
      }
    },
    {
      "cell_type": "code",
      "execution_count": 17,
      "metadata": {
        "id": "0pRDN4J5AgPi",
        "outputId": "855437e5-f793-4aeb-fb37-9dfd7613fbec",
        "colab": {
          "base_uri": "https://localhost:8080/"
        }
      },
      "outputs": [
        {
          "output_type": "stream",
          "name": "stdout",
          "text": [
            "(1, 2, 3) <class 'tuple'>\n",
            "(1, 2, 3) <class 'tuple'>\n",
            "(1,) <class 'tuple'>\n",
            "1 <class 'int'>\n"
          ]
        }
      ],
      "source": [
        "# tuple \n",
        "\n",
        "t=(1,2,3) # t is a tuple. We use () to represent tuples\n",
        "print(t, type(t)) # (1, 2, 3) <class 'tuple'>\n",
        "t=1,2,3 # in fact, the parentheses () above is optional. That is, we can define t without the ()\n",
        "print(t, type(t)) # (1, 2, 3) <class 'tuple'>\n",
        "\n",
        "singleton=(1,) # one exception where () must be used is when the tuple contains one element only. In this case, not only is the () necessary, we also need to add a ',' to indicate that it is not an integer. Without the comma, python will mistook it for an integer, because (1)==1, for example.\n",
        "print(singleton, type(singleton)) # (1,) <class 'tuple'>\n",
        "\n",
        "wrong_singleton=(1) # this is just an integer, since it lacks a comma\n",
        "print(wrong_singleton, type(wrong_singleton)) # 1 <class 'int'>\n",
        "# Although parentheses () is optional, including it is highly recommended. There are still other cases where () is necessary so as to avoid the issue of operator precedence."
      ]
    },
    {
      "cell_type": "code",
      "execution_count": 18,
      "metadata": {
        "id": "XRT50CIwAgPj",
        "outputId": "bebc4601-827a-4f2d-af69-74090c4bfd51",
        "colab": {
          "base_uri": "https://localhost:8080/"
        }
      },
      "outputs": [
        {
          "output_type": "stream",
          "name": "stdout",
          "text": [
            "[10, 2, 20]\n"
          ]
        },
        {
          "output_type": "execute_result",
          "data": {
            "text/plain": [
              "(10, 2, 20)"
            ]
          },
          "metadata": {},
          "execution_count": 18
        }
      ],
      "source": [
        "# tuple vs list\n",
        "tuples=(1,2)\n",
        "lists=[1,2]\n",
        "# tuples[0]=10 # error. attempt to modify the elements of a tuple\n",
        "lists[0]=10 # ok. we can modify the elements of a list\n",
        "# tuples.append(20) # error. we cannot add new elements to a tuple\n",
        "lists.append(20) # ok. we can also add new elements to a list\n",
        "print(lists) # [10, 2, 20]\n",
        "\n",
        "# we can convert a tuple to a list and vice versa, by using their constructors (i.e., list())\n",
        "list(tuples) # convert a tuple to a list\n",
        "tuple(lists) # convert a list to a tuple"
      ]
    },
    {
      "cell_type": "markdown",
      "source": [
        "# Miscellaneous about Tuple"
      ],
      "metadata": {
        "id": "IeeZ7SkGCdco"
      }
    },
    {
      "cell_type": "code",
      "execution_count": 19,
      "metadata": {
        "id": "n5xq743HAgPg",
        "outputId": "79c008d6-563b-4ce9-b36a-557ab0489fce",
        "colab": {
          "base_uri": "https://localhost:8080/"
        }
      },
      "outputs": [
        {
          "output_type": "stream",
          "name": "stdout",
          "text": [
            "1 2\n",
            "2 1\n"
          ]
        }
      ],
      "source": [
        "# swapping the contents of two variables\n",
        "# it's very easy in python to swap the contents of two variables\n",
        "a,b=1,2\n",
        "print(a,b) # 1 2\n",
        "\n",
        "a,b=b, a # swapping the content of the two variables\n",
        "print(a,b) # 2 1"
      ]
    },
    {
      "cell_type": "code",
      "execution_count": 20,
      "metadata": {
        "id": "W1Gju7fSAgPg",
        "outputId": "6d8c84bd-548f-4ab4-b1ed-aee84d57c6e8",
        "colab": {
          "base_uri": "https://localhost:8080/"
        }
      },
      "outputs": [
        {
          "output_type": "stream",
          "name": "stdout",
          "text": [
            "1 Hello [1, 2, 3] True\n"
          ]
        }
      ],
      "source": [
        "# create multiple variaables in one line\n",
        "a,b,c,d=1,'Hello',[1,2,3],True # Create and initialize 4 variables at the same time. The syntax is different from that of C++, but we'll see why Python uses this different syntax when we learn the data structure called tuple later. \n",
        "print(a,b,c,d) # print \"1 Hello [1, 2, 3] True\""
      ]
    },
    {
      "cell_type": "code",
      "execution_count": 21,
      "metadata": {
        "id": "hk944H6CAgPj",
        "outputId": "227d0778-ef53-4818-a6c7-564bacf333b0",
        "colab": {
          "base_uri": "https://localhost:8080/"
        }
      },
      "outputs": [
        {
          "output_type": "stream",
          "name": "stdout",
          "text": [
            "1 2 3\n",
            "1 2 3\n",
            "1 2 3\n"
          ]
        }
      ],
      "source": [
        "# when we previously initialized several variables at once, the right hand side was actually a tuple (without the parentheses \"()\" ), like so:\n",
        "a,b,c=1,2,3 # 1,2,3 is a tuple\n",
        "print(a,b,c)\n",
        "a,b,c=(1,2,3) # we can of course add parenthese, and the result is the same as before.\n",
        "print(a,b,c)\n",
        "a,b,c=[1,2,3]  # in fact, the right hand side can also be list, and the result is the same.\n",
        "print(a,b,c)\n",
        "# When we initialize several variables at once by a tuple/list, what we're doing is called \"UNPACK the tuple/list\""
      ]
    },
    {
      "cell_type": "markdown",
      "source": [
        "# Set\n",
        "* Set is an **mutable** unordered list of values"
      ],
      "metadata": {
        "id": "5xHWJJjx7uIK"
      }
    },
    {
      "cell_type": "code",
      "source": [
        "# set\n",
        "sets1={3,4,5}\n",
        "print(3 in sets1)\n",
        "print(10 in sets1)\n",
        "print(10 not in sets1)\n",
        "print()\n",
        "\n",
        "sets2={4,5,6,7}\n",
        "sets3=sets1&sets2 # intersection, print \"{4, 5}\"\n",
        "print(sets3)\n",
        "sets3=sets1|sets2 # union, print \"{3, 4, 5, 6, 7}\"\n",
        "print(sets3)\n",
        "sets3=sets1-sets2 # difference sets1-sets2, print \"{3}\"\n",
        "print(sets3)\n",
        "sets3=sets1^sets2 # union-Intersection, print \"{3, 6, 7}\"\n",
        "print(sets3)\n",
        "print()\n",
        "\n",
        "s=set(\"Hello\")\n",
        "print(s)\n",
        "print(\"H\" in s)\n",
        "print(\"A\" in s)\n",
        "s.add(\"k\")\n",
        "print(s)"
      ],
      "metadata": {
        "colab": {
          "base_uri": "https://localhost:8080/"
        },
        "id": "cacRQsAC7xOb",
        "outputId": "26094395-5187-4cd7-decd-8387aa316a7a"
      },
      "execution_count": 25,
      "outputs": [
        {
          "output_type": "stream",
          "name": "stdout",
          "text": [
            "True\n",
            "False\n",
            "True\n",
            "\n",
            "{4, 5}\n",
            "{3, 4, 5, 6, 7}\n",
            "{3}\n",
            "{3, 6, 7}\n",
            "\n",
            "{'o', 'e', 'l', 'H'}\n",
            "True\n",
            "False\n",
            "{'o', 'l', 'H', 'e', 'k'}\n"
          ]
        }
      ]
    },
    {
      "cell_type": "markdown",
      "source": [
        "# Dictionary\n",
        "* key-value pair"
      ],
      "metadata": {
        "id": "leG_vKGSBsFg"
      }
    },
    {
      "cell_type": "code",
      "source": [
        "# dictionary\n",
        "dictionarys={\"apple\":\"蘋果\",\"bug\":\"蟲蟲\"}\n",
        "print(dictionarys[\"apple\"])\n",
        "dictionarys[\"apple\"]=\"小蘋果\"\n",
        "print(dictionarys[\"apple\"])\n",
        "print()\n",
        "\n",
        "dictionarys={\"apple\":\"蘋果\",\"bug\":\"蟲蟲\"}\n",
        "print(\"apple\" in dictionarys)\n",
        "print(\"蘋果\" in dictionarys)\n",
        "print(\"test\" in dictionarys)\n",
        "print()\n",
        "\n",
        "del dictionarys[\"apple\"] # # delete the key-value pair \"apple\":\"蘋果\"\n",
        "print(dictionarys)\n",
        "dictionarys2={x:x*2 for x in [3,4,5]} # form dictionary from list\n",
        "print(dictionarys2)\n",
        "dictionarys2.update({7:14})\n",
        "print(dictionarys2)"
      ],
      "metadata": {
        "colab": {
          "base_uri": "https://localhost:8080/"
        },
        "id": "U7vmc1LJ8y9B",
        "outputId": "433f1849-495b-4690-a122-95238816db1e"
      },
      "execution_count": 36,
      "outputs": [
        {
          "output_type": "stream",
          "name": "stdout",
          "text": [
            "蘋果\n",
            "小蘋果\n",
            "\n",
            "True\n",
            "False\n",
            "False\n",
            "\n",
            "{'bug': '蟲蟲'}\n",
            "{3: 6, 4: 8, 5: 10}\n",
            "{3: 6, 4: 8, 5: 10, 7: 14}\n"
          ]
        }
      ]
    }
  ]
}