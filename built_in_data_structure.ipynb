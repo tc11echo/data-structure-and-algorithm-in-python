{
  "nbformat": 4,
  "nbformat_minor": 0,
  "metadata": {
    "colab": {
      "name": "built_in_data_structure.ipynb",
      "provenance": [],
      "collapsed_sections": [],
      "authorship_tag": "ABX9TyM97YdT/j97PUCW5X7tMNPD",
      "include_colab_link": true
    },
    "kernelspec": {
      "name": "python3",
      "display_name": "Python 3"
    },
    "language_info": {
      "name": "python"
    }
  },
  "cells": [
    {
      "cell_type": "markdown",
      "metadata": {
        "id": "view-in-github",
        "colab_type": "text"
      },
      "source": [
        "<a href=\"https://colab.research.google.com/github/tc11echo/data-structure-and-algorithm-in-python/blob/main/built_in_data_structure.ipynb\" target=\"_parent\"><img src=\"https://colab.research.google.com/assets/colab-badge.svg\" alt=\"Open In Colab\"/></a>"
      ]
    },
    {
      "cell_type": "markdown",
      "source": [
        "# Basic Data Type / Data Structure and Operator\n",
        "* Primitive Data Structure\n",
        "  * Numeric Type: `int, float, complex`\n",
        "  * Boolean Type: `bool`\n",
        "  * Text Type: `str`\n",
        "  * None Type: `NoneType`\n",
        "  * Binary Type: `bytes, bytearray, memoryview`\n",
        "* Non-Primitive Data Structure\n",
        "  * Sequence Type: `list, tuple, range`\n",
        "  * Set Type: `set, frozenset`\n",
        "  * Mapping Typ: `dict`"
      ],
      "metadata": {
        "id": "pK-iGEMR7ch0"
      }
    },
    {
      "cell_type": "markdown",
      "source": [
        "# integer"
      ],
      "metadata": {
        "id": "vPDWbxIy-sKu"
      }
    },
    {
      "cell_type": "code",
      "source": [
        "# integer\n",
        "x=3\n",
        "print(x, type(x)) # use type() function to check the data type of a variable; print \"<class 'int'>\""
      ],
      "metadata": {
        "id": "ZqVY9nWflw8F",
        "colab": {
          "base_uri": "https://localhost:8080/"
        },
        "outputId": "0a963f76-3f6f-4810-bb47-adc6efa9cdf5"
      },
      "execution_count": null,
      "outputs": [
        {
          "output_type": "stream",
          "name": "stdout",
          "text": [
            "3 <class 'int'>\n"
          ]
        }
      ]
    },
    {
      "cell_type": "markdown",
      "source": [
        "# Floating Point Number"
      ],
      "metadata": {
        "id": "UloAokBB-wCF"
      }
    },
    {
      "cell_type": "code",
      "source": [
        "# floating point number\n",
        "y=0.5\n",
        "print(y, type(y)) # use type() function to check the data type of a variable; print \"<class 'float'>\""
      ],
      "metadata": {
        "colab": {
          "base_uri": "https://localhost:8080/"
        },
        "id": "nQTAHkyf-1zb",
        "outputId": "52b6e353-37f2-4ff7-b39d-64f72945c5b8"
      },
      "execution_count": null,
      "outputs": [
        {
          "output_type": "stream",
          "name": "stdout",
          "text": [
            "0.5 <class 'float'>\n"
          ]
        }
      ]
    },
    {
      "cell_type": "markdown",
      "source": [
        "# Boolean"
      ],
      "metadata": {
        "id": "lw5h8Xbt-2vM"
      }
    },
    {
      "cell_type": "code",
      "source": [
        "# operator\n",
        "print(x + 1)   # addition; print \"4\"\n",
        "print(x - 1)   # subtraction; print \"2\"\n",
        "print(x * 2)   # multiplication; print \"6\"\n",
        "print(x ** 2)   # exponentiation; print \"9\"\n",
        "print(x / 2)   # ordinary division; print \"1.5\". NOTE: it's unlike C++, where '/' carries out the integer division\n",
        "print(x // 2)   # integer division; print \"1\"\n",
        "print(x % 2)   # remainder of x when divided by 2; print \"1\"\n",
        "print()\n",
        "\n",
        "# shortcut assignment\n",
        "x+=1\n",
        "print(x)   # print \"4\"\n",
        "x*=2\n",
        "print(x)   # print \"8\""
      ],
      "metadata": {
        "colab": {
          "base_uri": "https://localhost:8080/"
        },
        "id": "kWcsHWeL7ivC",
        "outputId": "58e466ae-933a-4610-eee4-834251aeb443"
      },
      "execution_count": null,
      "outputs": [
        {
          "output_type": "stream",
          "name": "stdout",
          "text": [
            "4\n",
            "2\n",
            "6\n",
            "9\n",
            "1.5\n",
            "1\n",
            "1\n",
            "\n",
            "4\n",
            "8\n"
          ]
        }
      ]
    },
    {
      "cell_type": "code",
      "source": [
        "# boolean\n",
        "t=True # unlike C++, the first letter of \"True\" is capital. That is, do not write \"true\"\n",
        "f=False\n",
        "print(t, f, type(t))  # print \"<class 'bool'>\""
      ],
      "metadata": {
        "colab": {
          "base_uri": "https://localhost:8080/"
        },
        "id": "7_3zTHHX7idn",
        "outputId": "f77c2b0b-1814-4898-9213-1d4f2dd16a2f"
      },
      "execution_count": null,
      "outputs": [
        {
          "output_type": "stream",
          "name": "stdout",
          "text": [
            "True False <class 'bool'>\n"
          ]
        }
      ]
    },
    {
      "cell_type": "code",
      "source": [
        "# comparison and logical operator\n",
        "print(t and f)  # Logical AND; print \"False\"\n",
        "print(t or f)  # Logical OR; print \"True\"\n",
        "print(not t)   # Logical NOT; print \"False\"\n",
        "print(t != f)  # Logical XOR; print \"True\"\n",
        "print(t==t)    # Logical comparison; print \"True\"\n",
        "print(f+t+f, t+t+t+f)   # when doing arithmetic operations on booleans, they will be first converted to 1 (True) or 0 (False)\n",
        "print()\n",
        "\n",
        "# we can compare charaters like we compare numbers\n",
        "# when doing character comparison, we're comparing their ASCII code\n",
        "print('A'>'B') # False.\n",
        "print('z'>'a') # True.\n",
        "print('abc'>'abd') # False. # for string, we compare letter by letter. Since 'c'<'d', return False"
      ],
      "metadata": {
        "colab": {
          "base_uri": "https://localhost:8080/"
        },
        "id": "0nCw1A3jAg1a",
        "outputId": "bf659ccd-eff4-402e-f993-2b2884f914b1"
      },
      "execution_count": null,
      "outputs": [
        {
          "output_type": "stream",
          "name": "stdout",
          "text": [
            "False\n",
            "True\n",
            "False\n",
            "True\n",
            "True\n",
            "1 3\n",
            "\n",
            "False\n",
            "True\n",
            "False\n"
          ]
        }
      ]
    },
    {
      "cell_type": "markdown",
      "source": [
        "# String"
      ],
      "metadata": {
        "id": "aifzJNg3-qWj"
      }
    },
    {
      "cell_type": "code",
      "execution_count": null,
      "metadata": {
        "id": "8fTrAqe2AgPa",
        "outputId": "38f391b9-50c3-4b06-8d1f-3c960080b494",
        "colab": {
          "base_uri": "https://localhost:8080/"
        }
      },
      "outputs": [
        {
          "output_type": "stream",
          "name": "stdout",
          "text": [
            "True\n",
            "hello\n",
            "5\n",
            "hello world\n",
            "hello world2239\n",
            "hello world2239\n",
            "h\n"
          ]
        }
      ],
      "source": [
        "# string\n",
        "hello='hello'    # String literals can use single quotes\n",
        "world=\"world\"    # or double quotes; it does not matter\n",
        "print('hello'==\"hello\") # print \"True\"\n",
        "print(hello)       # print \"hello\"\n",
        "print(len(hello))    # len() returns the len of a given object; print \"5\", since it has 5 letters\n",
        "hw=hello+' '+world  # to do string concatenation, use '+'\n",
        "print(hw)        # print \"hello world\"\n",
        "\n",
        "# print(hw+2239) # IMPORTANT: when using '+', we must ensure that the two operands are of the same type. Here, the left operand is string, whereas the right operand is integer, and so this will result in error\n",
        "\n",
        "print(hw+'2239') # we should first convert the intger to string first!\n",
        "print(hw+str(2239)) # alternatively, use str() function to convert the interger to string. This is useful if it is a variable\n",
        "\n",
        "# More about string type\n",
        "s='hello'\n",
        "print(s[0]) # print 'h'; much like in C++, we use [] to access individual elements of an array\n",
        "\n",
        "# string in python is immutable (immutable means unchangeable), that is, we cannot modify the elements of a string\n",
        "# s[0]='x' Error: attempt to change the elements of a string"
      ]
    },
    {
      "cell_type": "code",
      "execution_count": null,
      "metadata": {
        "id": "sz-6dmoeAgPb",
        "outputId": "1061a091-8820-45a9-b82d-e60d4278836a",
        "colab": {
          "base_uri": "https://localhost:8080/"
        }
      },
      "outputs": [
        {
          "output_type": "stream",
          "name": "stdout",
          "text": [
            "Hello\n",
            "HELLO\n",
            "world\n",
            "True\n",
            "False\n"
          ]
        }
      ],
      "source": [
        "# methods for string\n",
        "# in python, string is an object, and so it has many methods for us to use (a method in python is called a member function in C++)\n",
        "s=\"hello\"\n",
        "print(s.capitalize())  # Capitalize a string; print \"Hello\"\n",
        "print(s.upper())       # Convert a string to uppercase; print \"HELLO\"\n",
        "print('  world '.strip())  # Strip leading and trailing whitespace; print \"world\"\n",
        "print(s.isalpha()) # check whether all the characters in s are English alphabets\n",
        "print(\"A_X\".isalpha()) # False"
      ]
    },
    {
      "cell_type": "code",
      "execution_count": null,
      "metadata": {
        "id": "pmDR8h3aAgPi",
        "outputId": "ec9ef7f6-bd10-4cad-ef5a-2a900d63560e",
        "colab": {
          "base_uri": "https://localhost:8080/"
        }
      },
      "outputs": [
        {
          "output_type": "stream",
          "name": "stdout",
          "text": [
            "My favorite number is 100\n",
            "My favorite number is 100\n"
          ]
        }
      ],
      "source": [
        "# f-string\n",
        "# in print(), it may not be too convenient to use '+' all the time to concatenate several non-string pieces. Alternatively, we can use f-string as below:\n",
        "favorite=100\n",
        "# to use f-string, pre-append your string with the letter 'f' (which stands for format)\n",
        "print(f\"My favorite number is {favorite}\" ) # anything enclosed by {} is considered a variable name\n",
        "print(\"My favorite number is \"+str(favorite) ) # this is the same as above, but much less convenient"
      ]
    },
    {
      "cell_type": "markdown",
      "source": [
        "# List"
      ],
      "metadata": {
        "id": "dAzz2Hjt7wGU"
      }
    },
    {
      "cell_type": "code",
      "source": [
        "# list \n",
        "# A list is the Python equivalent of an array in C++, but a python list is resizeable and can contain elements of different types. \n",
        "t=[3, 1, 2]    # Create a list. Do not use l as the name of a list, because it is often confused with 1 and I\n",
        "print(t)     # print \"[3, 1, 2]\"\n",
        "print(t[0],t[1],t[2]) # print \"3 1 2\". Like C++, we use [] to access individual elements of an array.\n",
        "print(t[-1])     # Negative indices count from the end of the list; [-1] means the last element; print \"2\"\n",
        "\n",
        "t[2]='foo'     # lists can contain elements of different types. Now t[2] contains a string type, not an int type \n",
        "print(t)         # print \"[3, 1, 'foo']\"\n",
        "\n",
        "t.append('bar')  # append method adds a new element to the end of the list\n",
        "print(t)         # print \"[3, 1, 'foo', 'bar']\"\n",
        "\n",
        "x=t.pop()      # Remove and return the last element of the list\n",
        "print(x, t)      # print \"bar [3, 1, 'foo']\"\n",
        "\n",
        "t.remove(1)      # remove the element 1 from the list t \n",
        "print(t)         # print [3, 'foo']\n",
        "\n",
        "print(t.index('foo')) # give the index of the element 'foo'\n",
        "\n",
        "t.insert(1, 'abc') # insert 'abc' at index 1\n",
        "print(t)\n",
        "\n",
        "t[0]=10       # change t[0] to 10\n",
        "print(t)        # [10, 'abc', 'foo']\n",
        "\n",
        "del t            # delete the list t.\n",
        "# print(t)       # error, since t has be deleted."
      ],
      "metadata": {
        "colab": {
          "base_uri": "https://localhost:8080/"
        },
        "id": "9hh3GKzF7wvN",
        "outputId": "23cd63dd-e26a-41b3-9a36-b94c1dab5716"
      },
      "execution_count": null,
      "outputs": [
        {
          "output_type": "stream",
          "name": "stdout",
          "text": [
            "[3, 1, 2]\n",
            "3 1 2\n",
            "2\n",
            "[3, 1, 'foo']\n",
            "[3, 1, 'foo', 'bar']\n",
            "bar [3, 1, 'foo']\n",
            "[3, 'foo']\n",
            "1\n",
            "[3, 'abc', 'foo']\n",
            "[10, 'abc', 'foo']\n"
          ]
        }
      ]
    },
    {
      "cell_type": "code",
      "execution_count": null,
      "metadata": {
        "id": "2-W51a5HAgPe",
        "outputId": "46bb97bf-0a36-4a45-913a-42a519aae215",
        "colab": {
          "base_uri": "https://localhost:8080/"
        }
      },
      "outputs": [
        {
          "output_type": "stream",
          "name": "stdout",
          "text": [
            "[0, 1, 2, 3, 4]\n",
            "[2, 3]\n",
            "[2, 3, 4]\n",
            "[0, 1]\n",
            "[1, 3]\n",
            "[0, 3]\n",
            "[0, 1, 2, 3, 4]\n",
            "[0, 1, 8, 9, 4]\n"
          ]
        }
      ],
      "source": [
        "# slicing\n",
        "# in addition to accessing list elements one at a time, Python provides concise syntax to access sublists; this is known as slicing. Note that slicing can also be used on string type. \n",
        "\"\"\"\n",
        "- the three numbers `start`, `end`, `step` in [start:end:step] can each be negative!\n",
        "- IMPORTANT: the last element of a sequence (i.e., list, string) is also given the index `-1`. \n",
        "\"\"\"\n",
        "\n",
        "t=list(range(5))  # range is a built-in function that creates an iterable of integers. range(5) means that the numbers are from [0,5) (i.e., not including 5!). Notice that range(5) itself is not a list. To convert to a list, apply list() on it. \n",
        "print(t)      # print \"[0, 1, 2, 3, 4]\"\n",
        "print(t[2:4])    # get a slice from index 2 to 4(exclusive); print \"[2, 3]\"\n",
        "print(t[2:])    # get a slice from index 2 to the end; print \"[2, 3, 4]\"\n",
        "print(t[:2])    # get a slice from the start to index 2(exclusive); print \"[0, 1]\"\n",
        "print(t[1:5:2])   # it means get elements from index 1 to index 4, but after getting an element, jump 2 indices, but not 1, which is the default value. Print \"[1,3]\"\n",
        "print(t[::3])    # print \"[0, 3]\"\n",
        "print(t[:])     # get a slice of the whole list; print \"[0, 1, 2, 3, 4]\"\n",
        "t[2:4]=[8,9]    # assign a new sublist to a slice\n",
        "print(t)      # print \"[0, 1, 8, 9, 4]\""
      ]
    },
    {
      "cell_type": "code",
      "execution_count": null,
      "metadata": {
        "id": "FuJ4TB7uAgPf",
        "outputId": "82e027fe-d75b-4bd7-8eb3-c0a500e9eaba",
        "colab": {
          "base_uri": "https://localhost:8080/"
        }
      },
      "outputs": [
        {
          "output_type": "stream",
          "name": "stdout",
          "text": [
            "987\n",
            "01234567\n",
            "789\n",
            "76543210\n",
            "642\n",
            "\n",
            "9876543210\n",
            "9876543210\n"
          ]
        }
      ],
      "source": [
        "# more slicing example\n",
        "s=\"0123456789\"\n",
        "print(s[-1:-4:-1]) # 987\n",
        "print(s[:-2])    # 01234567\n",
        "print(s[-3:])    # 789\n",
        "print(s[-3::-1])  # 76543210\n",
        "print(s[6:1:-2])  # 642\n",
        "print(s[6:1:2])   # print nothing\n",
        "print(s[::-1])   # same as s[-1:-len(s)-1:-1] # 9876543210\n",
        "print(s[-1:-len(s)-1:-1]) # 9876543210"
      ]
    },
    {
      "cell_type": "code",
      "execution_count": null,
      "metadata": {
        "id": "vAGEiaj7AgPi",
        "outputId": "6f79ac11-045d-4834-a181-55ab4d535720",
        "colab": {
          "base_uri": "https://localhost:8080/"
        }
      },
      "outputs": [
        {
          "output_type": "stream",
          "name": "stdout",
          "text": [
            "True\n",
            "False\n",
            "False\n",
            "True\n"
          ]
        }
      ],
      "source": [
        "# comparison operators\n",
        "t=[1,2,3,4]\n",
        "print(1 in t)    # True. check if 1 is an element of t. \n",
        "print('1' in t)   # False. since '1' is a string, not an integer.\n",
        "print([1,2,3] in t) # False. although [1,2,3] is a subset of [1,2,3,4], it is not an element of [1,2,3,4]\n",
        "print([1,2,3,4]==t)  # True. "
      ]
    },
    {
      "cell_type": "code",
      "execution_count": null,
      "metadata": {
        "id": "ilX2JnwiAgPd",
        "outputId": "49be74fb-71d2-4cfc-c242-1c1d98a4ef59",
        "colab": {
          "base_uri": "https://localhost:8080/"
        }
      },
      "outputs": [
        {
          "output_type": "stream",
          "name": "stdout",
          "text": [
            "[-1, 2, 3] [-1, 2, 3]\n",
            "139823700580864\n",
            "139823700580864\n",
            "\n",
            "[1, 2, 3] [-1, 2, 3]\n",
            "139823700814256\n",
            "139823700580944\n",
            "\n"
          ]
        }
      ],
      "source": [
        "# assignment operator vs deep copy\n",
        "t1=[1,2,3] # t1 points to the list [1,2,3]\n",
        "t2=t1    # t2 also points to the same list [1,2,3]. So, now, both t1 and t2 point to the same list [1,2,3]\n",
        "\n",
        "t2[0]=-1  # this will also affect t1, since both t1 and t2 point to the same [1,2,3]\n",
        "print(t1, t2)\n",
        "\n",
        "# to check whether two variables point to the same object, we can check their id. If id is the same, then they are\n",
        "print(id(t1))\n",
        "print(id(t2))\n",
        "print()\n",
        "\n",
        "\n",
        "t1=[1,2,3]\n",
        "t2=t1.copy() # t2 points to a different [1,2,3] than the one t1 points to\n",
        "t2[0]=-1 # this will NOT affect t1, since both t1 and t2 point to the same [1,2,3]\n",
        "print(t1, t2)\n",
        "print(id(t1))\n",
        "print(id(t2))\n",
        "print()"
      ]
    },
    {
      "cell_type": "markdown",
      "source": [
        "# Tuple"
      ],
      "metadata": {
        "id": "-6bEetOUxHLs"
      }
    },
    {
      "cell_type": "code",
      "execution_count": null,
      "metadata": {
        "id": "0pRDN4J5AgPi",
        "outputId": "c2e2e0a3-da68-49c5-d8d1-74c045a9899a",
        "colab": {
          "base_uri": "https://localhost:8080/"
        }
      },
      "outputs": [
        {
          "output_type": "stream",
          "name": "stdout",
          "text": [
            "(1, 2, 3) <class 'tuple'>\n",
            "(1, 2, 3) <class 'tuple'>\n",
            "(1,) <class 'tuple'>\n",
            "1 <class 'int'>\n"
          ]
        }
      ],
      "source": [
        "# tuple \n",
        "# tuple is an (immutable) ordered list of values. A tuple is in many ways similar to a list; The most important difference between tuple and list is that tuple's elements cannot be modified after it's declared. By extension, we cannot add new elements to an existing tuple. That is, once a tuple is created, it cannot be modified in any way. In fact, recall that we've already seen another immutable type of data structure: string. Therefore, tuple and string are similar in that both are immutable. \n",
        "\n",
        "t=(1,2,3) # t is a tuple. We use () to represent tuples\n",
        "print(t, type(t)) # (1, 2, 3) <class 'tuple'>\n",
        "t=1,2,3 # in fact, the parentheses () above is optional. That is, we can define t without the ()\n",
        "print(t, type(t)) # (1, 2, 3) <class 'tuple'>\n",
        "\n",
        "singleton=(1,) # one exception where () must be used is when the tuple contains one element only. In this case, not only is the () necessary, we also need to add a ',' to indicate that it is not an integer. Without the comma, python will mistook it for an integer, because (1)==1, for example.\n",
        "print(singleton, type(singleton)) # (1,) <class 'tuple'>\n",
        "\n",
        "wrong_singleton=(1) # this is just an integer, since it lacks a comma\n",
        "print(wrong_singleton, type(wrong_singleton)) # 1 <class 'int'>\n",
        "# Although parentheses () is optional, including it is highly recommended. There are still other cases where () is necessary so as to avoid the issue of operator precedence."
      ]
    },
    {
      "cell_type": "code",
      "execution_count": null,
      "metadata": {
        "id": "XRT50CIwAgPj",
        "outputId": "95024d61-ef8e-402c-d672-0f77836cf3ce",
        "colab": {
          "base_uri": "https://localhost:8080/"
        }
      },
      "outputs": [
        {
          "output_type": "stream",
          "name": "stdout",
          "text": [
            "[10, 2, 20]\n"
          ]
        },
        {
          "output_type": "execute_result",
          "data": {
            "text/plain": [
              "(10, 2, 20)"
            ]
          },
          "metadata": {},
          "execution_count": 51
        }
      ],
      "source": [
        "# tuple vs list\n",
        "tup=(1,2)\n",
        "t=[1,2]\n",
        "# tup[0]=10 # error. attempt to modify the elements of a tuple\n",
        "t[0]=10 # ok. we can modify the elements of a list\n",
        "# tup.append(20) # error. we cannot add new elements to a tuple\n",
        "t.append(20) # ok. we can also add new elements to a list\n",
        "print(t) # [10, 2, 20]\n",
        "\n",
        "# we can convert a tuple to a list and vice versa, by using their constructors (i.e., list())\n",
        "list(tup) # convert a tuple to a list\n",
        "tuple(t) # convert a list to a tuple"
      ]
    },
    {
      "cell_type": "markdown",
      "source": [
        "# Miscellaneous about Tuple"
      ],
      "metadata": {
        "id": "IeeZ7SkGCdco"
      }
    },
    {
      "cell_type": "code",
      "execution_count": null,
      "metadata": {
        "id": "n5xq743HAgPg",
        "outputId": "94bb99cf-5813-455f-f1f1-0270106e6e75",
        "colab": {
          "base_uri": "https://localhost:8080/"
        }
      },
      "outputs": [
        {
          "output_type": "stream",
          "name": "stdout",
          "text": [
            "1 2\n",
            "2 1\n"
          ]
        }
      ],
      "source": [
        "# swapping the contents of two variables\n",
        "# it's very easy in python to swap the contents of two variables\n",
        "a,b=1,2\n",
        "print(a,b) # 1 2\n",
        "\n",
        "a,b=b, a # swapping the content of the two variables\n",
        "print(a,b) # 2 1"
      ]
    },
    {
      "cell_type": "code",
      "execution_count": null,
      "metadata": {
        "id": "W1Gju7fSAgPg",
        "outputId": "d0c0f7c1-dd64-45d0-eda7-36973e45b196",
        "colab": {
          "base_uri": "https://localhost:8080/"
        }
      },
      "outputs": [
        {
          "output_type": "stream",
          "name": "stdout",
          "text": [
            "1 Hello [1, 2, 3] True\n"
          ]
        }
      ],
      "source": [
        "# create multiple variaables in one line\n",
        "a,b,c,d=1,'Hello',[1,2,3],True # Create and initialize 4 variables at the same time. The syntax is different from that of C++, but we'll see why Python uses this different syntax when we learn the data structure called tuple later. \n",
        "print(a,b,c,d) # print \"1 Hello [1, 2, 3] True\""
      ]
    },
    {
      "cell_type": "code",
      "execution_count": null,
      "metadata": {
        "id": "hk944H6CAgPj",
        "outputId": "3c01ad8c-b674-4d00-a523-a69984b60e11",
        "colab": {
          "base_uri": "https://localhost:8080/"
        }
      },
      "outputs": [
        {
          "output_type": "stream",
          "name": "stdout",
          "text": [
            "1 2 3\n",
            "1 2 3\n",
            "1 2 3\n"
          ]
        }
      ],
      "source": [
        "# when we previously initialized several variables at once, the right hand side was actually a tuple (without the parentheses \"()\" ), like so:\n",
        "a,b,c=1,2,3 # 1,2,3 is a tuple\n",
        "print(a,b,c)\n",
        "a,b,c=(1,2,3) # we can of course add parenthese, and the result is the same as before.\n",
        "print(a,b,c)\n",
        "a,b,c=[1,2,3]  # in fact, the right hand side can also be list, and the result is the same.\n",
        "print(a,b,c)\n",
        "# When we initialize several variables at once by a tuple/list, what we're doing is called \"UNPACK the tuple/list\""
      ]
    },
    {
      "cell_type": "markdown",
      "source": [
        "# Set"
      ],
      "metadata": {
        "id": "5xHWJJjx7uIK"
      }
    },
    {
      "cell_type": "code",
      "source": [
        "# set\n",
        "s1={3,4,5}\n",
        "print(3 in s1)\n",
        "print(10 in s1)\n",
        "print(10 not in s1)\n",
        "print()\n",
        "\n",
        "s2={4,5,6,7}\n",
        "s3=s1&s2 # intersection, print \"{4, 5}\"\n",
        "print(s3)\n",
        "s3=s1|s2 # union, print \"{3, 4, 5, 6, 7}\"\n",
        "print(s3)\n",
        "s3=s1-s2 # difference s1-s2, print \"{3}\"\n",
        "print(s3)\n",
        "s3=s1^s2 # union-Intersection, print \"{3, 6, 7}\"\n",
        "print(s3)\n",
        "print()\n",
        "\n",
        "s=set(\"Hello\")\n",
        "print(s)\n",
        "print(\"H\" in s)\n",
        "print(\"A\" in s)"
      ],
      "metadata": {
        "colab": {
          "base_uri": "https://localhost:8080/"
        },
        "id": "cacRQsAC7xOb",
        "outputId": "55c0fb5a-71c6-4eee-b5f9-8d56db7ac020"
      },
      "execution_count": null,
      "outputs": [
        {
          "output_type": "stream",
          "name": "stdout",
          "text": [
            "True\n",
            "False\n",
            "True\n",
            "\n",
            "{4, 5}\n",
            "{3, 4, 5, 6, 7}\n",
            "{3}\n",
            "{3, 6, 7}\n",
            "\n",
            "{'H', 'e', 'o', 'l'}\n",
            "True\n",
            "False\n"
          ]
        }
      ]
    },
    {
      "cell_type": "markdown",
      "source": [
        "# Dictionary"
      ],
      "metadata": {
        "id": "leG_vKGSBsFg"
      }
    },
    {
      "cell_type": "code",
      "source": [
        "# dictionary\n",
        "# key-value pair\n",
        "dic={\"apple\":\"蘋果\",\"bug\":\"蟲蟲\"}\n",
        "print(dic[\"apple\"])\n",
        "dic[\"apple\"]=\"小蘋果\"\n",
        "print(dic[\"apple\"])\n",
        "print()\n",
        "\n",
        "dic={\"apple\":\"蘋果\",\"bug\":\"蟲蟲\"}\n",
        "print(\"apple\" in dic)\n",
        "print(\"蘋果\" in dic)\n",
        "print(\"test\" in dic)\n",
        "print()\n",
        "\n",
        "del dic[\"apple\"] # # delete the key-value pair \"apple\":\"蘋果\"\n",
        "print(dic)\n",
        "dic={x:x*2 for x in [3,4,5]} # form dictionary from list\n",
        "print(dic)"
      ],
      "metadata": {
        "colab": {
          "base_uri": "https://localhost:8080/"
        },
        "id": "U7vmc1LJ8y9B",
        "outputId": "e4f380a9-8ff4-4463-bfcf-271d5051dad0"
      },
      "execution_count": null,
      "outputs": [
        {
          "output_type": "stream",
          "name": "stdout",
          "text": [
            "蘋果\n",
            "小蘋果\n",
            "\n",
            "True\n",
            "False\n",
            "False\n",
            "\n",
            "{'bug': '蟲蟲'}\n",
            "{3: 6, 4: 8, 5: 10}\n"
          ]
        }
      ]
    }
  ]
}