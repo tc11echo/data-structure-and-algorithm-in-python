{
  "nbformat": 4,
  "nbformat_minor": 0,
  "metadata": {
    "colab": {
      "name": "searching.ipynb",
      "provenance": [],
      "collapsed_sections": [],
      "authorship_tag": "ABX9TyMknJqhtUD2fvxpc5dWCQU8",
      "include_colab_link": true
    },
    "kernelspec": {
      "name": "python3",
      "display_name": "Python 3"
    },
    "language_info": {
      "name": "python"
    }
  },
  "cells": [
    {
      "cell_type": "markdown",
      "metadata": {
        "id": "view-in-github",
        "colab_type": "text"
      },
      "source": [
        "<a href=\"https://colab.research.google.com/github/tc11echo/data-structure-and-algorithm-in-python/blob/main/searching.ipynb\" target=\"_parent\"><img src=\"https://colab.research.google.com/assets/colab-badge.svg\" alt=\"Open In Colab\"/></a>"
      ]
    },
    {
      "cell_type": "markdown",
      "source": [
        "# Searching"
      ],
      "metadata": {
        "id": "5aw8_DFcylE8"
      }
    },
    {
      "cell_type": "markdown",
      "source": [
        "---\n",
        "\n",
        "# Linear Search / Sequential Search\n",
        "\n",
        "### Description\n",
        "* Work by sequentially checking each element of the list until a match is found or the whole list has been searched\n",
        "* Sorted / Unsorted data\n",
        "* Simple\n",
        "* Brute Force\n",
        "\n",
        "<br/>\n",
        "\n",
        "|Best Time Complexity|Average Time Complexity|Worst Time Complexity|Worst Space Complexity|\n",
        "|:---:|:---:|:---:|:---:|\n",
        "|O(1)|O(n/2)|O(n)|O(1)|\n",
        "\n",
        "<br/>"
      ],
      "metadata": {
        "id": "hfxSNujTyraE"
      }
    },
    {
      "cell_type": "code",
      "execution_count": null,
      "metadata": {
        "colab": {
          "base_uri": "https://localhost:8080/"
        },
        "id": "Oy06pSFQxkhB",
        "outputId": "4633c53f-0e6a-4843-aa16-faed4c737251"
      },
      "outputs": [
        {
          "output_type": "stream",
          "name": "stdout",
          "text": [
            "found! index:1\n"
          ]
        }
      ],
      "source": [
        "def linear_search(arr, target):\n",
        "  for i in range(len(arr)):\n",
        "    if arr[i] == target:\n",
        "      return i\n",
        "  return -1\n",
        "    \n",
        "arr=[1,2,3,4,5,6,7,8]\n",
        "index=linear_search(arr, 2)\n",
        "if index >= 0:\n",
        "  print(\"found! index:\"+str(index))\n",
        "else:\n",
        "  print(\"can't find\")"
      ]
    },
    {
      "cell_type": "markdown",
      "source": [
        "---\n",
        "\n",
        "# Binary Search\n",
        "\n",
        "### Description\n",
        "* Work by comparing the target value to the middle element of the array. If they are not equal, the half in which the target cannot lie is eliminated and the search continues on the remaining half, again taking the middle element to compare to the target value, and repeating this until the target value is found. If the search ends with the remaining half being empty, the target is not in the array.\n",
        "* Sorted data\n",
        "* Divide and Conquer\n",
        "\n",
        "<br/>\n",
        "\n",
        "|Best Time Complexity|Average Time Complexity|Worst Time Complexity|Worst Space Complexity|\n",
        "|:---:|:---:|:---:|:---:|\n",
        "|O(1)|O(logn)|O(logn)|O(1)|\n",
        "\n",
        "<br/>"
      ],
      "metadata": {
        "id": "2Mwo7GAW0t_-"
      }
    },
    {
      "cell_type": "code",
      "source": [
        "def binary_search(arr, target):\n",
        "  upper=len(arr)-1\n",
        "  low=0\n",
        "  while low<=upper:\n",
        "    mid=(low+upper)//2\n",
        "    if arr[mid]<target:\n",
        "      low=mid+1\n",
        "    elif arr[mid]>target:\n",
        "      upper=mid-1\n",
        "    else:\n",
        "      return mid\n",
        "  return -1\n",
        "\n",
        "arr=[1,3,4,6,7,8,32,40]\n",
        "index=binary_search(arr, 8)\n",
        "print(\"found! index:\"+str(index) if index>=0 else \"can't find\")"
      ],
      "metadata": {
        "colab": {
          "base_uri": "https://localhost:8080/"
        },
        "id": "F_aRUWn9z3qa",
        "outputId": "9c078a85-0f7c-4611-daf5-a1bb42595677"
      },
      "execution_count": null,
      "outputs": [
        {
          "output_type": "stream",
          "name": "stdout",
          "text": [
            "found! index:5\n"
          ]
        }
      ]
    },
    {
      "cell_type": "markdown",
      "source": [
        "---\n",
        "# Interpolation Search\n",
        "\n",
        "### Description\n",
        "* Work by using interpolation formula\n",
        "* Sorted data\n",
        "\n",
        "Formula 1:\n",
        "\n",
        "$$\n",
        "\\frac{data[mid]-data[low]}{data[upper]-data[low]}=\\frac{mid-low}{upper-low}\n",
        "$$\n",
        "\n",
        "Formula 2:\n",
        "\n",
        "$$\n",
        "mid=(upper-low)* \\frac{data[mid]-data[low]}{data[upper]-data[low]} + low\n",
        "$$\n",
        "\n",
        "<br/>\n",
        "\n",
        "![20111557F001itiPZ8.jpg](data:image/jpeg;base64,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)\n",
        "\n",
        "\n",
        "<br/>\n",
        "\n",
        "|Best Time Complexity|Average Time Complexity|Worst Time Complexity|Worst Space Complexity|\n",
        "|:---:|:---:|:---:|:---:|\n",
        "|O(1)|O(loglogn)|O(n)|O(1)|\n",
        "\n",
        "<br/>"
      ],
      "metadata": {
        "id": "tkI3mLDX4z_e"
      }
    },
    {
      "cell_type": "code",
      "source": [
        "def interpolation_search(arr, target):\n",
        "  upper=len(arr)-1\n",
        "  low=0\n",
        "  while low <= upper:\n",
        "    mid=int((upper-low)*(target-arr[low])/(arr[upper]-arr[low])+low)\n",
        "    if mid<low or mid>upper:\n",
        "      break\n",
        "    if target<arr[mid]:\n",
        "      upper=mid-1\n",
        "    elif target>arr[mid]:\n",
        "      low=mid+1\n",
        "    else:\n",
        "      return mid\n",
        "  return -1\n",
        "\n",
        "arr=[1,3,4,6,7,8,32,40]\n",
        "index=interpolation_search(arr, 6)\n",
        "print(\"found! index:\"+str(index) if index>=0 else \"can't find\")"
      ],
      "metadata": {
        "colab": {
          "base_uri": "https://localhost:8080/"
        },
        "id": "JOf7TW3i49ux",
        "outputId": "b6ad52c6-08b7-43a6-98d1-340e480b15a7"
      },
      "execution_count": null,
      "outputs": [
        {
          "output_type": "stream",
          "name": "stdout",
          "text": [
            "found! index:3\n"
          ]
        }
      ]
    },
    {
      "cell_type": "markdown",
      "source": [
        "---\n",
        "\n",
        "# Fibonacci Search\n",
        "\n",
        "### Description\n",
        "* Work by using fibonacci sequence\n",
        "* Sorted data\n",
        "\n",
        "Fibonacci Sequence:\n",
        "$$\n",
        "\\begin{split}F_0&=0\n",
        "\\\\ F_1&=1\n",
        "\\\\ F_n &= F_{n-1}+F{n-2},\\ where(n \\geq 2)\n",
        "\\end{split}\n",
        "$$\n",
        "\n",
        "Fibonacci Sequence Value: $0,1,1,2,3,5,8,13,21,34,55,89,144,...$\n",
        "\n",
        "<br/>\n",
        "\n",
        "|Best Time Complexity|Average Time Complexity|Worst Time Complexity|Worst Space Complexity|\n",
        "|:---:|:---:|:---:|:---:|\n",
        "|O(1)|O(logn)|O(logn)|O(1)|\n",
        "\n",
        "<br/>"
      ],
      "metadata": {
        "id": "IUwnfqQSCg1Q"
      }
    },
    {
      "cell_type": "code",
      "source": [
        "def get_fibonacci(max):\n",
        "  fib=[None]*max\n",
        "  fib[0], fib[1]=0, 1\n",
        "  for i in range(2, max):\n",
        "    fib[i]=fib[i-1]+fib[i-2]\n",
        "  return fib\n",
        "\n",
        "def find_y(fib, n):\n",
        "  i=0\n",
        "  while fib[i]<=n:\n",
        "    i+=1\n",
        "  return i-1\n",
        "\n",
        "def fibonacci_search(arr, target):\n",
        "  fib=get_fibonacci(len(arr))\n",
        "  length=len(arr)\n",
        "  y=find_y(fib, length) # return the index of number in fibonacci sequence, which is equal or just smaaler than the length of data list\n",
        "  m=length-1-fib[y] # max=length-1\n",
        "  x=y-1 # find the starting search point of arr\n",
        "  #print(f\"x={x}, m={m}, fib[x]={fib[x]}\")\n",
        "  i=x\n",
        "  if arr[i]<target:\n",
        "    i+=m\n",
        "  #print(f\"x={x}, i={i}\")\n",
        "  while fib[x]>0:\n",
        "    #print(f\"x={x}, i={i}\")\n",
        "    if arr[i]<target:\n",
        "      x-=1\n",
        "      i+=fib[x]\n",
        "    elif arr[i]>target:\n",
        "      x-=1\n",
        "      i-=fib[x]\n",
        "    else:\n",
        "      return i\n",
        "  return -1\n",
        "\n",
        "#arr=[10,22,30,44,56,58,60,110,130]\n",
        "arr=[0,1,2,3,4,5,6,7,8]\n",
        "index=fibonacci_search(arr, 4)\n",
        "print(\"found! index:\"+str(index) if index>=0 else \"can't find\")"
      ],
      "metadata": {
        "id": "pUaWiTDpChIt",
        "outputId": "f6badebc-ea12-4b90-f22c-c19d842700fa",
        "colab": {
          "base_uri": "https://localhost:8080/"
        }
      },
      "execution_count": null,
      "outputs": [
        {
          "output_type": "stream",
          "name": "stdout",
          "text": [
            "found! index:4\n"
          ]
        }
      ]
    },
    {
      "cell_type": "markdown",
      "source": [
        "---\n",
        "\n",
        "# Exponential Search / Doubling Search / Galloping Search / Struzik Search\n",
        "\n",
        "### Description\n",
        "* Work by deciding the search range with exponential spacing, then apply binary search\n",
        "* Sorted data which is unbounded (unknown size)\n",
        "\n",
        "<br/>\n",
        "\n",
        "![exponential_search.png](data:image/png;base64,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)\n",
        "\n",
        "<br/>\n",
        "\n",
        "|Best Time Complexity|Average Time Complexity|Worst Time Complexity|Worst Space Complexity|\n",
        "|:---:|:---:|:---:|:---:|\n",
        "|O(1)|O(logi)|O(logi)|O(1)|\n",
        "\n",
        "where $i$ is the index of the element being searched for in the list\n",
        "\n",
        "<br/>"
      ],
      "metadata": {
        "id": "hQ5jBM9eOsX6"
      }
    },
    {
      "cell_type": "code",
      "source": [
        "def binary_search(arr, target):\n",
        "  upper=len(arr)-1\n",
        "  low=0\n",
        "  while low<=upper:\n",
        "    mid=(low+upper)//2\n",
        "    if arr[mid]<target:\n",
        "      low=mid+1\n",
        "    elif arr[mid]>target:\n",
        "      upper=mid-1\n",
        "    else:\n",
        "      return mid\n",
        "  return -1\n",
        "\n",
        "def exponential_search(arr, target):\n",
        "  # if target is present at first location\n",
        "  if arr[0]==target:\n",
        "    return 0\n",
        "  # find range for binary search i by repeated doubling\n",
        "  i=1\n",
        "  while i<len(arr) and arr[i]<=target:\n",
        "    i=i*2\n",
        "  return binary_search(arr[:i], target)\n",
        "\n",
        "arr=[2,3,4,10,40]\n",
        "index=exponential_search(arr, 2)\n",
        "print(\"found! index:\"+str(index) if index>=0 else \"can't find\")"
      ],
      "metadata": {
        "id": "bZ-62FGyOss8",
        "outputId": "41433894-d336-4b07-dc1f-a9b457e1e836",
        "colab": {
          "base_uri": "https://localhost:8080/"
        }
      },
      "execution_count": null,
      "outputs": [
        {
          "output_type": "stream",
          "name": "stdout",
          "text": [
            "found! index:0\n"
          ]
        }
      ]
    }
  ]
}