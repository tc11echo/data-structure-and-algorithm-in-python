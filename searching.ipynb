{
  "nbformat": 4,
  "nbformat_minor": 0,
  "metadata": {
    "colab": {
      "name": "searching.ipynb",
      "provenance": [],
      "collapsed_sections": [],
      "authorship_tag": "ABX9TyMcic3AD5Jq97lXe9pOtQnA",
      "include_colab_link": true
    },
    "kernelspec": {
      "name": "python3",
      "display_name": "Python 3"
    },
    "language_info": {
      "name": "python"
    }
  },
  "cells": [
    {
      "cell_type": "markdown",
      "metadata": {
        "id": "view-in-github",
        "colab_type": "text"
      },
      "source": [
        "<a href=\"https://colab.research.google.com/github/tc11echo/data-structure-and-algorithm-in-python/blob/main/searching.ipynb\" target=\"_parent\"><img src=\"https://colab.research.google.com/assets/colab-badge.svg\" alt=\"Open In Colab\"/></a>"
      ]
    },
    {
      "cell_type": "markdown",
      "source": [
        "# Searching"
      ],
      "metadata": {
        "id": "5aw8_DFcylE8"
      }
    },
    {
      "cell_type": "markdown",
      "source": [
        "---\n",
        "\n",
        "# Linear Search / Sequential Search\n",
        "\n",
        "### Description\n",
        "* Work by sequentially checking each element of the list until a match is found or the whole list has been searched\n",
        "* Sorted / Unsorted data\n",
        "* Simple\n",
        "<br/>\n",
        "\n",
        "|Best Time Complexity|Average Time Complexity|Worst Time Complexity|Worst Space Complexity|\n",
        "|:---:|:---:|:---:|:---:|\n",
        "|O(1)|O(n/2)|O(n)|O(1)|\n",
        "\n",
        "<br/>"
      ],
      "metadata": {
        "id": "hfxSNujTyraE"
      }
    },
    {
      "cell_type": "code",
      "execution_count": 10,
      "metadata": {
        "colab": {
          "base_uri": "https://localhost:8080/"
        },
        "id": "Oy06pSFQxkhB",
        "outputId": "223f22d5-7c62-4bdf-9ca0-334cd8484147"
      },
      "outputs": [
        {
          "output_type": "stream",
          "name": "stdout",
          "text": [
            "found! index:1\n"
          ]
        }
      ],
      "source": [
        "def linear_search(arr, key):\n",
        "  for i in range(len(arr)):\n",
        "    if arr[i] == key:\n",
        "      return i\n",
        "  return -1\n",
        "    \n",
        "arr=[1,2,3,4,5,6,7,8]\n",
        "index=linear_search(arr, 2)\n",
        "if index >= 0:\n",
        "  print(\"found! index:\"+str(index))\n",
        "else:\n",
        "  print(\"can't find\")"
      ]
    },
    {
      "cell_type": "markdown",
      "source": [
        "---\n",
        "\n",
        "# Binary Search\n",
        "\n",
        "### Description\n",
        "* Work by comparing the target value to the middle element of the array. If they are not equal, the half in which the target cannot lie is eliminated and the search continues on the remaining half, again taking the middle element to compare to the target value, and repeating this until the target value is found. If the search ends with the remaining half being empty, the target is not in the array.\n",
        "* Sorted data\n",
        "\n",
        "<br/>\n",
        "\n",
        "|Best Time Complexity|Average Time Complexity|Worst Time Complexity|Worst Space Complexity|\n",
        "|:---:|:---:|:---:|:---:|\n",
        "|O(1)|O(logn)|O(logn)|O(1)|\n",
        "\n",
        "<br/>"
      ],
      "metadata": {
        "id": "2Mwo7GAW0t_-"
      }
    },
    {
      "cell_type": "code",
      "source": [
        "def binary_search(arr, key):\n",
        "  upper=len(arr)-1\n",
        "  low=0\n",
        "  while low<=upper:\n",
        "    mid=(low+upper)//2\n",
        "    if arr[mid]<key:\n",
        "      low=mid+1\n",
        "    elif arr[mid]>key:\n",
        "      upper=mid-1\n",
        "    else:\n",
        "      return mid\n",
        "  return -1\n",
        "\n",
        "arr=[1,3,4,6,7,8,32,40]\n",
        "index=binary_search(arr, 8)\n",
        "print(\"found! index:\"+str(index) if index>=0 else \"can't find\")"
      ],
      "metadata": {
        "colab": {
          "base_uri": "https://localhost:8080/"
        },
        "id": "F_aRUWn9z3qa",
        "outputId": "d1f162de-4ccc-4366-b995-035f8b285330"
      },
      "execution_count": 11,
      "outputs": [
        {
          "output_type": "stream",
          "name": "stdout",
          "text": [
            "found! index:5\n"
          ]
        }
      ]
    },
    {
      "cell_type": "markdown",
      "source": [
        "---\n",
        "# Interpolation Search\n",
        "\n",
        "### Description\n",
        "* Work by using interpolation formula\n",
        "* Sorted data\n",
        "\n",
        "formula 1:\n",
        "\n",
        "$$\n",
        "\\frac{data[mid]-data[low]}{data[upper]-data[low]}=\\frac{mid-low}{upper-low}\n",
        "$$\n",
        "\n",
        "formula 2:\n",
        "\n",
        "$$\n",
        "mid=(upper-low)* \\frac{data[mid]-data[low]}{data[upper]-data[low]} + low\n",
        "$$\n",
        "\n",
        "<br/>\n",
        "\n",
        "![20111557F001itiPZ8.jpg](data:image/jpeg;base64,/9j/4AAQSkZJRgABAQEAYABgAAD/2wBDAAMCAgMCAgMDAwMEAwMEBQgFBQQEBQoHBwYIDAoMDAsKCwsNDhIQDQ4RDgsLEBYQERMUFRUVDA8XGBYUGBIUFRT/2wBDAQMEBAUEBQkFBQkUDQsNFBQUFBQUFBQUFBQUFBQUFBQUFBQUFBQUFBQUFBQUFBQUFBQUFBQUFBQUFBQUFBQUFBT/wAARCAEEAcIDASIAAhEBAxEB/8QAHwAAAQUBAQEBAQEAAAAAAAAAAAECAwQFBgcICQoL/8QAtRAAAgEDAwIEAwUFBAQAAAF9AQIDAAQRBRIhMUEGE1FhByJxFDKBkaEII0KxwRVS0fAkM2JyggkKFhcYGRolJicoKSo0NTY3ODk6Q0RFRkdISUpTVFVWV1hZWmNkZWZnaGlqc3R1dnd4eXqDhIWGh4iJipKTlJWWl5iZmqKjpKWmp6ipqrKztLW2t7i5usLDxMXGx8jJytLT1NXW19jZ2uHi4+Tl5ufo6erx8vP09fb3+Pn6/8QAHwEAAwEBAQEBAQEBAQAAAAAAAAECAwQFBgcICQoL/8QAtREAAgECBAQDBAcFBAQAAQJ3AAECAxEEBSExBhJBUQdhcRMiMoEIFEKRobHBCSMzUvAVYnLRChYkNOEl8RcYGRomJygpKjU2Nzg5OkNERUZHSElKU1RVVldYWVpjZGVmZ2hpanN0dXZ3eHl6goOEhYaHiImKkpOUlZaXmJmaoqOkpaanqKmqsrO0tba3uLm6wsPExcbHyMnK0tPU1dbX2Nna4uPk5ebn6Onq8vP09fb3+Pn6/9oADAMBAAIRAxEAPwD9U6KKKACiiigAprSKrKGYAscKCep9qbM2yMt2HNfFF38WPF/i6b4LeOdd1zRbbw9q/iS6uI9Iitnim0+OG1vAoeXzD5pwnzgoMHGOmCAfbdNb7vFfCet/tEfEnxRoPifR/wC1YbRdW8F6hr+nasPD72axCAx58gNcmR0eOXiR1Qg4bBHy11/jr41+PvAXgnR7DSfEFprWvab4XXW9Re38OvctJkM0JmLXKJDEVQqWDs7FSQB0oA+mNN+I3hnWPFWo+GbDxDp134h05d93pcNwrXEA+Xl0Byo+dOv94etdKv3a+NNP8cHXf2f/AIreLhZx+ZqWs6ff/ZXdwq+dBp7FcoytwHPQjpXQap8bPibpmt63rwvtDk8KaT47t/Cv9jjTn+0z200sERlM/m4WRWmyAEwQvPXgA+q2kVWUMwBY4UE9TjPFOr4i1D4ueNPEF58FfHeq6npN3pGratqN/BoFjbNFc2oh069KRGTzD5xwMOCgw3SrngH9pT4qeKLPTL28Gn6fZ+INButXt73UdJFtaaVJGiyxjzPtLNcQspKM21GBIPHQAH1d45+Inhn4a6XHqfirX9P8OadJJ5K3WpXCwRl8Ftu5iBnCsfoDXQxuJI1ZTuDDII718h/8Lk1f47fsl/F3xPqcNnpUA0q8tINDjDfabMpb/MZy2Dly29BgfIUOTmvrXTf+Qfa/9cl/kKALNFFFABRRRQAUUUUAFFFFABRRRQAUUUUAFFFFABRRRQAUUUUAFFFFABRRRQAUUUUAFFFFABRRRQAUUUUAFFFFABRRRQAUUUUAFFFFABRRRQAUUUUAFFFFABRRRQAUUUUANZdwxXnkH7Pfw6t/EZ16PwfpQ1X7Q919o8jOJXDK7hTwCwZt2BzuOc16LRQB534b/Z6+HPhC4ln0fwdpVjNLbS2bssG4mCTG+L5s/uztX5OnA4qG8/Zv+GeoW+n29x4L0qaCwtzaW8bRZVISxfy8Z5XcxIByBnivSqKAPLdA/Z28NeHbzX1hnvrnw/rPlmbwxdGJ9NiaNYVjaNBGHUqsCAAuR146Y62b4c+G5oLmF9Gs2huNRj1aaMx/K94jq6Tkf3w0aHPqorpa+RP25f29rX9kPXPBejWmkQ+INV1eT7Xf2srlPs+nq2wyKwP32YOF4I/dvnGACAe96f8AAL4faX4qTxJaeEtMg1tLiS6ju1h+aOWRWWR0HRSwd84AzuOaq2f7OHw10/8AtL7P4O0uMaivl3K+USrp5iyFAucKpdVYqoAJHSut8F+NNI+IXhTSPEmgXqajourWyXdpdICBJG4yDg8g47HkVu0AeZ/Eb4BeHviJpOs2P2i+8NtrcSW+q3egmKGa+gWNkWGUvG4KhX7ANwOcDFekW8It4I4lOQihQT7VJRQAUUUUAFFFFABRRRQAUUUUAFFFFABRRRQAUUUUAFFFFABRRRQAUUUUAFFFFABRRRQAUUUUAFFFFABRRRQAUUUUAFFFFABRRRQAUUUUAFFFFABRRRQAUUUUAFFFFABRRRQAUUUUAFFFFAGR4s8U6T4J8O6hr2u6jBpOj6fC091eXL7Y4kA5JP6Y6kkAc1+Wfw18L3f7QH7QHgT47+M7OV9P8feL7zQ9H0a/gARdGj0u8H7xSWD+Z8oxggBDhmDcfoP+1N8BZP2lfg3qngKPxHN4WW/lhkkv4IPPO1HDFCm9NwbGD8351558XvB2k/D3x1+yx4a0K0Wx0fSvE01pa26fwxppN2Bk9ycZJPJJJPJoA8a/ZN1bVf2Nf2idY/Zx8W3+/wAF63I+reB9WulZFlZyN1oru5APbYP+Wisf+Woz+gdeS/Hv9mfwr+0ND4cfXpb7TNV8O6lFqemaxpEiQ3lvIjBtgkZGwjEKSAAcqpBGK9XjQryTQBJRRRQAUUUUAFFFFABRRRQAUUUUAFFFFABRRRQAUUUUAFFFFABRRRQAUUUUAFFFFABRRRQAUUUUAFFFFABRRRQAUUUUAFFFFABRRRQAUUUUAFFFFABRRRQAUUUUAFFFFABRRRQAUUUUAFFFFABXz1+0p/yWj9m//sb7n/013dfQtfPX7Sn/ACWj9m//ALG+5/8ATXd0AfQtFFFABRRRQAUUUUAFFFFABRRRQAUUUUAFFFFABRRRQAUUUUAFFFFABRRRQAUUUUAFFFFABRRRQAUUUUAFFFFABRRRQAUUUUAFFFFABRRRQAUUUUAFFFFABRRRQAUUUUAFFFFABRRRQAUUUUAFFFFABXz1+0p/yWj9m/8A7G+5/wDTXd19C189ftKf8lo/Zv8A+xvuf/TXd0AfQtFFFABRRRQAUUUUAFFFFABRRRQAUUUUAFFFFABRRRQAUUUUAFFFFABRRRQAUUUUAFFFFABRRRQAUUUUAFFFFABRRRQAUUUUAFFFFABRRRQAUUUUAFFFFABRRRQAUUUUAFFFFABRRRQAUUUUAFFFFABXz1+0p/yWj9m//sb7n/013dfQtfPX7Sn/ACWj9m//ALG+5/8ATXd0AfQtFFFABRRRQAUUUUAFFFFABRRRQAUUUUAFFFFABRRRQAUUUUAFFFFABRRRQAUUUUAFFFFABRRRQAUUlLQAUUUUAFFFFABRRRQAUUUUAFFFFABRRRQAUUUUAFFFFABRRRQAhOOtUI9e0+XWp9IS8ibU4bdLqS1DfvFidmVHI9CUcD/dNct8crjxFafB/wAYzeEkkk8Sppk5sFhXdJ5uw42Du+M7R3OK+QpJrvTde8W6h4VPj/VdDvNO0GxOsavLqEM0R+03LznzjG1x5S7l3rGNwLkKVHIAPu2XUbWC6htZLmJLmYM0ULOA8gXG4qvU4yM46ZrO8VeMtF8D6T/aeu6jDplh5scHnzZ2+Y7BUUYHJJIAr4d8Lv4sW58PeINZt/GGralodx4nsbEwfb45HR1SSyX97uYh03bGm3Z2qDkqBTvCmseJptcaw1a51m50OfU/Dl3Zf2kdQniE/wBrZZws14oJcfutyqEXnhcUAffAcMoIPFHmL618aeJPH3jGxgl0ND4qh1ay8U63NdXH2a5WGLTvs909sTPjYYvmi2gNgEDpivPLnxl4jt/hrpOqaD4k+IMmn3OiaM3iK+v3u3lF/JqFmuLTzB/rHjecFYvlYFOpPIB+h29fWqWt69YeHNIu9U1K5W1sLWMyzzsCQiDqTgV8QeKtU8dRzPDoGo+LF+FB8RbV1DVZdS+2eX9hRiDKgN2Lc3JbBH8Q25C8V2Hww0Hxvrjrd+L9d8SzWeneEZJ4kke4tra7la4ulj89W5kdYBECH5OQzDOMAH1jo2sWXiHSbLVNOuEu9PvYUuLe4j+7JG6hlYexBB/GvB/2lD/xej9nD/sb7n/013deh/s8/wDJB/h16f8ACOaf/wCkyV4/+2Zpevaz4++AFn4Y1uDw5rs3iy4FrqlzYi9jgYabdEloS6b8gEfeGM57YoA+oNw9aXcK8y+FXgz4neHNSvpfHvxE0vxrZyRKttb2HhwaYYHB5YsJ5N4I4xgYqn8TvAfxZ8Q+JEu/BHxR0zwdo/2dUbT7zwwuouZQW3SeabhOCCo27eMdeaAPWaWuF+E/hnx14Z0u9h8d+NLPxreyTB7e6s9GGmrDHtAKFBLJuOed2R1xiuM8bfDP41ax4q1G98OfGXTfD2iTSbrXTJvCMd09uuB8plNwpfnJztHWgD2vzF9aPMX1rmPh3oHiTQPCdvY+LfEcPivXEeQy6pBp4sklUsSo8kOwXAIH3jnGa8m1L4P/AB3uNSuprT48afa2jys0NufBkTmJCTtXd9o5IGBnvigD6A3ilrn9N0XXIPA8GmXmupc+Ilsfs8mtLZhFe42bfP8AJ3YA3fNs3Y7Z714t/wAKX+Ph6/tBWuPbwZB/8foA+iPMXnmjePWuf8c6HrWveFNRsPD2vf8ACNazMqi21U2q3X2chgSfLZgGyAV5PfPavKvC/wAH/jNpfiLS7zV/jius6Xb3Mcl1pw8LQQfaogwLR+YJSU3DI3AHGaAPddw9aNwzjPNcd8UvCnijxd4cisvCPjE+CdUW5WVtRXT473fGFYGPY7ADJKnd/s471xvw5+FfxS8M+LbXUfE/xgfxdo8ayCXSjoEFoJSVIU+YjkjaxB6c4xQB7HuB70u4etec/FzwD438af2T/wAIb8RJPAX2bzftfl6VFe/a92zZ/rCNmza/Trv56Cqnwn+HPj/wbql7ceL/AInzeOrSaERw2sukQ2YgfcDvDRkk8ZGDxzQB6huFG8V5P8Uvhf8AEPxh4kivvCvxYuvBGmLbLE2mw6Pb3YaQMxMu+Q5yQVGOny+9bnwm8D+LfBOn38Pi3x5cePLmeVXgubjT4bQwKBgoFj4OTzk0Ad6rBulGa8T8c/Bn4m+IvFmo6loXxs1LwxpVw6tBpMGiWk624CgEB3G5skFufWvQ/hv4Z17wl4Vh03xH4qn8Zaokjs2rXFrHbO6k5VSkfyjaOKAOqpvmL1zXgWqfAT4r32qXlxa/tBa5YWs0zyRWsehWLCFCxKoCVyQAQMnnivX9I8P6pY+CrbSLvX57/WI7L7NJrbwIssk2zHnmMDaGz823GO1AG9uHrS7hXzv/AMM6/Fjv+0b4k/8ABJp//wAbr2rxp4e1HxJ4Uv8AS9K1+58NalcRhIdWtIo5Jbdsg7lVwVJ4I5HegDepNw9a8K8NfAT4kaP4i0y/1D4+eJtasbW5jnn02fS7COO6RWBaJmWIMFYDBKkHB4Neh/FPwXrfjbw5HYaB4z1HwNfLcLKdT0y3gmlZAGBjKzKy4JIOcZ+UUAdnuHrRuFeJ+B/hL4w+Huvx+IPEvxu8QeJ9Es4pXutP1azsILUr5bfO7xxKyhPv53AfLzxXzf8AtZft0eDbjVNJ0D4Y/EbxXqniuJ7qEaX8ObK1vvt02PlWSSeNwFVojzEGOJdwDgcAH335inoa87+MH7QHw9+BukSah428V6foSpH5q28sm65kU7sFIVy7Z2MBgckY61+bniaT9t3SPg34z8Z+KvG9x4Q8M27RwGx1J4Bq4gluBDmF7eABXAdcuSh5yuCOPr34X/8ABN/4S+DNdbxF4mi1D4peJ3LmXU/G0/2/zCxblomGxjhurBucHrzQB2v7PH7XHhP9prUNch8IaN4mh0zTVDx65qumi2sdQUyMmbd95ZsFDkMqkdwDxXu9VbHTLXS7SG1s7eK0tYVCRwQRhERR0CqOAPYVaoAKKKKACiiigAooooAKKKKACiiigAooooAKKKKACiiigAooooAQjd1pPLFOpKAE2D0rF8XeCdF8eaP/AGXrtiL+x82OcRNI6ESIwZGDKQQQwBGDV7R9a0/xBp8d9pl7Bf2chYJcW8gkRirFWAI44II+oqa31C2u3nSC4imeB/LlWNwxjbAO1sdDgjg+tADb3TLbUtPuLG6iE9pcRNDLFISQ6MNpB+oJrNufBGhXnh2y0GbTYZNIsjbm3tGzsj8hlaHHOfkZEI/3RTrrxlodj4mtPDtxq1pDrt5C1xb6dJMonljU4LqnUgEHmtnPvQAm0elUdc0Gx8SaPd6XqMH2ixu4mhmi3sm5D1GVII/A1EnirRpdCl1pNUs30iJHeS+WZTCioSHJfOAFIOfTBqv4b8ceHvF1zqFvomtWWqzafIIruO0nWQwMRkBwDxkcj1FAF/Q9EsfDWjWOk6ZbJZ6dYwR21tbx52xxIoVFGewAA/CvCP2lP+S0fs3/APY33P8A6a7uvoWvnn9pU/8AF6P2cP8Asb7n/wBNd3QB9DUUzcPWgN70APopm4Z60bvegB9FM3Cjd70APopm4c80Bh60APopm4etG73oAfRTNw9c0FqAH0Uzd70bvegB9FN3D1pC3TmgB9FM3UbvegB9FRbh/eqprOtWOgaXcajqV9b6dYW675rq6lWOKNc4yzE4A+tAGhRXyL8Sf+CkHw90bUrnw98OLHVvjB4sVVEVn4TtmubZpG5VTOoIPHPyBhwRkMCBxK+E/wBrj9qlGPiTVrH4B+A9Stf+QVpo+0auEYdJG4ZWYOQV3JgDDIGGaAPpr4yftQfDL4CafcT+NPGGm6ZdRxGVNLWYS30w+bbst1y5BKMu4gLkYJFfOc37bHxa+PFxFZfs/wDwfvbjTpGlP/CYeNY2s9OaNQ6gwDI3sWXH3jtIwVIOR6J8Hv8Agnj8IvhVqcOt3uk3HjrxWUP2nXPFUpvZJpD1fy2+ReCQOCccEsea+mobeK2hjhhiSKGNQiRooCqo4AAHQCgD4Wt/+Ce3jD43TRah+0X8WdW8YpFdC6t/DehP9l06POSQ3ygk4ZlG0KUGcMQcD60+FfwQ8CfBPSptP8D+F9P8N285DT/Y4sPMRnG9zlmxlsAnAycdTXcUtAHEfGT4VaX8aPhrrPgvV7m7stO1QRLLPYsqzJ5cqSrtLKw+8gzkHjP1rtI8c4rwj9uzVr7Q/wBlPx1fadeXGn3sK2ZjubWVopEJvYASrKQRwSOPWveVoAWiiigAooooAKKKKACiiigAooooAKKKKACiiigAooooAKKKKACiiigArwn9pHXr/S/EHgq1u9d1jwv4MupLo6nquhsyTCdYwbaJnVSURm3ezEBT1wfdqjlVW+8AR7igD8528aeMfCvwk8MWekap4k0vUbLRJtQtTI89v9rmN5MciCKE+dLtUFklIUBwcd67K81m88LzeOmg1XxDZXGv+LrSe4uhfXFtAlvJpySB2lVGaKJnXYDEAcqq5A4r7jbHHH0p21W4IyKAPgLRfGnjPWPD2s6j/amqHxlZ+Dbmziv1icXitHqzpG2GQMzbNvJXLDk5ya7qTR/HPhLxtq01t408Z6nZaP4p0Sys7W+uTNFLa3KQm8Mg2fvVzI3JyI9vy7a+pLzwHol14ytPFcltINetbVrKO5juZUXyWbcUaNWCON3I3A47YroVXIoA/Pjxd4k8Uax4F1rTvFXiPxTogPhu8k0O106JwNTvTd3KvHKoQ+aQixDy2GNrluvI+kv2e42i8f8AjpXUpItlogZWGCD9hGQR617qYwSCeSOlc/4b8C6L4X1rW9W061li1DWpluL+ea6lmMrgYXAdiEUDgKuABwAKAOjr5o/a40691b4jfAGy03UpNF1G48VXCW+pRRJK9s39m3R3hHBVuARhhj5vWvpevnr9pT/ktH7N/wD2N9z/AOmu7qZRUlZmlOo6U1ONrruk19zun8zvvA/w/wDGvh3XBd658SbvxTYeWyGwuNKtbddxxh98SBsj06c1c8f+CfFnia6tJPD3j268IQxIyyw2+nW10JiSMMTKhIx04ru6Kj2ceXl1+93+/c63jqrrrEWjzf4IW/8AAeXl/A4bwB4L8VeGZ7x/EPjq68YJKqiFLnT7e18ggnJBiUbs5HX0rO8afDzxx4g1yS70T4m3vhmwZFVdPh0q0uFUgcnfIhY5+vFelUUeyjy8uv3v89wjjasazrpR5n/chb/wHl5fwOK+Hvg/xP4XW9HiLxrceMDMVMJuLC3tfIxnOPKVd2cjr0x71zviD4YfEHU9bvbvTvi3qGkWM0peGxTRrKVYFPRAzRlmA9Sc16vRQ6UXFR1+9jhjqsKsqyUbv+5Br5RcbL5JGB4U0PVdF8O21jq+uSeIdRjDCTUpoI4GlyxIykYCjAIXgc4ya86k+EnxLeRivxq1JEJOEGg6edo9M+XXslFEqcZJJ3+9r9RUcdVoTlOCjeXeEGvknFpfKxzVj4e1u38FnSrjxJNd639meEa61rEkgkIO2XyguzK5BxjB289a4G3+EvxLiuIpJPjRqU0asC0Z0KwAcA8jIj7+1ex0USpxla99PN/5hRx1Wjzcqj7294Qf3Xi7fKxz/i7QtX1zw9cWWj6/L4c1GTZs1KG2jnePDAnCSAqcgEcjjPHNcBp/wp+JFre28tx8ZNQvII5FaS3fQrFRKoIJUkRggEcZHPNev0USpxk7u/3sKONq4eDpwUbPvCEn8m4tr5M5Lx54X8Q+JNMt4PD/AItuPCV1HKHku7ezguTKu0jYVlUgckHI54rF8FfD/wAbaBrgu9d+Jd54osPLZTYT6VaW6ljjDb40DZHpnHNej0U3TTlza39X+WxMMZVhRdBKPK/7sW//AAJrmX3nB/EDwT4s8TXVrJ4d8eXXhCGJGWWG30+2uRMSeGJlRiMe1L4B8GeK/C095J4i8d3Pi+KVVWGO4063tfIIJyQYlGc5HX0rpvEvinSfBuiXmsa5qNrpOlWi757y8lEUUYJAGWPHJIA9SQB1r5H8c/8ABTTwXdeIZPCHwi8Oa18YfGEkQaCPQ4CtkhJUbpJWw20bxyqlc/KWUnNL2cebm1+92+7YPrlX2H1e0eX/AARv/wCBW5vx8tj6C8aeA/GniDXHvND+Jl94YsGRVGnwaVaXChh1bfIhbn0zXBeJv2iPBH7MGizp8VfjBba3qM1wwiRrSL7YgUKDH9ntULYBIO4rxv5OOnkNn8M/2sv2jvsN3448b2XwN8Kyfv30bwe7/wBsHOwqjzDhBwx4kyCSrIQcj1H4L/8ABPb4MfBuZNQj8Np4s8QB45f7Y8TBb6ZJE2EPEHG2MhkDAgbhkjdimqcYy5lf73+WwTxlSpRVBqNl/din/wCBJcz+8+bLH9oj9pn9onxjc3nwS0PXtP8ABcl3sF/4ts7Cyt4I2KFWUtGzuFVtzBTI2MY3V1Ol/si3fxm+L1/4Z+O3i3VfGjWFlBrJtdP1Ga2s5DLK+6Bl4IjDR5Aj2Y427a++Ut47eMIihEUYVVGAAOMCsm1ttDHiq4uIo7IeIGtkWaRAn2kwBjsDH72zduxnjOcVlKiuZTTe/d/kd0M0qOhOhOEWnG2kIJrVa8yjfprrr1M34e/Cfwh8KdLfTvB/hrS/DVlI254dMtkhDn1baOT9fU+tdao2qBS0V0niBRRRQAUUUUAch8W/hjpHxl+Hur+DtdkuotK1NY1meykCSjZIki7WKsB8yDseM11sfevAf29rqaz/AGS/Hs1vLJBMiWRWSNirD/TrfoRXvyjFADqKKKACiiigAooooAKKKKACiiigAooooAKKKKACiiigAooooAKKKKACvO/jd8RNR+Hfh7SG0aytb3Wta1e10SwF9IyW0U077RJKVBbaoDHavLHAyM5r0SsTxl4O0fx5oM+i67YR6lpszI7wyEj5kYMjBgQVZWUEEHIIoA+VvD/x18c+GP8AhN7W4fS9Q8TN4yvbb7Mn2vUIooLfTrNiLaBMOqF23HcyrGZGzuJ5n0z9o3xdeaovi/zNLs9Gv/AGl6xBod40xSO9ubh0ADqCznJ24CbnwoABya9wi/Zv+HMFjDZxeFraKCO6e9BjlkV2mdEjkdnDbm3rGgbJIbbzk1JJ+zx8PpNLtdNbwxa/YbWyOmwQh3AjtvM80RDDcKr4Zf7uBtxigDxTQ/izrPxf8VeEbPWorjSZ9I8W3VjONPe509bwR6Y1zGzwl96jc65jdmB2jPpWN8M/2kPGWn/B+fUraLT9TsPBOg2eoa5NrU8z3upNMHkKQvnCERqMM4fc524GM17hN+zro2k+IPD+r+Evs/h2ew1T+0L5ZIZLn+0Abd7dgxMqlZCj/wCs+b7oyG7alx+zv8Pbq502Z/C1mDp8MVtBGhdYzFG5kjSRA22RUdiyhwcEnFAHierftqaroHiI6Xf+HbUCzbU7TUplkdRbXUazS6emD2niiU885kUDqM+k/AebUP8AhYfxOg1Ca4En2jTrp7OS6lmitpprNZJliEjHYhck7VwB6V22rfBvwZrl7qt3qHhuwu7nVbu1vr6WRMtcT2wUW8jc9UCKB9Kb4H+Ht54W8Y+NPEF7qsWoy+IruGZIYbQwLbRxR+WiEmR97bQMt8uTn5RQB3FfNX7Wl3qFj8SvgFc6TYR6rqkPia+ktLGW4+zpczDSLwpEZdreWGYAbtpxnOD0r6Vr56/aU/5LR+zf/wBjfc/+mu7oA0fDPxO+O+peI9Mtda+B+jaLo81zHHeahF44juntoSwDyLELRfMKjJ27hnGMivQ/ilr3jTw94ciuvAvhWy8YayblUfT7/VRpyLCVYtIJTHJkghRtxzuJzxz2NFAHjXw78dfGjW/Flta+Mvhdonhfw+6SGbUbLxSL6WNgpKARfZ03ZbAzuGM5rd+LfiT4l+HzpX/CvPB2keLvO837d/ausnT/ALPjZ5e3ET792ZM9MbR1zx6RRQB5Z8J/FHxY1zVr2P4g+CNE8K6ekIa3n0vXDfvJJuGVZTEm0Yyc5PSoPil4k+Muj+JIoPAHgvw34i0VrZXku9Y1p7OVZtzBkCLE2VChDuz/ABEY4r1qigDz/wCE+tfEbV9Pv3+Inh3RfDt6kqi1i0XUXvEkjxyWZkXaQe3Ncj468SfH6y8WajB4S8HeC9T8PK6/Y7vU9ZnguJF2gneixEA7iw4PQCvbqKAOT+Gt74xvvCsMvjrTdL0nxCZHElvo9y9xbhM/IQ7qpyR1GK8q1bxB+0wuqXqab4V+HL6eJ3FrLdareCR4tx2M6iPAYrjIB617/uB71i+KvHPhzwJpcupeJdf0vw7p0QBkvNWvI7WFAWCgl5GAHLKOvUj1oAi0i68RyeC7aXU7fT4fFZsgZ7e3kdrNbrZyqsRuMe7vjOK8X/tT9qlgf+JH8KU+t9qB/wDZK848df8ABSrw/qWqTaD8FPBPiD4z+IkkCf8AEntJY7ELmMM5m2Mdi78Ftu0EDJ2ndXPRfAP9qX9prdL8VviJD8JPDUjpcReHfBiqbof6s+W06tlSAH5Lvhj0KnFAHsH7Tn7a3gT4B+FdRiTxf4fm8cr+7tdHeRrspKCuRPHATJGMOOuCc5AIBx8q+G/24v2rfi1eeGfD2n/DTQ/ATeMLw6dpXiHWLO6hjDCH7Q0iLIxLr5KsQwRgeg5r66+CX7C/we+Avl3Hh/wnBe6sojJ1bWW+2XJkXaRIC4Ko25A3yBcEnGBxXX/FL4UX3jz4gfCzxDbXtvbQ+ENZn1O4hmDFp0ks5oNqY6EGUHnsDQB85eFf+Cb7+ONasfFH7QXxE1n4reIY1Ak00SG30qIAJhEQYYj5DkjYGzkqCMn648A/DLwp8K/D1tofhHw/p/h7SrddqW9jAEHQDcx6sx2jLMSTjkmumXoKWgBuxfSlpaKAGNzmvHNJRk/as1w4IVvDFrzjjieWvZc1jx+LNJl8US+Hlu1OsxWy3b221siIsVDZxjqCOuaxqRUnG7tZnbhasqaqcsb3i16bamwtLRRWxxBRRRQAUUUUAcP8bE8ESfDHW1+I32ceCysQ1D7WzrHjzU8vJT5v9Zsxjviu2Q5zXgH7fFvLdfslePYoInmlZLPakalmP+m254A9q+gFPWgBaKKKACiiigAooooAKKKKACiiigAooooAKKKKACiiigAooooAKKKKACiiigAooooAKKKKACiiigAr56/aU/5LR+zf/wBjfc/+mu7r6Fr56/aU/wCS0fs3/wDY33P/AKa7ugD6FooooAKKKKACiuW8ffEzwv8AC3QpNZ8Xa/p/h3TFIX7TqM6xKSSAAMnk5I4FfJ3iT/gpNF461LUPD/wA+HevfFjXLR1V9QFs1vpaLlNzbyd5xuK/MqDIyCy8kA+2Gfa2MV4L8Yv25fg18Ep47DW/FsWo65OP9H0XQY2v7uY5UBcRgqhO4Y8xlDYOCSDXjEf7Nv7SP7Q0wuPjL8U4vAfhyW3UHwn4BJVnD7S8dzMerBcqcNIuRlMc59z+Dv7Ffwa+BZtLnwr4IsY9Xtwrf2zf7ru9ZwgUv5shO0tjJVNq5JIUUAfPdr8f/wBqX9pz7GfhX8OrX4V+D7o+XN4p8Xskl0nKEvDASC2BvAPlOpJI3Iy5rofA/wDwTR8O6xq1h4n+NfjHXvjF4rt2DFdVumGnrgR4URfeYZTkFtrA4ZTjNfaPljn1NKqhelAGD4P8C6B8P9Dg0bw1o9joWkwACOz0+BYY1wAucKOTgAZ68Ct+iigAryX4z/FLV/h/4++E2j6dFaSWnirX30q+a4jZnSIWssoMZDDDbkXkgjGeK9argPiT8J7T4ieJvAetXN9NaS+EtWOrQRRKpE7mF4tjE9BiQnj0oA74dKWkU5UE8UtABRRRQAxuhrymz0PUE/aUvtWaymGmSeHY4FvNh8syCdjs3dN2DnFerP8AdP0rmYfHVg3xAfwiIpxqS6eNR8wqvlGMvsxnOd2fbGO9Y1IxfK5Pqd2FnVp+09nG94tPyXVnUClpBS1scIUUUUAFFFFAHO/ELx/oPwu8IX/ijxPf/wBmaHYbDc3XkyS+XvkWNfkjVmOWdRwD1rfj714N+3dpl5rH7KPjuzsLSe9u5Es9kFtGZJGxewE4UAk4AJ+gr3qPpQA6iiigAooooAKKKKACiiigAooooAKKKKACiiigAooooAKKKKACiiigAooooAKKKKACiiigAoopCcc0ALXz1+0p/wAlo/Zv/wCxvuf/AE13dfQfmDrXy/8Ath+OvD/gH4ifATX/ABFrFpo+j6X4pup727upQqQp/Zd3gnvkkgADliQACSBQB9Q5pH+7wea+INc/4KNaj8Q9YOhfs/8Awq1/4nXrbon1q7gks9Ls5CH8tpH2nK4Tdhmj3A4Vs1RX9j347ftHtDe/Hf4tS6DoxaRJPBvgseVFNCSw2SzAhSDhMgrJleMq3NAHrXxh/wCCgXwd+D13Dps/iP8A4SvX7j5bfR/Cqi/nlfIVYwUOxWZjgBmHIIryu8+Kn7WH7TFrMPhx4Msfgz4UnlZLfXPF7n+0mRRwxh2sULHHAjYAgjcw5r6K+DX7Jvws+AtpEng/whYWl5GWb+1LpBcXpLDaf3z5YZU7SARkdc166o2qBQB8a+CP+CZ/g+bXJ/Efxd8T678ZfE11taebXbh47XeMgFIlckADaFUuQoGBxxX1t4b8L6R4T02HTtF0mx0bT4I1ihtdPtkgijRRhVVEAAAHQAYFa1FACbR6UtFFABRRRQAUUUUAFeI/tEeOde8H+NPg3aaPqMlla634sj07UI0VSLiBoZWKEkHA3KpyMHivbq5Txt8N9C8fal4avdYhlluPDuopq2ntHKyBLhVZQWA+8MMeDxQB1S9BS0i9BS0AFFFFADG6GvN4fBupj49N4n8lf7IOhfYfN3jd5vnb8bevTvXo7d640ePmX4sJ4N+wja2lNqQvPN54kCbNmPfOc/hWFTkfLz99PU78G6ydT2Kv7rv6dWdqtLSUtbnAFFFFABRRRQB598ffiwnwN+EuveOH0xtZTShCTYrP5Jk8yeOL7+1sY8zPQ5xjvmu/TvXkv7WXw31r4ufs++LPCXh6OGXWNRW2FulxKI0Oy5ikbLHp8qNXrSsDnHNADqKKKACiiigAooooAKKKKACiiigAooooAKKKKACiiigAooooAKKKKACiiigAooooAKKKKACmvypFOooA+Xf2jPC/7TPj7xdL4e+GviTwx4F8CyQI58QOkj6r5oU748ZZVTdtwyqGGBzjIPz74s/YF8G/Dj41fBjUPFeu618Udf8AFXiWaz1m78SSK0EyJY3cwWOFRlF3rGcM742DaVGRX6RbR6V8+ftJjHxn/ZvA/wChvuf/AE13dAHvGm6PZaPYwWNhaw2NlbrshtraJY44l/uqoGAPYVaWMJ06elPooAKKKKACiiigAooooAKKKKACiiigAr5+/ar1a90rxH8Efsd5cWi3Hjuwt51glZBLGwfKNg/Mp44PHFfQNc94s0jw5qs2jP4ht9Pne0vorjTWv9mY7sE+W0W7/lpycY5oA6BfuilpF+6KWgAooooAaehrhT4EupPjJB4wFxF9kTR301rfB37jKrhs9MYBFdwa8/k8cajD8cbPwkBD/Zk+hy6gTtPmeasyIOc4xhjxisKnL7vN3X3nfg/bt1PYfyyv/htqeh0tIKWtzgCiiigAooooA8r/AGofilqvwV+BXijxpolvZ3WqaWtu0MOoI7wN5lzFEdwRlY/LISMMOQPpXqS15v8AtHfCm4+N/wAGPEfgm01CLS7jVRAFu5ozIsfl3EcpyoOTkRkfjXpCZ5zQA6iiigAooooAKKKKACiiigAooooAKKKKACiiigAooooAKKKKACiiigAooooAKKKKACiiigAooooAK+ev2lP+S0fs3/8AY33P/pru6+ha+ev2lP8AktH7N/8A2N9z/wCmu7oA+haKKKACiiigAooooAKKKKACiiigAooooAK+dv2xPln+Cb+nxI0UfnKwr6Jrn/F3i/QfCC6U2vX0FiupahBpll5yk+bdytthjXAPzM3AoA3x0FLSL90UtABRRRQAxhuzXKSeAbeb4mWvjE3Ui3dvpkmm/ZsDYytIr789cgrj8a6tu9eYXnibU4f2jNH0BLtxpFx4curx7XA2tKlxEofpnIDEde9Y1HFJcy6r7zvwcK05TVGVvdk36Jar5o9RFLSUtbHAFFFFABRRRQB5P+1T8TNY+DvwE8U+MNBW3bVtNW2MC3cZkiO+5ijbcoIJ+V27ivVo+nrXnv7QXwnPxy+EHiDwQNU/sU6qsI+3fZ/P8ry545fublzny8feGM55xivQY8c4oAfRRRQAUUUUAFFFFABRRRQA3cvrS5Br5h/am8F/tEL4s07xp8FfGunm10+zWG48C6pbIIb6QPJulEx6sVkX5CUA8oEMScVi/Cn/AIKI+EtU8Qr4O+LOjXvwX8fxriXTvEZ22cx3lFaG5IUFWxkFgo4YBm25IB9c0VFHcRzRpJGweNwGVlIIIPQg96k3DbuPAxnmgBaKz9F16w8RaXbalpd3Ff6fdRiWC6t3DxyKehUjqKTW/EGn+G9Ln1HVLuOxsYADLcTNtRASAMn6kD8aANGimCVWAI5B5yKPMGcUAPooooAKKKKACiiigAooooAKKKKAPNPix/wt5r6w/wCFaT+CYbQI/wBtHiyC8d9+RtMZgdRjGc7h6Vwnl/tWf8/vwc/8BNV/+O19C4HpS0AfPPl/tWf8/vwc/wDATVf/AI7Xinx4T9ov/haXwMGs3XwvbUv+Emn/ALJaxttREIn/ALPud32gNJkp5e/Gwg7tvbNfeNfPX7Sn/JaP2b/+xvuf/TXd0AJ5f7Vn/P78HP8AwE1X/wCO0eX+1Z/z+/Bz/wABNV/+O19DUUAfPPl/tWf8/vwc/wDATVf/AI7R5f7Vn/P78HP/AAE1X/47X0NRQB88+X+1Z/z+/Bz/AMBNV/8AjtHl/tWf8/vwc/8AATVf/jtfQ1FAHzz5f7Vn/P78HP8AwE1X/wCO0eX+1Z/z+/Bz/wABNV/+O19DUUAfPPl/tWf8/vwc/wDATVf/AI7R5f7Vn/P78HP/AAE1X/47X0NRQB88+X+1Z/z+/Bz/AMBNV/8AjtHl/tWf8/vwc/8AATVf/jtfQ1FAHzz5f7Vn/P78HP8AwE1X/wCO1xfxQ+E37TPxWt/DUWp6v8J7UaDr1j4htzaW2pgvPayb0R9zn5CeCBg46EV9DfEb4gN4Fu/CcX2VLiPW9Yj0uSR5dnkK0UjmToc48vpx161haX+0p8OdamMdr4lXO+FY2ms7iJJhNOsEckTPGBLEZWVfNQlAWGWAIoA4ry/2rP8An9+Dn/gJqv8A8do8v9qz/n9+Dn/gJqv/AMdr1DQfjF4P8UalFYaVrsF9dy6hdaWsUKOT9pt03zxn5cDapByeDuXBORntqAPnny/2rP8An9+Dn/gJqv8A8do8v9qz/n9+Dn/gJqv/AMdr6GooA+ePJ/asPW8+Dn/gJq3/AMdrCm8CftMTeNLXxU1x8IP7YtbKTT45Ps+rBfJd1dgV83BO5F5r1bxx+0d8PPhz4guNF8R+Il0zULZYHuEazuJI4FnYrC0kixlEDMCoLMBnA6kCq1r+0V4P1WTSbjT9atBplxNewXcuoRz2c1s9tB50itFJGpQhCrESbPlYMM5FS4p7lwnKm24u19PkzkPL/as/5/fg5/4Car/8do8v9qz/AJ/fg5/4Car/APHa674a/tBaF8WPH2uaD4dd7qy0zTLS/a7mt5raRjPJMoXypURguIgwbowbjpmvV1+6Kog+evL/AGrP+f34Of8AgJqv/wAdo8v9qz/n9+Dn/gJqv/x2voaigD558v8Aas/5/fg5/wCAmq//AB2jy/2rP+f34Of+Amq//Ha+g5M9q4O8+OXgnTdAt9bufEEUWl3Ed9LFcGKQh1sw5ujgLn5BG+eOdpxmgDxH4meAf2qfiV4H1Pw2/iX4YaAt8Ix/aOipqsF3DtkV8o/mHGduDxyCR3rplh/asX/l9+Dn/gJqv/x2uyj/AGnfho2n3d8fFMcdtay28L+daXEbMZyRA0aNGGkSQqwR0BViCASank/aO+Hseg2+r/8ACQF7a4uZbNIEsblrsTRYMqNbCPzlKAgtuQYBBPBBoA4fy/2rP+f34Of+Amq//HaPL/as/wCf34Of+Amq/wDx2vTNK+NXgzXPFWneG9O1+G/1rULFNStre1jkkD2rq7JNvClFUiNwCSORjqQD3VAHzz5f7Vn/AD+/Bz/wE1X/AOO0eX+1Z/z+/Bz/AMBNV/8AjtfQ1FAHzz5f7Vn/AD+/Bz/wE1X/AOO0eX+1Z/z+/Bz/AMBNV/8AjtfQ1FAHzz5f7Vn/AD+/Bz/wE1X/AOO0eX+1Z/z+/Bz/AMBNV/8AjtfQ1FAHzt9n/ar6/bPg5n/r01X/AOO1w3xi+Efxw+LHgy80z4hWfwL1bQ442leXULPVF+zAYYyLL5oMeNoJYEcDnivrnUr+DStPur26k8q2tommlkwTtRQSxwOTgA9K/PLxR4u+IH/BTS6/4RzwMt34I+AFrfGHWvENySl1rexifLgQdUwEJVuAXBbO0LQB47+wXdfF7Rf2j4/C3w78St4p+C9vdNJql1p8VzJoVpE3ztBbSXS7lkBKgAHc3zHn5jX65T/8ekv+4f5Vy/wt+F/hr4O+BtL8I+E9Mj0vQ9OjEcMK8sxxy7seXdjyWPJNdb7UAfAPw303xHrnw7SC28Wa/oFroPwts9UsLXTZzFGt+Zr7EzDHzkCJAUPBHUVl/E3x/deLPhv47n8YeM7/AErxs1xpcWj+F4pvLju9PeKzkaVLX/lsrl7gvKAfLKHldmK/Q8W8S8CNQMbenb0+lMayt2dXaCNnVdoYoMgen0oA+DF+KPjiX4vapDfeJYtL1+Dxg1hFok+suhOjiQYI08Q8xtbgyfad/BOSRjbXpX7NXjnxHrvxSvbPxRrurzeHzaTN4He+hEC61YecTJcSnOZJkHlquQuYmWTHznH1U1nA03nGCMzbdnmFRu2+mfSniGNdmEX5Pu8dPpQA+iiigAooooAKKKKACiiigAooooAKKKKACvnr9pT/AJLR+zf/ANjfc/8Apru6+ha8s+Lvwu1Tx58QPhPrthc2cNr4R16XVL2O5dg8sT2U8AEeFILbpVOGIGAec8EA9TooooAKKKKACiiigAooooAKKKKACiiigDz/AOMHws/4WrZ6BaPe/Y7fT9S+2TYUlpY/JliKKQflP73OfavJ2/ZX8QeI/DNtpHiTxBpx/sfwvN4a0W40y1aNkL+UUu5QW++hgiYKvGVJ9q+mKKAPAfgz+y+/wn+ITeJJNcXUom0mK2a1EGwG/KolzeZycGVIYBt/2Cc8179RRQAUUUUAeK/ED9n248cal49uBqkFuniYaGqLJAX8kWFyZ2zz82/OB0xjvXM+PP2SJvHniDxJeTeIUtLTWNQvr0xx25Lxi40qGxC5LYJVod+ccg496+kKKAPIPhX8K/Ffhvx9rXivxRq2lX1zfaPY6RHa6VavCka2zzNvLMxJL+dnH8OMCvXhwKWigAooooAayk9K+QPiN+zH40tfhzrNlb6vZ6vp2i6b4mOkaVY2Un2y7bUYpykbsXILI0pUbR82e1fYNN20AfI3j74E/EG+PhvxNNeabqPii1vNB0+0hsdPdbW1tra5aZ5poyxblmGcHCBfl9a0dd/ZE17WtYj8VTa1pl54qn1K+v72CRbmCyK3MNvEEjMMiyAxraxHJJ3fPkc8fU3l+9OVdtAHk/wg+Bg+FesPdx3dtPCdCsNHWKCAx7TbvO7MMs2FYzcLnjHU16zS0UAFFFFABRRRQAUUUUANkRZI2RlDKwwVIyCPSqml6TaaLapaWNpDY2kedlvbRrHGuSScKBgZJJ+pq7RQAUUUUAFFFFABRRRQAUUUUAFFFFABRRRQAUUUUAFFFFABRRRQAUm3NFFAC0UUUAFFFFABRRRQAUUUUAFFFFABRRRQAUUUUAFFFFABRRRQAUUUUAFFFFABRRRQAUUUUAFFFFABRRRQAUUUUAFFFFABRRRQAUUUUAFFFFABRRRQAUUUUAFFFFABRRRQB//Z)\n",
        "\n",
        "\n",
        "<br/>\n",
        "\n",
        "|Best Time Complexity|Average Time Complexity|Worst Time Complexity|Worst Space Complexity|\n",
        "|:---:|:---:|:---:|:---:|\n",
        "|O(1)|O(loglogn)|O(n)|O(1)|\n",
        "\n",
        "<br/>"
      ],
      "metadata": {
        "id": "tkI3mLDX4z_e"
      }
    },
    {
      "cell_type": "code",
      "source": [
        "def interpolation_search(arr, key):\n",
        "  upper=len(arr)-1\n",
        "  low=0\n",
        "  while low <= upper:\n",
        "    mid=int((upper-low)*(key-arr[low])/(arr[upper]-arr[low])+low)\n",
        "    if mid<low or mid>upper:\n",
        "      break\n",
        "    if key<arr[mid]:\n",
        "      upper=mid-1\n",
        "    elif key>arr[mid]:\n",
        "      low=mid+1\n",
        "    else:\n",
        "      return mid\n",
        "  return -1\n",
        "\n",
        "arr=[1,3,4,6,7,8,32,40]\n",
        "index=interpolation_search(arr, 6)\n",
        "print(\"found! index:\"+str(index) if index>=0 else \"can't find\")"
      ],
      "metadata": {
        "colab": {
          "base_uri": "https://localhost:8080/"
        },
        "id": "JOf7TW3i49ux",
        "outputId": "634faf4f-5873-43a0-b0e9-724d36264a0d"
      },
      "execution_count": 12,
      "outputs": [
        {
          "output_type": "stream",
          "name": "stdout",
          "text": [
            "found! index:3\n"
          ]
        }
      ]
    },
    {
      "cell_type": "markdown",
      "source": [
        "---\n",
        "\n",
        "# Fibonacci Search\n",
        "\n",
        "### Description\n",
        "* Work by using fibonacci sequence\n",
        "* Sorted data\n",
        "\n",
        "<br/>\n",
        "\n",
        "|Best Time Complexity|Average Time Complexity|Worst Time Complexity|Worst Space Complexity|\n",
        "|:---:|:---:|:---:|:---:|\n",
        "|O(1)|O(logn)|O(logn)|O(1)|\n",
        "\n",
        "<br/>"
      ],
      "metadata": {
        "id": "IUwnfqQSCg1Q"
      }
    },
    {
      "cell_type": "code",
      "source": [
        "def get_fibonacci(max):\n",
        "  fib=[None]*max\n",
        "  fib[0], fib[1]=0, 1\n",
        "  for i in range(2, max):\n",
        "    fib[i]=fib[i-1]+fib[i-2]\n",
        "  return fib\n",
        "\n",
        "def find_y(fib, n):\n",
        "  i=0\n",
        "  while fib[i]<=n:\n",
        "    i+=1\n",
        "  return i-1\n",
        "\n",
        "def fibonacci_search(arr, key):\n",
        "  fib=get_fibonacci(len(arr))\n",
        "  length=len(arr)\n",
        "  y=find_y(fib, length) # return the index of number in fibonacci sequence, which is equal or just smaaler than the length of data list\n",
        "  m=length-1-fib[y] # max=length-1\n",
        "  x=y-1 #find the starting search point of arr\n",
        "  # print(f\"x={x}, m={m}, fib[x]={fib[x]}\")\n",
        "  i=x\n",
        "  if arr[i]<key:\n",
        "    i+=m\n",
        "  # print(f\"x={x}, i={i}\")\n",
        "  while fib[x]>0:\n",
        "    # print(f\"x={x}, i={i}\")\n",
        "    if arr[i]<key:\n",
        "      x-=1\n",
        "      i+=fib[x]\n",
        "    elif arr[i]>key:\n",
        "      x-=1\n",
        "      i-=fib[x]\n",
        "    else:\n",
        "      return i\n",
        "  return -1\n",
        "\n",
        "#arr=[10,22,30,44,56,58,60,110,130]\n",
        "arr=[0,1,2,3,4,5,6,7,8]\n",
        "index=fibonacci_search(arr, 4)\n",
        "print(\"found! index:\"+str(index) if index>=0 else \"can't find\")"
      ],
      "metadata": {
        "id": "pUaWiTDpChIt",
        "outputId": "e1184d1e-c0d0-4e9b-caf7-a425e3917fb1",
        "colab": {
          "base_uri": "https://localhost:8080/"
        }
      },
      "execution_count": 13,
      "outputs": [
        {
          "output_type": "stream",
          "name": "stdout",
          "text": [
            "found! index:4\n"
          ]
        }
      ]
    }
  ]
}