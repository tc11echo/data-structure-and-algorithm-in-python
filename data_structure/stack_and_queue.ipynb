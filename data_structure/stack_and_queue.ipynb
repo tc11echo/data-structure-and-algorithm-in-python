{
  "nbformat": 4,
  "nbformat_minor": 0,
  "metadata": {
    "colab": {
      "name": "stack_and_queue.ipynb",
      "provenance": [],
      "collapsed_sections": [],
      "include_colab_link": true
    },
    "kernelspec": {
      "name": "python3",
      "display_name": "Python 3"
    },
    "language_info": {
      "name": "python"
    }
  },
  "cells": [
    {
      "cell_type": "markdown",
      "metadata": {
        "id": "view-in-github",
        "colab_type": "text"
      },
      "source": [
        "<a href=\"https://colab.research.google.com/github/tc11echo/data-structure-and-algorithm-in-python/blob/main/data_structure/stack_and_queue.ipynb\" target=\"_parent\"><img src=\"https://colab.research.google.com/assets/colab-badge.svg\" alt=\"Open In Colab\"/></a>"
      ]
    },
    {
      "cell_type": "markdown",
      "source": [
        "# Stack and Queue"
      ],
      "metadata": {
        "id": "hiST8bCi5e6d"
      }
    },
    {
      "cell_type": "code",
      "execution_count": null,
      "metadata": {
        "colab": {
          "base_uri": "https://localhost:8080/"
        },
        "id": "jwDjpMT_6UAL",
        "outputId": "ed4d9968-962b-44a5-cffb-5381788b55e8"
      },
      "outputs": [
        {
          "output_type": "stream",
          "name": "stdout",
          "text": [
            "3 -> 2 -> 1 -> \n",
            "3\n"
          ]
        }
      ],
      "source": [
        "# Linked list implementation of stack \n",
        "class Node:\n",
        "  def __init__(self, data, next=None):\n",
        "    self.data=data\n",
        "    self.next=next\n",
        "\n",
        "  def __repr__(self):\n",
        "    if self:\n",
        "      return f\"{self.data} -> {self.next}\"\n",
        "\n",
        "class LinkedStack:\n",
        "  def __init__(self):\n",
        "    self.size=0\n",
        "    self.top=None\n",
        "\n",
        "  def __repr__(self):\n",
        "    return f'{self.top}'\n",
        "\n",
        "  def empty(self):\n",
        "    return self.size==0\n",
        "\n",
        "  def push(self, data):\n",
        "    # data is a value\n",
        "    new=Node(data, next=self.top)\n",
        "    self.top=new\n",
        "    self.size+=1\n",
        "\n",
        "  def pop(self):\n",
        "    if self.empty():\n",
        "      return None\n",
        "    ans=self.top.data\n",
        "    self.top=self.top.next \n",
        "    self.size-=1\n",
        "    return ans\n",
        "\n",
        "  def peek(self):\n",
        "    # return the top data. Do not remove it\n",
        "    if self.empty():\n",
        "      return None\n",
        "    return self.top.data\n",
        "\n",
        "  def display_all(self):\n",
        "    if self.empty():\n",
        "      print(\"stack is empty\")\n",
        "      return\n",
        "    temp=\"\"\n",
        "    printval=self.top\n",
        "    while printval:\n",
        "      temp=temp+str(printval.data)+\" -> \"\n",
        "      printval=printval.next\n",
        "    return temp\n",
        "\n",
        "stack=LinkedStack()\n",
        "stack.push(1)\n",
        "stack.push(2)\n",
        "stack.push(3)\n",
        "print(stack.display_all())\n",
        "print(stack.peek())"
      ]
    },
    {
      "cell_type": "code",
      "source": [
        "# Array implementation of stack\n",
        "class ArrayStack:\n",
        "  def __init__(self):\n",
        "    self.size=0\n",
        "    self.stack=[]\n",
        "\n",
        "  def empty(self):\n",
        "    return self.size==0\n",
        "\n",
        "  def push(self, data):\n",
        "    # the last data in the self.stack is top\n",
        "    self.stack.append(data) \n",
        "    self.size+=1\n",
        "\n",
        "  def pop(self):\n",
        "    if self.empty():\n",
        "      return None\n",
        "    self.size-=1\n",
        "    return self.stack.pop()\n",
        "\n",
        "  def peek(self):\n",
        "    if self.empty():\n",
        "      return None\n",
        "    return self.stack[-1] # return the last data, which is the top data\n",
        "\n",
        "  def display_all(self):\n",
        "    if self.empty():\n",
        "      print(\"stack is empty\")\n",
        "      return\n",
        "    temp=\"\"\n",
        "    for i in self.stack:\n",
        "      temp=temp+str(i)+\" -> \"\n",
        "    return temp\n",
        "\n",
        "s=ArrayStack()\n",
        "s.push(1)\n",
        "s.push(2)\n",
        "s.push(3)\n",
        "print(s.stack)\n",
        "print(s.display_all())"
      ],
      "metadata": {
        "colab": {
          "base_uri": "https://localhost:8080/"
        },
        "id": "5DZwlmZX6oMb",
        "outputId": "247b5ce3-122f-43f7-b8d0-aca0329cbb29"
      },
      "execution_count": null,
      "outputs": [
        {
          "output_type": "stream",
          "name": "stdout",
          "text": [
            "[1, 2, 3]\n",
            "1 -> 2 -> 3 -> \n"
          ]
        }
      ]
    },
    {
      "cell_type": "code",
      "source": [
        "# Linked list implementation of queue\n",
        "class Node:\n",
        "  def __init__(self, data, next=None):\n",
        "    self.data=data\n",
        "    self.next=next\n",
        "\n",
        "  def __repr__(self):\n",
        "    if self:\n",
        "      return f\"{self.data} -> {self.next}\"\n",
        " \n",
        "class LinkedQueue:\n",
        "  def __init__(self):\n",
        "    self.front=self.rear=None\n",
        "\n",
        "  def __repr__(self):\n",
        "    return f'{self.front}'\n",
        "\n",
        "  def empty(self):\n",
        "    return self.front is None\n",
        "    \n",
        "  def get_front_data(self):\n",
        "    if self.empty():\n",
        "      return None\n",
        "    return self.front.data\n",
        "\n",
        "  def get_rear_data(self):\n",
        "    if self.empty():\n",
        "      return None\n",
        "    return self.rear.data\n",
        "\n",
        "  def enqueue(self, data):\n",
        "    # insert at tail\n",
        "    new=Node(data)\n",
        "    if self.empty():\n",
        "      self.front=new\n",
        "      # self.rear = new\n",
        "    else: # if queue is not empty\n",
        "      self.rear.next=new\n",
        "    self.rear=new \n",
        "\n",
        "  def dequeue(self):\n",
        "    if self.empty():\n",
        "      return None\n",
        "    ans=self.front.data # to be returned later \n",
        "    if self.front==self.rear: # 1 data\n",
        "      self.rear=None\n",
        "    self.front=self.front.next\n",
        "    return ans\n",
        "\n",
        "  def display_all(self):\n",
        "    if self.empty():\n",
        "      print(\"queue is empty\")\n",
        "      return\n",
        "\n",
        "    temp=\"\"\n",
        "    printval=self.front\n",
        "    while printval:\n",
        "      temp=temp+str(printval.data)+\" -> \"\n",
        "      printval=printval.next\n",
        "    return temp\n",
        "\n",
        "queue=LinkedQueue()\n",
        "queue.enqueue(5)\n",
        "queue.enqueue(3)\n",
        "queue.enqueue(3)\n",
        "print(queue.display_all())\n",
        "print(queue)\n",
        "print(queue.dequeue())\n",
        "print(queue)\n",
        "print(queue.get_front_data())\n",
        "print(queue.get_rear_data())\n",
        "print(queue.empty())\n",
        "print(queue.dequeue())\n",
        "print(queue.dequeue())\n",
        "print(queue.dequeue())\n",
        "print(queue)"
      ],
      "metadata": {
        "colab": {
          "base_uri": "https://localhost:8080/"
        },
        "id": "aI7JKWfU6oDb",
        "outputId": "85f184c1-0dc8-4e10-ac1b-b1d5ebbe0d72"
      },
      "execution_count": null,
      "outputs": [
        {
          "output_type": "stream",
          "name": "stdout",
          "text": [
            "5 -> 3 -> 3 -> \n",
            "5 -> 3 -> 3 -> None\n",
            "5\n",
            "3 -> 3 -> None\n",
            "3\n",
            "3\n",
            "False\n",
            "3\n",
            "3\n",
            "None\n",
            "None\n"
          ]
        }
      ]
    },
    {
      "cell_type": "code",
      "source": [
        "# Array list implementation of queue\n",
        "class ArrayQueue:\n",
        "  def __init__(self):\n",
        "    self.queue=[]\n",
        "    self.front=self.rear=0\n",
        "\n",
        "  def empty(self):\n",
        "    return self.front==self.rear\n",
        "    \n",
        "  def enqueue(self, data): # insert data at the end of queue\n",
        "    self.queue.append(data)\n",
        "    self.rear+=1\n",
        "\n",
        "  def dequeue(self): # take out data at the beginning of the queue\n",
        "    if self.empty():\n",
        "      print(\"queue is empty now, cant dequeue\")\n",
        "      return\n",
        "    self.front+=1\n",
        "    return self.queue[self.front-1]\n",
        "\n",
        "  def display_all(self):\n",
        "    if self.empty():\n",
        "      print(\"queue is empty\")\n",
        "      return\n",
        "\n",
        "    temp=\"\"\n",
        "    for i in range(self.front,self.rear):\n",
        "      temp=temp+str(self.queue[i])+\" -> \"\n",
        "    return temp\n",
        "\n",
        "    '''for i in range(self.front,self.rear):\n",
        "      print(self.queue[i], end=\" -> \")'''\n",
        "\n",
        "q=ArrayQueue()\n",
        "q.dequeue()\n",
        "q.enqueue(1)\n",
        "q.enqueue(2)\n",
        "q.enqueue(3)\n",
        "q.enqueue(4)\n",
        "q.dequeue()\n",
        "print(q.display_all())"
      ],
      "metadata": {
        "colab": {
          "base_uri": "https://localhost:8080/"
        },
        "id": "5iY5MBJIJI4i",
        "outputId": "16926365-d3a0-4f37-a398-79d018929cec"
      },
      "execution_count": null,
      "outputs": [
        {
          "output_type": "stream",
          "name": "stdout",
          "text": [
            "queue is empty now, cant dequeue\n",
            "2 -> 3 -> 4 -> \n"
          ]
        }
      ]
    },
    {
      "cell_type": "code",
      "source": [
        "# Circular Array list implementation of queue\n",
        "class CircularArrayQueue:\n",
        "  def __init__(self,size):\n",
        "    self.size=size\n",
        "    self.queue=[None]*size\n",
        "    self.front=self.rear=0\n",
        "\n",
        "  def empty(self):\n",
        "    return self.front==self.rear\n",
        "\n",
        "  def enqueue(self, data): # insert data at the end of queue\n",
        "    if self.rear-self.front>=self.size:\n",
        "      print(\"queue is full now, cant enqueue\")\n",
        "      return\n",
        "    self.queue[self.rear%self.size]=data\n",
        "    self.rear+=1\n",
        "\n",
        "  def dequeue(self): # take out data at the beginning of the queue\n",
        "    if self.empty():\n",
        "      print(\"queue is empty now, cant dequeue\")\n",
        "      return\n",
        "    ans=self.queue[self.front%self.size]\n",
        "    self.queue[self.front%self.size]=None\n",
        "    self.front+=1\n",
        "    return ans\n",
        "\n",
        "  def display_all(self):\n",
        "    print(self.queue, self.front, self.rear)\n",
        "    if self.empty():\n",
        "      print(\"queue is empty\")\n",
        "      return\n",
        "    front_pos=self.front%self.size\n",
        "    if self.rear==self.size:\n",
        "      rear_pos=self.size\n",
        "    else:\n",
        "      rear_pos=self.rear%self.size\n",
        "\n",
        "    if rear_pos>front_pos:\n",
        "      temp=self.queue[front_pos:rear_pos]\n",
        "    else:\n",
        "      temp=self.queue[front_pos:]+self.queue[:rear_pos]\n",
        "    return temp\n",
        "\n",
        "    '''print(temp)\n",
        "    for i in temp:\n",
        "      print(i, end=\" -> \")\n",
        "    print()'''\n",
        "\n",
        "caq=CircularArrayQueue(5)\n",
        "print(caq.dequeue())\n",
        "caq.enqueue(0)\n",
        "caq.enqueue(1)\n",
        "caq.enqueue(2)\n",
        "caq.enqueue(3)\n",
        "caq.enqueue(4)\n",
        "\n",
        "print(\"Initial queue\")\n",
        "print(caq.display_all())\n",
        "\n",
        "print(caq.dequeue())\n",
        "print(caq.dequeue())\n",
        "print(caq.dequeue())\n",
        "caq.enqueue(5)\n",
        "caq.enqueue(6)\n",
        "caq.enqueue(7)\n",
        "print(caq.dequeue())\n",
        "print(caq.dequeue())\n",
        "print(caq.dequeue())\n",
        "print(\"After removing an data from the queue\")\n",
        "print(caq.display_all())"
      ],
      "metadata": {
        "colab": {
          "base_uri": "https://localhost:8080/"
        },
        "id": "Vb24yMcW-I2x",
        "outputId": "9c8276ce-25a3-482b-db51-ea942330a4bb"
      },
      "execution_count": null,
      "outputs": [
        {
          "output_type": "stream",
          "name": "stdout",
          "text": [
            "queue is empty now, cant dequeue\n",
            "None\n",
            "Initial queue\n",
            "[0, 1, 2, 3, 4] 0 5\n",
            "[0, 1, 2, 3, 4]\n",
            "0\n",
            "1\n",
            "2\n",
            "3\n",
            "4\n",
            "5\n",
            "After removing an data from the queue\n",
            "[None, 6, 7, None, None] 6 8\n",
            "[6, 7]\n"
          ]
        }
      ]
    },
    {
      "cell_type": "markdown",
      "source": [
        "# Application of Stack"
      ],
      "metadata": {
        "id": "TkgLn0WFajG4"
      }
    },
    {
      "cell_type": "code",
      "source": [
        "# Reverse array by stack\n",
        "def reverse(arr):\n",
        "  buffer = ArrayStack()\n",
        "  for x in arr:\n",
        "    buffer.push(x)\n",
        "  for x in range(0, len(arr)):\n",
        "    arr[x]=buffer.pop()\n",
        "\n",
        "s=[1,2,3,4]\n",
        "print(\"before reverse:\")\n",
        "print(s)\n",
        "reverse(s)\n",
        "print(\"after reverse:\")\n",
        "print(s)"
      ],
      "metadata": {
        "colab": {
          "base_uri": "https://localhost:8080/"
        },
        "id": "3Cu8LAjpYIRX",
        "outputId": "c04fdc40-4d60-4832-9155-d3ba7c9a534c"
      },
      "execution_count": null,
      "outputs": [
        {
          "output_type": "stream",
          "name": "stdout",
          "text": [
            "before reverse:\n",
            "[1, 2, 3, 4]\n",
            "after reverse:\n",
            "[4, 3, 2, 1]\n"
          ]
        }
      ]
    },
    {
      "cell_type": "code",
      "source": [
        "# Bracket check program\n",
        "pair=[(\"{\",\"}\"),(\"(\",\")\"),(\"[\",\"]\")]\n",
        "# just a for loop to create list\n",
        "openbr=[u[0] for u in pair]\n",
        "closebr=[u[1] for u in pair]\n",
        "\n",
        "def check_bracket_stack(arr):\n",
        "  stk=ArrayStack()\n",
        "  for j, u in enumerate(arr):\n",
        "    if u in openbr:\n",
        "      stk.push(u) # push, concate at the beginning of an array stack\n",
        "      continue\n",
        "    if u in closebr:\n",
        "      r=stk.pop() # pop, get the first item in array\n",
        "      # check bracket\n",
        "      foundpair=False\n",
        "      for i in pair: # find the pair bracket\n",
        "        if i==(r,u):\n",
        "          foundpair=True\n",
        "          break\n",
        "      if(foundpair == False):\n",
        "        print(f\"\\nError! bracket not balance at posistion: {j}\")\n",
        "        return False\n",
        "    print(\"char:\"+u+ \"    stack:\"+str(stk.display_all()))\n",
        "\n",
        "  if(stk.empty()):\n",
        "    return True\n",
        "  print(\"\\nError! bracket closing not found\")\n",
        "  return False\n",
        "\n",
        "z=check_bracket_stack(\"[a{b/(c-d)+e/(f+g)}-h]\")\n",
        "#z=check_bracket_stack(\"{a[b+(c+2)/d]+e}+f}\")\n",
        "#z=check_bracket_stack(\"[a{b+[c(d+e)-f]+g}\")\n",
        "print(f\"\\nreturn after bracket stack: {z}\")"
      ],
      "metadata": {
        "colab": {
          "base_uri": "https://localhost:8080/"
        },
        "id": "yeedJSDTYL1i",
        "outputId": "65be863e-0bec-4cd2-97fe-2e39b0730a9c"
      },
      "execution_count": null,
      "outputs": [
        {
          "output_type": "stream",
          "name": "stdout",
          "text": [
            "char:a    stack:[ -> \n",
            "char:b    stack:[ -> { -> \n",
            "char:/    stack:[ -> { -> \n",
            "char:c    stack:[ -> { -> ( -> \n",
            "char:-    stack:[ -> { -> ( -> \n",
            "char:d    stack:[ -> { -> ( -> \n",
            "char:)    stack:[ -> { -> \n",
            "char:+    stack:[ -> { -> \n",
            "char:e    stack:[ -> { -> \n",
            "char:/    stack:[ -> { -> \n",
            "char:f    stack:[ -> { -> ( -> \n",
            "char:+    stack:[ -> { -> ( -> \n",
            "char:g    stack:[ -> { -> ( -> \n",
            "char:)    stack:[ -> { -> \n",
            "char:}    stack:[ -> \n",
            "char:-    stack:[ -> \n",
            "char:h    stack:[ -> \n",
            "stack is empty\n",
            "char:]    stack:None\n",
            "\n",
            "return after bracket stack: True\n"
          ]
        }
      ]
    }
  ]
}